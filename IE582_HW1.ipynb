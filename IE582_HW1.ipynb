{
 "cells": [
  {
   "cell_type": "code",
   "execution_count": 1,
   "metadata": {},
   "outputs": [],
   "source": [
    "import numpy as np\n",
    "import pandas as pd"
   ]
  },
  {
   "cell_type": "code",
   "execution_count": 34,
   "metadata": {},
   "outputs": [],
   "source": [
    "bets = pd.read_csv(\"bets.csv\")"
   ]
  },
  {
   "cell_type": "code",
   "execution_count": 4,
   "metadata": {},
   "outputs": [],
   "source": [
    "booking = pd.read_csv(\"booking.csv\")"
   ]
  },
  {
   "cell_type": "code",
   "execution_count": 5,
   "metadata": {},
   "outputs": [],
   "source": [
    "goals = pd.read_csv(\"goals.csv\")"
   ]
  },
  {
   "cell_type": "code",
   "execution_count": 6,
   "metadata": {},
   "outputs": [],
   "source": [
    "matches = pd.read_csv(\"matches.csv\")"
   ]
  },
  {
   "cell_type": "code",
   "execution_count": 7,
   "metadata": {},
   "outputs": [],
   "source": [
    "stats = pd.read_csv(\"stats.csv\")"
   ]
  },
  {
   "cell_type": "code",
   "execution_count": 8,
   "metadata": {
    "scrolled": false
   },
   "outputs": [
    {
     "data": {
      "text/html": [
       "<div>\n",
       "<style scoped>\n",
       "    .dataframe tbody tr th:only-of-type {\n",
       "        vertical-align: middle;\n",
       "    }\n",
       "\n",
       "    .dataframe tbody tr th {\n",
       "        vertical-align: top;\n",
       "    }\n",
       "\n",
       "    .dataframe thead th {\n",
       "        text-align: right;\n",
       "    }\n",
       "</style>\n",
       "<table border=\"1\" class=\"dataframe\">\n",
       "  <thead>\n",
       "    <tr style=\"text-align: right;\">\n",
       "      <th></th>\n",
       "      <th>match_id</th>\n",
       "      <th>odd_bookmakers</th>\n",
       "      <th>odd_epoch</th>\n",
       "      <th>variable</th>\n",
       "      <th>value</th>\n",
       "    </tr>\n",
       "  </thead>\n",
       "  <tbody>\n",
       "    <tr>\n",
       "      <th>0</th>\n",
       "      <td>146845</td>\n",
       "      <td>BetOlimp</td>\n",
       "      <td>1486301854</td>\n",
       "      <td>odd_1</td>\n",
       "      <td>1.96</td>\n",
       "    </tr>\n",
       "    <tr>\n",
       "      <th>1</th>\n",
       "      <td>151780</td>\n",
       "      <td>10Bet</td>\n",
       "      <td>1486314920</td>\n",
       "      <td>odd_1</td>\n",
       "      <td>2.15</td>\n",
       "    </tr>\n",
       "    <tr>\n",
       "      <th>2</th>\n",
       "      <td>151780</td>\n",
       "      <td>18bet</td>\n",
       "      <td>1486314920</td>\n",
       "      <td>odd_1</td>\n",
       "      <td>2.17</td>\n",
       "    </tr>\n",
       "    <tr>\n",
       "      <th>3</th>\n",
       "      <td>151780</td>\n",
       "      <td>1xBet</td>\n",
       "      <td>1486314920</td>\n",
       "      <td>odd_1</td>\n",
       "      <td>2.20</td>\n",
       "    </tr>\n",
       "    <tr>\n",
       "      <th>4</th>\n",
       "      <td>151780</td>\n",
       "      <td>5Dimes</td>\n",
       "      <td>1486314920</td>\n",
       "      <td>odd_1</td>\n",
       "      <td>2.23</td>\n",
       "    </tr>\n",
       "  </tbody>\n",
       "</table>\n",
       "</div>"
      ],
      "text/plain": [
       "   match_id odd_bookmakers   odd_epoch variable  value\n",
       "0    146845       BetOlimp  1486301854    odd_1   1.96\n",
       "1    151780          10Bet  1486314920    odd_1   2.15\n",
       "2    151780          18bet  1486314920    odd_1   2.17\n",
       "3    151780          1xBet  1486314920    odd_1   2.20\n",
       "4    151780         5Dimes  1486314920    odd_1   2.23"
      ]
     },
     "execution_count": 8,
     "metadata": {},
     "output_type": "execute_result"
    }
   ],
   "source": [
    "bets.head()"
   ]
  },
  {
   "cell_type": "code",
   "execution_count": 13,
   "metadata": {
    "scrolled": false
   },
   "outputs": [
    {
     "data": {
      "text/html": [
       "<div>\n",
       "<style scoped>\n",
       "    .dataframe tbody tr th:only-of-type {\n",
       "        vertical-align: middle;\n",
       "    }\n",
       "\n",
       "    .dataframe tbody tr th {\n",
       "        vertical-align: top;\n",
       "    }\n",
       "\n",
       "    .dataframe thead th {\n",
       "        text-align: right;\n",
       "    }\n",
       "</style>\n",
       "<table border=\"1\" class=\"dataframe\">\n",
       "  <thead>\n",
       "    <tr style=\"text-align: right;\">\n",
       "      <th></th>\n",
       "      <th>match_awayteam_id</th>\n",
       "      <th>match_hometeam_id</th>\n",
       "      <th>match_id</th>\n",
       "      <th>epoch</th>\n",
       "      <th>match_status</th>\n",
       "      <th>match_live</th>\n",
       "      <th>match_hometeam_name</th>\n",
       "      <th>match_awayteam_name</th>\n",
       "      <th>match_hometeam_score</th>\n",
       "      <th>match_awayteam_score</th>\n",
       "      <th>match_hometeam_halftime_score</th>\n",
       "      <th>match_awayteam_halftime_score</th>\n",
       "      <th>match_hometeam_extra_score</th>\n",
       "      <th>match_awayteam_extra_score</th>\n",
       "      <th>match_hometeam_penalty_score</th>\n",
       "      <th>match_awayteam_penalty_score</th>\n",
       "      <th>league_id</th>\n",
       "    </tr>\n",
       "  </thead>\n",
       "  <tbody>\n",
       "    <tr>\n",
       "      <th>0</th>\n",
       "      <td>7109</td>\n",
       "      <td>7097</td>\n",
       "      <td>41196</td>\n",
       "      <td>1505559600</td>\n",
       "      <td>Finished</td>\n",
       "      <td>0</td>\n",
       "      <td>Levante</td>\n",
       "      <td>Valencia</td>\n",
       "      <td>1.0</td>\n",
       "      <td>1.0</td>\n",
       "      <td>1.0</td>\n",
       "      <td>1.0</td>\n",
       "      <td>1.0</td>\n",
       "      <td>1.0</td>\n",
       "      <td>NaN</td>\n",
       "      <td>NaN</td>\n",
       "      <td>468</td>\n",
       "    </tr>\n",
       "    <tr>\n",
       "      <th>1</th>\n",
       "      <td>2614</td>\n",
       "      <td>2619</td>\n",
       "      <td>13331</td>\n",
       "      <td>1505561400</td>\n",
       "      <td>Finished</td>\n",
       "      <td>0</td>\n",
       "      <td>Crystal Palace</td>\n",
       "      <td>Southampton</td>\n",
       "      <td>0.0</td>\n",
       "      <td>1.0</td>\n",
       "      <td>0.0</td>\n",
       "      <td>1.0</td>\n",
       "      <td>0.0</td>\n",
       "      <td>1.0</td>\n",
       "      <td>NaN</td>\n",
       "      <td>NaN</td>\n",
       "      <td>148</td>\n",
       "    </tr>\n",
       "    <tr>\n",
       "      <th>2</th>\n",
       "      <td>3224</td>\n",
       "      <td>3238</td>\n",
       "      <td>17683</td>\n",
       "      <td>1505568600</td>\n",
       "      <td>Finished</td>\n",
       "      <td>0</td>\n",
       "      <td>Eintracht Frankfurt</td>\n",
       "      <td>FC Augsburg</td>\n",
       "      <td>1.0</td>\n",
       "      <td>2.0</td>\n",
       "      <td>0.0</td>\n",
       "      <td>1.0</td>\n",
       "      <td>0.0</td>\n",
       "      <td>1.0</td>\n",
       "      <td>NaN</td>\n",
       "      <td>NaN</td>\n",
       "      <td>195</td>\n",
       "    </tr>\n",
       "    <tr>\n",
       "      <th>3</th>\n",
       "      <td>3235</td>\n",
       "      <td>3223</td>\n",
       "      <td>17684</td>\n",
       "      <td>1505568600</td>\n",
       "      <td>Finished</td>\n",
       "      <td>0</td>\n",
       "      <td>SV Werder Bremen</td>\n",
       "      <td>Schalke</td>\n",
       "      <td>1.0</td>\n",
       "      <td>2.0</td>\n",
       "      <td>1.0</td>\n",
       "      <td>1.0</td>\n",
       "      <td>1.0</td>\n",
       "      <td>1.0</td>\n",
       "      <td>NaN</td>\n",
       "      <td>NaN</td>\n",
       "      <td>195</td>\n",
       "    </tr>\n",
       "    <tr>\n",
       "      <th>4</th>\n",
       "      <td>3237</td>\n",
       "      <td>3225</td>\n",
       "      <td>17682</td>\n",
       "      <td>1505568600</td>\n",
       "      <td>Finished</td>\n",
       "      <td>0</td>\n",
       "      <td>Bayern Munich</td>\n",
       "      <td>1. FSV Mainz 05</td>\n",
       "      <td>4.0</td>\n",
       "      <td>0.0</td>\n",
       "      <td>2.0</td>\n",
       "      <td>0.0</td>\n",
       "      <td>2.0</td>\n",
       "      <td>0.0</td>\n",
       "      <td>NaN</td>\n",
       "      <td>NaN</td>\n",
       "      <td>195</td>\n",
       "    </tr>\n",
       "  </tbody>\n",
       "</table>\n",
       "</div>"
      ],
      "text/plain": [
       "   match_awayteam_id  match_hometeam_id  match_id       epoch match_status  \\\n",
       "0               7109               7097     41196  1505559600     Finished   \n",
       "1               2614               2619     13331  1505561400     Finished   \n",
       "2               3224               3238     17683  1505568600     Finished   \n",
       "3               3235               3223     17684  1505568600     Finished   \n",
       "4               3237               3225     17682  1505568600     Finished   \n",
       "\n",
       "   match_live  match_hometeam_name match_awayteam_name  match_hometeam_score  \\\n",
       "0           0              Levante            Valencia                   1.0   \n",
       "1           0       Crystal Palace         Southampton                   0.0   \n",
       "2           0  Eintracht Frankfurt         FC Augsburg                   1.0   \n",
       "3           0     SV Werder Bremen             Schalke                   1.0   \n",
       "4           0        Bayern Munich     1. FSV Mainz 05                   4.0   \n",
       "\n",
       "   match_awayteam_score  match_hometeam_halftime_score  \\\n",
       "0                   1.0                            1.0   \n",
       "1                   1.0                            0.0   \n",
       "2                   2.0                            0.0   \n",
       "3                   2.0                            1.0   \n",
       "4                   0.0                            2.0   \n",
       "\n",
       "   match_awayteam_halftime_score  match_hometeam_extra_score  \\\n",
       "0                            1.0                         1.0   \n",
       "1                            1.0                         0.0   \n",
       "2                            1.0                         0.0   \n",
       "3                            1.0                         1.0   \n",
       "4                            0.0                         2.0   \n",
       "\n",
       "   match_awayteam_extra_score  match_hometeam_penalty_score  \\\n",
       "0                         1.0                           NaN   \n",
       "1                         1.0                           NaN   \n",
       "2                         1.0                           NaN   \n",
       "3                         1.0                           NaN   \n",
       "4                         0.0                           NaN   \n",
       "\n",
       "   match_awayteam_penalty_score  league_id  \n",
       "0                           NaN        468  \n",
       "1                           NaN        148  \n",
       "2                           NaN        195  \n",
       "3                           NaN        195  \n",
       "4                           NaN        195  "
      ]
     },
     "execution_count": 13,
     "metadata": {},
     "output_type": "execute_result"
    }
   ],
   "source": [
    "matches.head()"
   ]
  },
  {
   "cell_type": "code",
   "execution_count": 14,
   "metadata": {},
   "outputs": [],
   "source": [
    "premier_league = matches[matches[\"league_id\"]==148].copy()"
   ]
  },
  {
   "cell_type": "code",
   "execution_count": 15,
   "metadata": {
    "scrolled": false
   },
   "outputs": [
    {
     "data": {
      "text/html": [
       "<div>\n",
       "<style scoped>\n",
       "    .dataframe tbody tr th:only-of-type {\n",
       "        vertical-align: middle;\n",
       "    }\n",
       "\n",
       "    .dataframe tbody tr th {\n",
       "        vertical-align: top;\n",
       "    }\n",
       "\n",
       "    .dataframe thead th {\n",
       "        text-align: right;\n",
       "    }\n",
       "</style>\n",
       "<table border=\"1\" class=\"dataframe\">\n",
       "  <thead>\n",
       "    <tr style=\"text-align: right;\">\n",
       "      <th></th>\n",
       "      <th>match_awayteam_id</th>\n",
       "      <th>match_hometeam_id</th>\n",
       "      <th>match_id</th>\n",
       "      <th>epoch</th>\n",
       "      <th>match_status</th>\n",
       "      <th>match_live</th>\n",
       "      <th>match_hometeam_name</th>\n",
       "      <th>match_awayteam_name</th>\n",
       "      <th>match_hometeam_score</th>\n",
       "      <th>match_awayteam_score</th>\n",
       "      <th>match_hometeam_halftime_score</th>\n",
       "      <th>match_awayteam_halftime_score</th>\n",
       "      <th>match_hometeam_extra_score</th>\n",
       "      <th>match_awayteam_extra_score</th>\n",
       "      <th>match_hometeam_penalty_score</th>\n",
       "      <th>match_awayteam_penalty_score</th>\n",
       "      <th>league_id</th>\n",
       "    </tr>\n",
       "  </thead>\n",
       "  <tbody>\n",
       "    <tr>\n",
       "      <th>1</th>\n",
       "      <td>2614</td>\n",
       "      <td>2619</td>\n",
       "      <td>13331</td>\n",
       "      <td>1505561400</td>\n",
       "      <td>Finished</td>\n",
       "      <td>0</td>\n",
       "      <td>Crystal Palace</td>\n",
       "      <td>Southampton</td>\n",
       "      <td>0.0</td>\n",
       "      <td>1.0</td>\n",
       "      <td>0.0</td>\n",
       "      <td>1.0</td>\n",
       "      <td>0.0</td>\n",
       "      <td>1.0</td>\n",
       "      <td>NaN</td>\n",
       "      <td>NaN</td>\n",
       "      <td>148</td>\n",
       "    </tr>\n",
       "    <tr>\n",
       "      <th>5</th>\n",
       "      <td>2626</td>\n",
       "      <td>2623</td>\n",
       "      <td>13329</td>\n",
       "      <td>1505570400</td>\n",
       "      <td>Finished</td>\n",
       "      <td>0</td>\n",
       "      <td>Watford</td>\n",
       "      <td>Manchester City</td>\n",
       "      <td>0.0</td>\n",
       "      <td>6.0</td>\n",
       "      <td>0.0</td>\n",
       "      <td>3.0</td>\n",
       "      <td>0.0</td>\n",
       "      <td>3.0</td>\n",
       "      <td>NaN</td>\n",
       "      <td>NaN</td>\n",
       "      <td>148</td>\n",
       "    </tr>\n",
       "    <tr>\n",
       "      <th>6</th>\n",
       "      <td>2629</td>\n",
       "      <td>2621</td>\n",
       "      <td>13327</td>\n",
       "      <td>1505570400</td>\n",
       "      <td>Finished</td>\n",
       "      <td>0</td>\n",
       "      <td>Liverpool</td>\n",
       "      <td>Burnley</td>\n",
       "      <td>1.0</td>\n",
       "      <td>1.0</td>\n",
       "      <td>1.0</td>\n",
       "      <td>1.0</td>\n",
       "      <td>1.0</td>\n",
       "      <td>1.0</td>\n",
       "      <td>NaN</td>\n",
       "      <td>NaN</td>\n",
       "      <td>148</td>\n",
       "    </tr>\n",
       "    <tr>\n",
       "      <th>7</th>\n",
       "      <td>2641</td>\n",
       "      <td>2654</td>\n",
       "      <td>13456</td>\n",
       "      <td>1505570400</td>\n",
       "      <td>Finished</td>\n",
       "      <td>0</td>\n",
       "      <td>Sheffield Utd</td>\n",
       "      <td>Norwich</td>\n",
       "      <td>0.0</td>\n",
       "      <td>1.0</td>\n",
       "      <td>0.0</td>\n",
       "      <td>1.0</td>\n",
       "      <td>0.0</td>\n",
       "      <td>1.0</td>\n",
       "      <td>NaN</td>\n",
       "      <td>NaN</td>\n",
       "      <td>148</td>\n",
       "    </tr>\n",
       "    <tr>\n",
       "      <th>27</th>\n",
       "      <td>2617</td>\n",
       "      <td>2616</td>\n",
       "      <td>13324</td>\n",
       "      <td>1505651400</td>\n",
       "      <td>Finished</td>\n",
       "      <td>0</td>\n",
       "      <td>Chelsea</td>\n",
       "      <td>Arsenal</td>\n",
       "      <td>0.0</td>\n",
       "      <td>0.0</td>\n",
       "      <td>0.0</td>\n",
       "      <td>0.0</td>\n",
       "      <td>0.0</td>\n",
       "      <td>0.0</td>\n",
       "      <td>NaN</td>\n",
       "      <td>NaN</td>\n",
       "      <td>148</td>\n",
       "    </tr>\n",
       "  </tbody>\n",
       "</table>\n",
       "</div>"
      ],
      "text/plain": [
       "    match_awayteam_id  match_hometeam_id  match_id       epoch match_status  \\\n",
       "1                2614               2619     13331  1505561400     Finished   \n",
       "5                2626               2623     13329  1505570400     Finished   \n",
       "6                2629               2621     13327  1505570400     Finished   \n",
       "7                2641               2654     13456  1505570400     Finished   \n",
       "27               2617               2616     13324  1505651400     Finished   \n",
       "\n",
       "    match_live match_hometeam_name match_awayteam_name  match_hometeam_score  \\\n",
       "1            0      Crystal Palace         Southampton                   0.0   \n",
       "5            0             Watford     Manchester City                   0.0   \n",
       "6            0           Liverpool             Burnley                   1.0   \n",
       "7            0       Sheffield Utd             Norwich                   0.0   \n",
       "27           0             Chelsea             Arsenal                   0.0   \n",
       "\n",
       "    match_awayteam_score  match_hometeam_halftime_score  \\\n",
       "1                    1.0                            0.0   \n",
       "5                    6.0                            0.0   \n",
       "6                    1.0                            1.0   \n",
       "7                    1.0                            0.0   \n",
       "27                   0.0                            0.0   \n",
       "\n",
       "    match_awayteam_halftime_score  match_hometeam_extra_score  \\\n",
       "1                             1.0                         0.0   \n",
       "5                             3.0                         0.0   \n",
       "6                             1.0                         1.0   \n",
       "7                             1.0                         0.0   \n",
       "27                            0.0                         0.0   \n",
       "\n",
       "    match_awayteam_extra_score  match_hometeam_penalty_score  \\\n",
       "1                          1.0                           NaN   \n",
       "5                          3.0                           NaN   \n",
       "6                          1.0                           NaN   \n",
       "7                          1.0                           NaN   \n",
       "27                         0.0                           NaN   \n",
       "\n",
       "    match_awayteam_penalty_score  league_id  \n",
       "1                            NaN        148  \n",
       "5                            NaN        148  \n",
       "6                            NaN        148  \n",
       "7                            NaN        148  \n",
       "27                           NaN        148  "
      ]
     },
     "execution_count": 15,
     "metadata": {},
     "output_type": "execute_result"
    }
   ],
   "source": [
    "premier_league.head()"
   ]
  },
  {
   "cell_type": "code",
   "execution_count": 17,
   "metadata": {
    "scrolled": true
   },
   "outputs": [
    {
     "data": {
      "text/html": [
       "<div>\n",
       "<style scoped>\n",
       "    .dataframe tbody tr th:only-of-type {\n",
       "        vertical-align: middle;\n",
       "    }\n",
       "\n",
       "    .dataframe tbody tr th {\n",
       "        vertical-align: top;\n",
       "    }\n",
       "\n",
       "    .dataframe thead th {\n",
       "        text-align: right;\n",
       "    }\n",
       "</style>\n",
       "<table border=\"1\" class=\"dataframe\">\n",
       "  <thead>\n",
       "    <tr style=\"text-align: right;\">\n",
       "      <th></th>\n",
       "      <th>match_awayteam_id</th>\n",
       "      <th>match_hometeam_id</th>\n",
       "      <th>match_id</th>\n",
       "      <th>epoch</th>\n",
       "      <th>match_status</th>\n",
       "      <th>match_live</th>\n",
       "      <th>match_hometeam_name</th>\n",
       "      <th>match_awayteam_name</th>\n",
       "      <th>match_hometeam_score</th>\n",
       "      <th>match_awayteam_score</th>\n",
       "      <th>match_hometeam_halftime_score</th>\n",
       "      <th>match_awayteam_halftime_score</th>\n",
       "      <th>match_hometeam_extra_score</th>\n",
       "      <th>match_awayteam_extra_score</th>\n",
       "      <th>match_hometeam_penalty_score</th>\n",
       "      <th>match_awayteam_penalty_score</th>\n",
       "      <th>league_id</th>\n",
       "    </tr>\n",
       "  </thead>\n",
       "  <tbody>\n",
       "    <tr>\n",
       "      <th>1</th>\n",
       "      <td>2614</td>\n",
       "      <td>2619</td>\n",
       "      <td>13331</td>\n",
       "      <td>2017-09-16 11:30:00</td>\n",
       "      <td>Finished</td>\n",
       "      <td>0</td>\n",
       "      <td>Crystal Palace</td>\n",
       "      <td>Southampton</td>\n",
       "      <td>0.0</td>\n",
       "      <td>1.0</td>\n",
       "      <td>0.0</td>\n",
       "      <td>1.0</td>\n",
       "      <td>0.0</td>\n",
       "      <td>1.0</td>\n",
       "      <td>NaN</td>\n",
       "      <td>NaN</td>\n",
       "      <td>148</td>\n",
       "    </tr>\n",
       "    <tr>\n",
       "      <th>5</th>\n",
       "      <td>2626</td>\n",
       "      <td>2623</td>\n",
       "      <td>13329</td>\n",
       "      <td>2017-09-16 14:00:00</td>\n",
       "      <td>Finished</td>\n",
       "      <td>0</td>\n",
       "      <td>Watford</td>\n",
       "      <td>Manchester City</td>\n",
       "      <td>0.0</td>\n",
       "      <td>6.0</td>\n",
       "      <td>0.0</td>\n",
       "      <td>3.0</td>\n",
       "      <td>0.0</td>\n",
       "      <td>3.0</td>\n",
       "      <td>NaN</td>\n",
       "      <td>NaN</td>\n",
       "      <td>148</td>\n",
       "    </tr>\n",
       "    <tr>\n",
       "      <th>6</th>\n",
       "      <td>2629</td>\n",
       "      <td>2621</td>\n",
       "      <td>13327</td>\n",
       "      <td>2017-09-16 14:00:00</td>\n",
       "      <td>Finished</td>\n",
       "      <td>0</td>\n",
       "      <td>Liverpool</td>\n",
       "      <td>Burnley</td>\n",
       "      <td>1.0</td>\n",
       "      <td>1.0</td>\n",
       "      <td>1.0</td>\n",
       "      <td>1.0</td>\n",
       "      <td>1.0</td>\n",
       "      <td>1.0</td>\n",
       "      <td>NaN</td>\n",
       "      <td>NaN</td>\n",
       "      <td>148</td>\n",
       "    </tr>\n",
       "    <tr>\n",
       "      <th>7</th>\n",
       "      <td>2641</td>\n",
       "      <td>2654</td>\n",
       "      <td>13456</td>\n",
       "      <td>2017-09-16 14:00:00</td>\n",
       "      <td>Finished</td>\n",
       "      <td>0</td>\n",
       "      <td>Sheffield Utd</td>\n",
       "      <td>Norwich</td>\n",
       "      <td>0.0</td>\n",
       "      <td>1.0</td>\n",
       "      <td>0.0</td>\n",
       "      <td>1.0</td>\n",
       "      <td>0.0</td>\n",
       "      <td>1.0</td>\n",
       "      <td>NaN</td>\n",
       "      <td>NaN</td>\n",
       "      <td>148</td>\n",
       "    </tr>\n",
       "    <tr>\n",
       "      <th>27</th>\n",
       "      <td>2617</td>\n",
       "      <td>2616</td>\n",
       "      <td>13324</td>\n",
       "      <td>2017-09-17 12:30:00</td>\n",
       "      <td>Finished</td>\n",
       "      <td>0</td>\n",
       "      <td>Chelsea</td>\n",
       "      <td>Arsenal</td>\n",
       "      <td>0.0</td>\n",
       "      <td>0.0</td>\n",
       "      <td>0.0</td>\n",
       "      <td>0.0</td>\n",
       "      <td>0.0</td>\n",
       "      <td>0.0</td>\n",
       "      <td>NaN</td>\n",
       "      <td>NaN</td>\n",
       "      <td>148</td>\n",
       "    </tr>\n",
       "  </tbody>\n",
       "</table>\n",
       "</div>"
      ],
      "text/plain": [
       "    match_awayteam_id  match_hometeam_id  match_id               epoch  \\\n",
       "1                2614               2619     13331 2017-09-16 11:30:00   \n",
       "5                2626               2623     13329 2017-09-16 14:00:00   \n",
       "6                2629               2621     13327 2017-09-16 14:00:00   \n",
       "7                2641               2654     13456 2017-09-16 14:00:00   \n",
       "27               2617               2616     13324 2017-09-17 12:30:00   \n",
       "\n",
       "   match_status  match_live match_hometeam_name match_awayteam_name  \\\n",
       "1      Finished           0      Crystal Palace         Southampton   \n",
       "5      Finished           0             Watford     Manchester City   \n",
       "6      Finished           0           Liverpool             Burnley   \n",
       "7      Finished           0       Sheffield Utd             Norwich   \n",
       "27     Finished           0             Chelsea             Arsenal   \n",
       "\n",
       "    match_hometeam_score  match_awayteam_score  match_hometeam_halftime_score  \\\n",
       "1                    0.0                   1.0                            0.0   \n",
       "5                    0.0                   6.0                            0.0   \n",
       "6                    1.0                   1.0                            1.0   \n",
       "7                    0.0                   1.0                            0.0   \n",
       "27                   0.0                   0.0                            0.0   \n",
       "\n",
       "    match_awayteam_halftime_score  match_hometeam_extra_score  \\\n",
       "1                             1.0                         0.0   \n",
       "5                             3.0                         0.0   \n",
       "6                             1.0                         1.0   \n",
       "7                             1.0                         0.0   \n",
       "27                            0.0                         0.0   \n",
       "\n",
       "    match_awayteam_extra_score  match_hometeam_penalty_score  \\\n",
       "1                          1.0                           NaN   \n",
       "5                          3.0                           NaN   \n",
       "6                          1.0                           NaN   \n",
       "7                          1.0                           NaN   \n",
       "27                         0.0                           NaN   \n",
       "\n",
       "    match_awayteam_penalty_score  league_id  \n",
       "1                            NaN        148  \n",
       "5                            NaN        148  \n",
       "6                            NaN        148  \n",
       "7                            NaN        148  \n",
       "27                           NaN        148  "
      ]
     },
     "execution_count": 17,
     "metadata": {},
     "output_type": "execute_result"
    }
   ],
   "source": [
    "premier_league.head()"
   ]
  },
  {
   "cell_type": "code",
   "execution_count": 18,
   "metadata": {},
   "outputs": [],
   "source": [
    "import matplotlib.mlab as mlab\n",
    "import matplotlib.pyplot as plt\n",
    "\n",
    "from scipy.stats import poisson\n",
    "from scipy.stats import norm\n",
    "from scipy.stats import skellam"
   ]
  },
  {
   "cell_type": "code",
   "execution_count": 19,
   "metadata": {},
   "outputs": [],
   "source": [
    "premier_league = matches[matches[\"league_id\"]==148].copy()"
   ]
  },
  {
   "cell_type": "code",
   "execution_count": 20,
   "metadata": {},
   "outputs": [],
   "source": [
    "x = premier_league[\"match_hometeam_score\"].value_counts()\n",
    "total_match = x.sum()\n",
    "mu_home = (x*x.index).sum()/total_match\n",
    "pois = poisson.pmf(np.arange(0,9), mu_home)*total_match"
   ]
  },
  {
   "cell_type": "code",
   "execution_count": 21,
   "metadata": {
    "scrolled": true
   },
   "outputs": [
    {
     "data": {
      "text/plain": [
       "Text(0.5, 1.0, 'Home Score')"
      ]
     },
     "execution_count": 21,
     "metadata": {},
     "output_type": "execute_result"
    },
    {
     "data": {
      "image/png": "[encoded data removed]",
      "text/plain": [
       "<Figure size 432x288 with 1 Axes>"
      ]
     },
     "metadata": {
      "needs_background": "light"
     },
     "output_type": "display_data"
    }
   ],
   "source": [
    "n, bins, patches = plt.hist(premier_league[\"match_hometeam_score\"], np.arange(9), density=False, facecolor='blue', align=\"left\", rwidth=0.8, histtype ='bar')\n",
    "\n",
    "plt.plot(bins, pois, color='red', marker='o', linestyle='dashed', linewidth=1, markersize=6)\n",
    "plt.xlabel('Home Goals')\n",
    "plt.ylabel('Number of Games')\n",
    "plt.title('Home Score')"
   ]
  },
  {
   "cell_type": "code",
   "execution_count": 22,
   "metadata": {},
   "outputs": [],
   "source": [
    "x = premier_league[\"match_awayteam_score\"].value_counts()\n",
    "total_match = x.sum()\n",
    "mu_away = (x*x.index).sum()/total_match\n",
    "pois = poisson.pmf(np.arange(0,9), mu_away)*total_match"
   ]
  },
  {
   "cell_type": "code",
   "execution_count": 23,
   "metadata": {
    "scrolled": true
   },
   "outputs": [
    {
     "data": {
      "text/plain": [
       "Text(0.5, 1.0, 'Away Score')"
      ]
     },
     "execution_count": 23,
     "metadata": {},
     "output_type": "execute_result"
    },
    {
     "data": {
      "image/png": "[encoded data removed]",
      "text/plain": [
       "<Figure size 432x288 with 1 Axes>"
      ]
     },
     "metadata": {
      "needs_background": "light"
     },
     "output_type": "display_data"
    }
   ],
   "source": [
    "n, bins, patches = plt.hist(premier_league[\"match_awayteam_score\"], np.arange(9), density=False, facecolor='blue', align=\"left\", rwidth=0.8, histtype ='bar')\n",
    "\n",
    "plt.plot(bins, pois, color='red', marker='o', linestyle='dashed', linewidth=1, markersize=6)\n",
    "plt.xlabel('Away Goals')\n",
    "plt.ylabel('Number of Games')\n",
    "plt.title('Away Score')"
   ]
  },
  {
   "cell_type": "code",
   "execution_count": 24,
   "metadata": {},
   "outputs": [],
   "source": [
    "min_diff = (premier_league[\"match_hometeam_score\"]-premier_league[\"match_awayteam_score\"]).min()\n",
    "max_diff = (premier_league[\"match_hometeam_score\"]-premier_league[\"match_awayteam_score\"]).max()\n",
    "\n",
    "x = (premier_league[\"match_hometeam_score\"]-premier_league[\"match_awayteam_score\"]).value_counts()\n",
    "total_match = x.sum()\n",
    "skellam = skellam.pmf(np.arange(min_diff, max_diff+1), mu_home, mu_away)*total_match"
   ]
  },
  {
   "cell_type": "code",
   "execution_count": 25,
   "metadata": {
    "scrolled": false
   },
   "outputs": [
    {
     "data": {
      "text/plain": [
       "Text(0.5, 1.0, 'Home Score - Away Score')"
      ]
     },
     "execution_count": 25,
     "metadata": {},
     "output_type": "execute_result"
    },
    {
     "data": {
      "image/png": "[encoded data removed]",
      "text/plain": [
       "<Figure size 432x288 with 1 Axes>"
      ]
     },
     "metadata": {
      "needs_background": "light"
     },
     "output_type": "display_data"
    }
   ],
   "source": [
    "n, bins, patches = plt.hist((premier_league[\"match_hometeam_score\"]-premier_league[\"match_awayteam_score\"]), np.arange(min_diff, max_diff+1), density=False, facecolor='blue', align=\"left\", rwidth=0.8, histtype ='bar')\n",
    "\n",
    "plt.plot(bins, skellam, color='red', marker='o', linestyle='dashed', linewidth=1, markersize=6)\n",
    "plt.xlabel('Home Goals - Away Goals')\n",
    "plt.ylabel('Number of Games')\n",
    "plt.title('Home Score - Away Score')"
   ]
  },
  {
   "cell_type": "code",
   "execution_count": 33,
   "metadata": {
    "scrolled": false
   },
   "outputs": [
    {
     "data": {
      "text/html": [
       "<div>\n",
       "<style scoped>\n",
       "    .dataframe tbody tr th:only-of-type {\n",
       "        vertical-align: middle;\n",
       "    }\n",
       "\n",
       "    .dataframe tbody tr th {\n",
       "        vertical-align: top;\n",
       "    }\n",
       "\n",
       "    .dataframe thead th {\n",
       "        text-align: right;\n",
       "    }\n",
       "</style>\n",
       "<table border=\"1\" class=\"dataframe\">\n",
       "  <thead>\n",
       "    <tr style=\"text-align: right;\">\n",
       "      <th></th>\n",
       "      <th>match_awayteam_id</th>\n",
       "      <th>match_hometeam_id</th>\n",
       "      <th>match_id</th>\n",
       "      <th>epoch</th>\n",
       "      <th>match_status</th>\n",
       "      <th>match_live</th>\n",
       "      <th>match_hometeam_name</th>\n",
       "      <th>match_awayteam_name</th>\n",
       "      <th>match_hometeam_score</th>\n",
       "      <th>match_awayteam_score</th>\n",
       "      <th>match_hometeam_halftime_score</th>\n",
       "      <th>match_awayteam_halftime_score</th>\n",
       "      <th>match_hometeam_extra_score</th>\n",
       "      <th>match_awayteam_extra_score</th>\n",
       "      <th>match_hometeam_penalty_score</th>\n",
       "      <th>match_awayteam_penalty_score</th>\n",
       "      <th>league_id</th>\n",
       "    </tr>\n",
       "  </thead>\n",
       "  <tbody>\n",
       "    <tr>\n",
       "      <th>1</th>\n",
       "      <td>2614</td>\n",
       "      <td>2619</td>\n",
       "      <td>13331</td>\n",
       "      <td>1505561400</td>\n",
       "      <td>Finished</td>\n",
       "      <td>0</td>\n",
       "      <td>Crystal Palace</td>\n",
       "      <td>Southampton</td>\n",
       "      <td>0.0</td>\n",
       "      <td>1.0</td>\n",
       "      <td>0.0</td>\n",
       "      <td>1.0</td>\n",
       "      <td>0.0</td>\n",
       "      <td>1.0</td>\n",
       "      <td>NaN</td>\n",
       "      <td>NaN</td>\n",
       "      <td>148</td>\n",
       "    </tr>\n",
       "    <tr>\n",
       "      <th>5</th>\n",
       "      <td>2626</td>\n",
       "      <td>2623</td>\n",
       "      <td>13329</td>\n",
       "      <td>1505570400</td>\n",
       "      <td>Finished</td>\n",
       "      <td>0</td>\n",
       "      <td>Watford</td>\n",
       "      <td>Manchester City</td>\n",
       "      <td>0.0</td>\n",
       "      <td>6.0</td>\n",
       "      <td>0.0</td>\n",
       "      <td>3.0</td>\n",
       "      <td>0.0</td>\n",
       "      <td>3.0</td>\n",
       "      <td>NaN</td>\n",
       "      <td>NaN</td>\n",
       "      <td>148</td>\n",
       "    </tr>\n",
       "    <tr>\n",
       "      <th>6</th>\n",
       "      <td>2629</td>\n",
       "      <td>2621</td>\n",
       "      <td>13327</td>\n",
       "      <td>1505570400</td>\n",
       "      <td>Finished</td>\n",
       "      <td>0</td>\n",
       "      <td>Liverpool</td>\n",
       "      <td>Burnley</td>\n",
       "      <td>1.0</td>\n",
       "      <td>1.0</td>\n",
       "      <td>1.0</td>\n",
       "      <td>1.0</td>\n",
       "      <td>1.0</td>\n",
       "      <td>1.0</td>\n",
       "      <td>NaN</td>\n",
       "      <td>NaN</td>\n",
       "      <td>148</td>\n",
       "    </tr>\n",
       "    <tr>\n",
       "      <th>7</th>\n",
       "      <td>2641</td>\n",
       "      <td>2654</td>\n",
       "      <td>13456</td>\n",
       "      <td>1505570400</td>\n",
       "      <td>Finished</td>\n",
       "      <td>0</td>\n",
       "      <td>Sheffield Utd</td>\n",
       "      <td>Norwich</td>\n",
       "      <td>0.0</td>\n",
       "      <td>1.0</td>\n",
       "      <td>0.0</td>\n",
       "      <td>1.0</td>\n",
       "      <td>0.0</td>\n",
       "      <td>1.0</td>\n",
       "      <td>NaN</td>\n",
       "      <td>NaN</td>\n",
       "      <td>148</td>\n",
       "    </tr>\n",
       "    <tr>\n",
       "      <th>27</th>\n",
       "      <td>2617</td>\n",
       "      <td>2616</td>\n",
       "      <td>13324</td>\n",
       "      <td>1505651400</td>\n",
       "      <td>Finished</td>\n",
       "      <td>0</td>\n",
       "      <td>Chelsea</td>\n",
       "      <td>Arsenal</td>\n",
       "      <td>0.0</td>\n",
       "      <td>0.0</td>\n",
       "      <td>0.0</td>\n",
       "      <td>0.0</td>\n",
       "      <td>0.0</td>\n",
       "      <td>0.0</td>\n",
       "      <td>NaN</td>\n",
       "      <td>NaN</td>\n",
       "      <td>148</td>\n",
       "    </tr>\n",
       "  </tbody>\n",
       "</table>\n",
       "</div>"
      ],
      "text/plain": [
       "    match_awayteam_id  match_hometeam_id  match_id       epoch match_status  \\\n",
       "1                2614               2619     13331  1505561400     Finished   \n",
       "5                2626               2623     13329  1505570400     Finished   \n",
       "6                2629               2621     13327  1505570400     Finished   \n",
       "7                2641               2654     13456  1505570400     Finished   \n",
       "27               2617               2616     13324  1505651400     Finished   \n",
       "\n",
       "    match_live match_hometeam_name match_awayteam_name  match_hometeam_score  \\\n",
       "1            0      Crystal Palace         Southampton                   0.0   \n",
       "5            0             Watford     Manchester City                   0.0   \n",
       "6            0           Liverpool             Burnley                   1.0   \n",
       "7            0       Sheffield Utd             Norwich                   0.0   \n",
       "27           0             Chelsea             Arsenal                   0.0   \n",
       "\n",
       "    match_awayteam_score  match_hometeam_halftime_score  \\\n",
       "1                    1.0                            0.0   \n",
       "5                    6.0                            0.0   \n",
       "6                    1.0                            1.0   \n",
       "7                    1.0                            0.0   \n",
       "27                   0.0                            0.0   \n",
       "\n",
       "    match_awayteam_halftime_score  match_hometeam_extra_score  \\\n",
       "1                             1.0                         0.0   \n",
       "5                             3.0                         0.0   \n",
       "6                             1.0                         1.0   \n",
       "7                             1.0                         0.0   \n",
       "27                            0.0                         0.0   \n",
       "\n",
       "    match_awayteam_extra_score  match_hometeam_penalty_score  \\\n",
       "1                          1.0                           NaN   \n",
       "5                          3.0                           NaN   \n",
       "6                          1.0                           NaN   \n",
       "7                          1.0                           NaN   \n",
       "27                         0.0                           NaN   \n",
       "\n",
       "    match_awayteam_penalty_score  league_id  \n",
       "1                            NaN        148  \n",
       "5                            NaN        148  \n",
       "6                            NaN        148  \n",
       "7                            NaN        148  \n",
       "27                           NaN        148  "
      ]
     },
     "execution_count": 33,
     "metadata": {},
     "output_type": "execute_result"
    }
   ],
   "source": [
    "premier_league.head()"
   ]
  },
  {
   "cell_type": "code",
   "execution_count": 31,
   "metadata": {
    "scrolled": false
   },
   "outputs": [
    {
     "data": {
      "text/plain": [
       "1xBet            120197\n",
       "18bet             76430\n",
       "Marathonbet       69138\n",
       "bet365            68004\n",
       "Unibet            60130\n",
       "10Bet             58991\n",
       "bet365.it         58397\n",
       "Bethard           57722\n",
       "Chance.cz         57575\n",
       "888sport          57161\n",
       "Tipsport.cz       55505\n",
       "BetVictor         52969\n",
       "Tipsport.sk       52723\n",
       "bwin              48283\n",
       "Betsson           46514\n",
       "Betsafe           44927\n",
       "SAZKAbet.cz       42213\n",
       "bet-at-home       41637\n",
       "Betclic           40734\n",
       "ComeOn            40065\n",
       "Betfred           39392\n",
       "Oddsring          38910\n",
       "Leonbets          38095\n",
       "Betfair           38047\n",
       "Betway            38004\n",
       "bwin.es           35079\n",
       "Jetbull           33299\n",
       "Asianodds         32116\n",
       "Coolbet           29809\n",
       "188BET            29440\n",
       "                  ...  \n",
       "TonyBet            4370\n",
       "VonBets            4338\n",
       "Noxwin             3835\n",
       "Tipico.it          3804\n",
       "Winner             3593\n",
       "Bestbet            3574\n",
       "Tempobet           3526\n",
       "Betcruise          3273\n",
       "Marsbet            2927\n",
       "Jojobet            2836\n",
       "Island Casino      2748\n",
       "Dotabet            2642\n",
       "ScandiBet          2577\n",
       "Planetwin365       2277\n",
       "Betclic.it         2118\n",
       "bwin.it            2035\n",
       "Luxbet             1938\n",
       "Betser             1398\n",
       "BetGun             1354\n",
       "BetEast            1345\n",
       "Tipbet             1339\n",
       "DOXXbet            1300\n",
       "BetOnline          1113\n",
       "BetCity             522\n",
       "Kto.com             377\n",
       "Sportium            174\n",
       "Bovada              148\n",
       "Planetwin           131\n",
       "Guts                 64\n",
       "betcart              56\n",
       "Name: odd_bookmakers, Length: 103, dtype: int64"
      ]
     },
     "execution_count": 31,
     "metadata": {},
     "output_type": "execute_result"
    }
   ],
   "source": [
    "bets[\"odd_bookmakers\"].value_counts()"
   ]
  },
  {
   "cell_type": "code",
   "execution_count": 224,
   "metadata": {
    "scrolled": false
   },
   "outputs": [
    {
     "data": {
      "text/html": [
       "<div>\n",
       "<style scoped>\n",
       "    .dataframe tbody tr th:only-of-type {\n",
       "        vertical-align: middle;\n",
       "    }\n",
       "\n",
       "    .dataframe tbody tr th {\n",
       "        vertical-align: top;\n",
       "    }\n",
       "\n",
       "    .dataframe thead th {\n",
       "        text-align: right;\n",
       "    }\n",
       "</style>\n",
       "<table border=\"1\" class=\"dataframe\">\n",
       "  <thead>\n",
       "    <tr style=\"text-align: right;\">\n",
       "      <th></th>\n",
       "      <th>match_id</th>\n",
       "      <th>odd_bookmakers</th>\n",
       "      <th>odd_epoch</th>\n",
       "      <th>variable</th>\n",
       "      <th>value</th>\n",
       "    </tr>\n",
       "  </thead>\n",
       "  <tbody>\n",
       "    <tr>\n",
       "      <th>3</th>\n",
       "      <td>151780</td>\n",
       "      <td>1xBet</td>\n",
       "      <td>1486314920</td>\n",
       "      <td>odd_1</td>\n",
       "      <td>2.20</td>\n",
       "    </tr>\n",
       "    <tr>\n",
       "      <th>20</th>\n",
       "      <td>151781</td>\n",
       "      <td>1xBet</td>\n",
       "      <td>1486314941</td>\n",
       "      <td>odd_1</td>\n",
       "      <td>3.04</td>\n",
       "    </tr>\n",
       "    <tr>\n",
       "      <th>38</th>\n",
       "      <td>151780</td>\n",
       "      <td>1xBet</td>\n",
       "      <td>1486314920</td>\n",
       "      <td>odd_x</td>\n",
       "      <td>3.24</td>\n",
       "    </tr>\n",
       "    <tr>\n",
       "      <th>55</th>\n",
       "      <td>151781</td>\n",
       "      <td>1xBet</td>\n",
       "      <td>1486314941</td>\n",
       "      <td>odd_x</td>\n",
       "      <td>3.34</td>\n",
       "    </tr>\n",
       "    <tr>\n",
       "      <th>73</th>\n",
       "      <td>151780</td>\n",
       "      <td>1xBet</td>\n",
       "      <td>1486314920</td>\n",
       "      <td>odd_2</td>\n",
       "      <td>3.88</td>\n",
       "    </tr>\n",
       "  </tbody>\n",
       "</table>\n",
       "</div>"
      ],
      "text/plain": [
       "    match_id odd_bookmakers   odd_epoch variable  value\n",
       "3     151780          1xBet  1486314920    odd_1   2.20\n",
       "20    151781          1xBet  1486314941    odd_1   3.04\n",
       "38    151780          1xBet  1486314920    odd_x   3.24\n",
       "55    151781          1xBet  1486314941    odd_x   3.34\n",
       "73    151780          1xBet  1486314920    odd_2   3.88"
      ]
     },
     "execution_count": 224,
     "metadata": {},
     "output_type": "execute_result"
    }
   ],
   "source": [
    "bets[bets[\"odd_bookmakers\"]==\"1xBet\"].head()"
   ]
  },
  {
   "cell_type": "code",
   "execution_count": 43,
   "metadata": {
    "scrolled": true
   },
   "outputs": [],
   "source": [
    "merged_data = pd.merge(bets[bets[\"odd_bookmakers\"]==\"1xBet\"], premier_league[[\"match_id\", \"match_hometeam_score\", \"match_awayteam_score\"]], how='inner', on='match_id')"
   ]
  },
  {
   "cell_type": "code",
   "execution_count": 56,
   "metadata": {},
   "outputs": [
    {
     "data": {
      "text/html": [
       "<div>\n",
       "<style scoped>\n",
       "    .dataframe tbody tr th:only-of-type {\n",
       "        vertical-align: middle;\n",
       "    }\n",
       "\n",
       "    .dataframe tbody tr th {\n",
       "        vertical-align: top;\n",
       "    }\n",
       "\n",
       "    .dataframe thead th {\n",
       "        text-align: right;\n",
       "    }\n",
       "</style>\n",
       "<table border=\"1\" class=\"dataframe\">\n",
       "  <thead>\n",
       "    <tr style=\"text-align: right;\">\n",
       "      <th></th>\n",
       "      <th>match_id</th>\n",
       "      <th>odd_bookmakers</th>\n",
       "      <th>odd_epoch</th>\n",
       "      <th>variable</th>\n",
       "      <th>value</th>\n",
       "      <th>match_hometeam_score</th>\n",
       "      <th>match_awayteam_score</th>\n",
       "    </tr>\n",
       "  </thead>\n",
       "  <tbody>\n",
       "    <tr>\n",
       "      <th>0</th>\n",
       "      <td>150842</td>\n",
       "      <td>1xBet</td>\n",
       "      <td>1486711421</td>\n",
       "      <td>odd_1</td>\n",
       "      <td>5.10</td>\n",
       "      <td>0.0</td>\n",
       "      <td>0.0</td>\n",
       "    </tr>\n",
       "    <tr>\n",
       "      <th>1</th>\n",
       "      <td>150842</td>\n",
       "      <td>1xBet</td>\n",
       "      <td>1486711421</td>\n",
       "      <td>odd_x</td>\n",
       "      <td>3.70</td>\n",
       "      <td>0.0</td>\n",
       "      <td>0.0</td>\n",
       "    </tr>\n",
       "    <tr>\n",
       "      <th>2</th>\n",
       "      <td>150842</td>\n",
       "      <td>1xBet</td>\n",
       "      <td>1486711421</td>\n",
       "      <td>odd_2</td>\n",
       "      <td>1.77</td>\n",
       "      <td>0.0</td>\n",
       "      <td>0.0</td>\n",
       "    </tr>\n",
       "    <tr>\n",
       "      <th>3</th>\n",
       "      <td>150844</td>\n",
       "      <td>1xBet</td>\n",
       "      <td>1486711426</td>\n",
       "      <td>odd_1</td>\n",
       "      <td>3.09</td>\n",
       "      <td>3.0</td>\n",
       "      <td>1.0</td>\n",
       "    </tr>\n",
       "    <tr>\n",
       "      <th>4</th>\n",
       "      <td>150844</td>\n",
       "      <td>1xBet</td>\n",
       "      <td>1486711426</td>\n",
       "      <td>odd_x</td>\n",
       "      <td>3.30</td>\n",
       "      <td>3.0</td>\n",
       "      <td>1.0</td>\n",
       "    </tr>\n",
       "  </tbody>\n",
       "</table>\n",
       "</div>"
      ],
      "text/plain": [
       "   match_id odd_bookmakers   odd_epoch variable  value  match_hometeam_score  \\\n",
       "0    150842          1xBet  1486711421    odd_1   5.10                   0.0   \n",
       "1    150842          1xBet  1486711421    odd_x   3.70                   0.0   \n",
       "2    150842          1xBet  1486711421    odd_2   1.77                   0.0   \n",
       "3    150844          1xBet  1486711426    odd_1   3.09                   3.0   \n",
       "4    150844          1xBet  1486711426    odd_x   3.30                   3.0   \n",
       "\n",
       "   match_awayteam_score  \n",
       "0                   0.0  \n",
       "1                   0.0  \n",
       "2                   0.0  \n",
       "3                   1.0  \n",
       "4                   1.0  "
      ]
     },
     "execution_count": 56,
     "metadata": {},
     "output_type": "execute_result"
    }
   ],
   "source": [
    "merged_data.head()"
   ]
  },
  {
   "cell_type": "code",
   "execution_count": 208,
   "metadata": {},
   "outputs": [],
   "source": [
    "x=merged_data.sort_values('odd_epoch').groupby([\"match_id\", \"variable\"]).tail(1)"
   ]
  },
  {
   "cell_type": "code",
   "execution_count": 209,
   "metadata": {},
   "outputs": [],
   "source": [
    "x = x[x[\"variable\"].isin([\"odd_1\", \"odd_x\", \"odd_2\"])]"
   ]
  },
  {
   "cell_type": "code",
   "execution_count": 210,
   "metadata": {},
   "outputs": [],
   "source": [
    "y = pd.merge(x[[\"match_id\", \"odd_bookmakers\", \"match_hometeam_score\", \"match_awayteam_score\"]], x.pivot(index='match_id', columns='variable', values='value'), how='inner', on='match_id').drop_duplicates().reset_index(drop=True)"
   ]
  },
  {
   "cell_type": "code",
   "execution_count": 211,
   "metadata": {},
   "outputs": [],
   "source": [
    "y[\"result\"] = (y[\"match_hometeam_score\"]-y[\"match_awayteam_score\"]).apply(lambda x: 1 if x > 0 else (0 if x == 0 else -1))\n",
    "\n",
    "y[\"pr_1\"]=1/y[\"odd_1\"]\n",
    "y[\"pr_x\"]=1/y[\"odd_x\"]\n",
    "y[\"pr_2\"]=1/y[\"odd_2\"]\n",
    "\n",
    "y[\"norm_pr_1\"] = y[\"pr_1\"]/(y[\"pr_1\"]+y[\"pr_x\"]+y[\"pr_2\"])\n",
    "y[\"norm_pr_x\"] = y[\"pr_x\"]/(y[\"pr_1\"]+y[\"pr_x\"]+y[\"pr_2\"])\n",
    "y[\"norm_pr_2\"] = y[\"pr_2\"]/(y[\"pr_1\"]+y[\"pr_x\"]+y[\"pr_2\"])"
   ]
  },
  {
   "cell_type": "code",
   "execution_count": 125,
   "metadata": {
    "scrolled": false
   },
   "outputs": [
    {
     "data": {
      "text/html": [
       "<div>\n",
       "<style scoped>\n",
       "    .dataframe tbody tr th:only-of-type {\n",
       "        vertical-align: middle;\n",
       "    }\n",
       "\n",
       "    .dataframe tbody tr th {\n",
       "        vertical-align: top;\n",
       "    }\n",
       "\n",
       "    .dataframe thead th {\n",
       "        text-align: right;\n",
       "    }\n",
       "</style>\n",
       "<table border=\"1\" class=\"dataframe\">\n",
       "  <thead>\n",
       "    <tr style=\"text-align: right;\">\n",
       "      <th></th>\n",
       "      <th>match_id</th>\n",
       "      <th>odd_bookmakers</th>\n",
       "      <th>match_hometeam_score</th>\n",
       "      <th>match_awayteam_score</th>\n",
       "      <th>odd_1</th>\n",
       "      <th>odd_2</th>\n",
       "      <th>odd_x</th>\n",
       "      <th>result</th>\n",
       "      <th>pr_1</th>\n",
       "      <th>pr_x</th>\n",
       "      <th>pr_2</th>\n",
       "      <th>norm_pr_1</th>\n",
       "      <th>norm_pr_x</th>\n",
       "      <th>norm_pr_2</th>\n",
       "    </tr>\n",
       "  </thead>\n",
       "  <tbody>\n",
       "    <tr>\n",
       "      <th>0</th>\n",
       "      <td>150842</td>\n",
       "      <td>1xBet</td>\n",
       "      <td>0.0</td>\n",
       "      <td>0.0</td>\n",
       "      <td>5.10</td>\n",
       "      <td>1.77</td>\n",
       "      <td>3.70</td>\n",
       "      <td>0</td>\n",
       "      <td>0.196078</td>\n",
       "      <td>0.270270</td>\n",
       "      <td>0.564972</td>\n",
       "      <td>0.190124</td>\n",
       "      <td>0.262062</td>\n",
       "      <td>0.547814</td>\n",
       "    </tr>\n",
       "    <tr>\n",
       "      <th>1</th>\n",
       "      <td>150844</td>\n",
       "      <td>1xBet</td>\n",
       "      <td>3.0</td>\n",
       "      <td>1.0</td>\n",
       "      <td>3.09</td>\n",
       "      <td>2.46</td>\n",
       "      <td>3.30</td>\n",
       "      <td>1</td>\n",
       "      <td>0.323625</td>\n",
       "      <td>0.303030</td>\n",
       "      <td>0.406504</td>\n",
       "      <td>0.313238</td>\n",
       "      <td>0.293305</td>\n",
       "      <td>0.393457</td>\n",
       "    </tr>\n",
       "    <tr>\n",
       "      <th>2</th>\n",
       "      <td>158697</td>\n",
       "      <td>1xBet</td>\n",
       "      <td>3.0</td>\n",
       "      <td>1.0</td>\n",
       "      <td>1.15</td>\n",
       "      <td>22.00</td>\n",
       "      <td>10.00</td>\n",
       "      <td>1</td>\n",
       "      <td>0.869565</td>\n",
       "      <td>0.100000</td>\n",
       "      <td>0.045455</td>\n",
       "      <td>0.856698</td>\n",
       "      <td>0.098520</td>\n",
       "      <td>0.044782</td>\n",
       "    </tr>\n",
       "    <tr>\n",
       "      <th>3</th>\n",
       "      <td>158699</td>\n",
       "      <td>1xBet</td>\n",
       "      <td>1.0</td>\n",
       "      <td>2.0</td>\n",
       "      <td>1.64</td>\n",
       "      <td>6.05</td>\n",
       "      <td>4.24</td>\n",
       "      <td>-1</td>\n",
       "      <td>0.609756</td>\n",
       "      <td>0.235849</td>\n",
       "      <td>0.165289</td>\n",
       "      <td>0.603185</td>\n",
       "      <td>0.233307</td>\n",
       "      <td>0.163508</td>\n",
       "    </tr>\n",
       "    <tr>\n",
       "      <th>4</th>\n",
       "      <td>159175</td>\n",
       "      <td>1xBet</td>\n",
       "      <td>0.0</td>\n",
       "      <td>4.0</td>\n",
       "      <td>8.60</td>\n",
       "      <td>1.45</td>\n",
       "      <td>4.84</td>\n",
       "      <td>-1</td>\n",
       "      <td>0.116279</td>\n",
       "      <td>0.206612</td>\n",
       "      <td>0.689655</td>\n",
       "      <td>0.114838</td>\n",
       "      <td>0.204052</td>\n",
       "      <td>0.681110</td>\n",
       "    </tr>\n",
       "  </tbody>\n",
       "</table>\n",
       "</div>"
      ],
      "text/plain": [
       "   match_id odd_bookmakers  match_hometeam_score  match_awayteam_score  odd_1  \\\n",
       "0    150842          1xBet                   0.0                   0.0   5.10   \n",
       "1    150844          1xBet                   3.0                   1.0   3.09   \n",
       "2    158697          1xBet                   3.0                   1.0   1.15   \n",
       "3    158699          1xBet                   1.0                   2.0   1.64   \n",
       "4    159175          1xBet                   0.0                   4.0   8.60   \n",
       "\n",
       "   odd_2  odd_x  result      pr_1      pr_x      pr_2  norm_pr_1  norm_pr_x  \\\n",
       "0   1.77   3.70       0  0.196078  0.270270  0.564972   0.190124   0.262062   \n",
       "1   2.46   3.30       1  0.323625  0.303030  0.406504   0.313238   0.293305   \n",
       "2  22.00  10.00       1  0.869565  0.100000  0.045455   0.856698   0.098520   \n",
       "3   6.05   4.24      -1  0.609756  0.235849  0.165289   0.603185   0.233307   \n",
       "4   1.45   4.84      -1  0.116279  0.206612  0.689655   0.114838   0.204052   \n",
       "\n",
       "   norm_pr_2  \n",
       "0   0.547814  \n",
       "1   0.393457  \n",
       "2   0.044782  \n",
       "3   0.163508  \n",
       "4   0.681110  "
      ]
     },
     "execution_count": 125,
     "metadata": {},
     "output_type": "execute_result"
    }
   ],
   "source": [
    "y.head()"
   ]
  },
  {
   "cell_type": "code",
   "execution_count": 126,
   "metadata": {},
   "outputs": [],
   "source": [
    "draws = y[y[\"result\"]==0]"
   ]
  },
  {
   "cell_type": "code",
   "execution_count": 189,
   "metadata": {
    "scrolled": true
   },
   "outputs": [],
   "source": [
    "total_matches_pr_x = pd.cut((y[\"pr_x\"]), bins=np.arange(0, 0.4, 0.05), include_lowest=True).value_counts(sort=False)"
   ]
  },
  {
   "cell_type": "code",
   "execution_count": 193,
   "metadata": {
    "scrolled": true
   },
   "outputs": [],
   "source": [
    "draw_matches_pr_x = pd.cut((y[y[\"result\"]==0][\"pr_x\"]), bins=np.arange(0, 0.4, 0.05), include_lowest=True).value_counts(sort=False)"
   ]
  },
  {
   "cell_type": "code",
   "execution_count": 175,
   "metadata": {},
   "outputs": [],
   "source": [
    "t = (draw_matches_pr_x/total_matches_pr_x).dropna()"
   ]
  },
  {
   "cell_type": "code",
   "execution_count": 202,
   "metadata": {},
   "outputs": [
    {
     "data": {
      "text/plain": [
       "Text(0.5, 1.0, '1xBet - Draws vs Draws Implied')"
      ]
     },
     "execution_count": 202,
     "metadata": {},
     "output_type": "execute_result"
    },
    {
     "data": {
      "image/png": "[encoded data removed]",
      "text/plain": [
       "<Figure size 432x288 with 1 Axes>"
      ]
     },
     "metadata": {
      "needs_background": "light"
     },
     "output_type": "display_data"
    }
   ],
   "source": [
    "ax = t.plot.bar()\n",
    "ax.set_xlabel('Probability of Draws Implied')\n",
    "ax.set_ylabel('Probability of Draws Estimated')\n",
    "ax.set_title('1xBet - Draws vs Draws Implied')"
   ]
  },
  {
   "cell_type": "code",
   "execution_count": 212,
   "metadata": {},
   "outputs": [],
   "source": [
    "y[\"interval\"] = pd.cut((y[\"pr_1\"]-y[\"pr_2\"]), bins=np.arange(-1, 1.2, 0.2), include_lowest=True)"
   ]
  },
  {
   "cell_type": "code",
   "execution_count": 213,
   "metadata": {},
   "outputs": [],
   "source": [
    "total_matches_pr_diff = y[\"interval\"].value_counts(sort=False)"
   ]
  },
  {
   "cell_type": "code",
   "execution_count": 214,
   "metadata": {},
   "outputs": [],
   "source": [
    "draw_matches_pr_diff = y[y[\"result\"]==0][\"interval\"].value_counts(sort=False)"
   ]
  },
  {
   "cell_type": "code",
   "execution_count": 215,
   "metadata": {},
   "outputs": [],
   "source": [
    "tt = (draw_matches_pr_diff/total_matches_pr_diff).dropna()"
   ]
  },
  {
   "cell_type": "code",
   "execution_count": 218,
   "metadata": {},
   "outputs": [
    {
     "data": {
      "text/plain": [
       "Text(0.5, 1.0, '1xBet - Home-Away Difference vs Draws')"
      ]
     },
     "execution_count": 218,
     "metadata": {},
     "output_type": "execute_result"
    },
    {
     "data": {
      "image/png": "[encoded data removed]",
      "text/plain": [
       "<Figure size 432x288 with 1 Axes>"
      ]
     },
     "metadata": {
      "needs_background": "light"
     },
     "output_type": "display_data"
    }
   ],
   "source": [
    "ax = tt.plot.bar()\n",
    "ax.set_xlabel('Probability of Home-Away Difference')\n",
    "ax.set_ylabel('Probability of Draws Estimated')\n",
    "ax.set_title('1xBet - Home-Away Difference vs Draws')"
   ]
  },
  {
   "cell_type": "code",
   "execution_count": null,
   "metadata": {},
   "outputs": [],
   "source": []
  },
  {
   "cell_type": "code",
   "execution_count": 225,
   "metadata": {
    "scrolled": true
   },
   "outputs": [],
   "source": [
    "merged_data = pd.merge(bets[bets[\"odd_bookmakers\"]==\"Marathonbet\"], premier_league[[\"match_id\", \"match_hometeam_score\", \"match_awayteam_score\"]], how='inner', on='match_id')"
   ]
  },
  {
   "cell_type": "code",
   "execution_count": 226,
   "metadata": {},
   "outputs": [
    {
     "data": {
      "text/html": [
       "<div>\n",
       "<style scoped>\n",
       "    .dataframe tbody tr th:only-of-type {\n",
       "        vertical-align: middle;\n",
       "    }\n",
       "\n",
       "    .dataframe tbody tr th {\n",
       "        vertical-align: top;\n",
       "    }\n",
       "\n",
       "    .dataframe thead th {\n",
       "        text-align: right;\n",
       "    }\n",
       "</style>\n",
       "<table border=\"1\" class=\"dataframe\">\n",
       "  <thead>\n",
       "    <tr style=\"text-align: right;\">\n",
       "      <th></th>\n",
       "      <th>match_id</th>\n",
       "      <th>odd_bookmakers</th>\n",
       "      <th>odd_epoch</th>\n",
       "      <th>variable</th>\n",
       "      <th>value</th>\n",
       "      <th>match_hometeam_score</th>\n",
       "      <th>match_awayteam_score</th>\n",
       "    </tr>\n",
       "  </thead>\n",
       "  <tbody>\n",
       "    <tr>\n",
       "      <th>0</th>\n",
       "      <td>150842</td>\n",
       "      <td>Marathonbet</td>\n",
       "      <td>1486711421</td>\n",
       "      <td>odd_1</td>\n",
       "      <td>5.20</td>\n",
       "      <td>0.0</td>\n",
       "      <td>0.0</td>\n",
       "    </tr>\n",
       "    <tr>\n",
       "      <th>1</th>\n",
       "      <td>150842</td>\n",
       "      <td>Marathonbet</td>\n",
       "      <td>1486711421</td>\n",
       "      <td>odd_x</td>\n",
       "      <td>3.70</td>\n",
       "      <td>0.0</td>\n",
       "      <td>0.0</td>\n",
       "    </tr>\n",
       "    <tr>\n",
       "      <th>2</th>\n",
       "      <td>150842</td>\n",
       "      <td>Marathonbet</td>\n",
       "      <td>1486711421</td>\n",
       "      <td>odd_2</td>\n",
       "      <td>1.75</td>\n",
       "      <td>0.0</td>\n",
       "      <td>0.0</td>\n",
       "    </tr>\n",
       "    <tr>\n",
       "      <th>3</th>\n",
       "      <td>150844</td>\n",
       "      <td>Marathonbet</td>\n",
       "      <td>1486711426</td>\n",
       "      <td>odd_1</td>\n",
       "      <td>3.10</td>\n",
       "      <td>3.0</td>\n",
       "      <td>1.0</td>\n",
       "    </tr>\n",
       "    <tr>\n",
       "      <th>4</th>\n",
       "      <td>150844</td>\n",
       "      <td>Marathonbet</td>\n",
       "      <td>1486711426</td>\n",
       "      <td>odd_x</td>\n",
       "      <td>3.30</td>\n",
       "      <td>3.0</td>\n",
       "      <td>1.0</td>\n",
       "    </tr>\n",
       "  </tbody>\n",
       "</table>\n",
       "</div>"
      ],
      "text/plain": [
       "   match_id odd_bookmakers   odd_epoch variable  value  match_hometeam_score  \\\n",
       "0    150842    Marathonbet  1486711421    odd_1   5.20                   0.0   \n",
       "1    150842    Marathonbet  1486711421    odd_x   3.70                   0.0   \n",
       "2    150842    Marathonbet  1486711421    odd_2   1.75                   0.0   \n",
       "3    150844    Marathonbet  1486711426    odd_1   3.10                   3.0   \n",
       "4    150844    Marathonbet  1486711426    odd_x   3.30                   3.0   \n",
       "\n",
       "   match_awayteam_score  \n",
       "0                   0.0  \n",
       "1                   0.0  \n",
       "2                   0.0  \n",
       "3                   1.0  \n",
       "4                   1.0  "
      ]
     },
     "execution_count": 226,
     "metadata": {},
     "output_type": "execute_result"
    }
   ],
   "source": [
    "merged_data.head()"
   ]
  },
  {
   "cell_type": "code",
   "execution_count": 227,
   "metadata": {},
   "outputs": [],
   "source": [
    "x=merged_data.sort_values('odd_epoch').groupby([\"match_id\", \"variable\"]).tail(1)"
   ]
  },
  {
   "cell_type": "code",
   "execution_count": 228,
   "metadata": {},
   "outputs": [],
   "source": [
    "x = x[x[\"variable\"].isin([\"odd_1\", \"odd_x\", \"odd_2\"])]"
   ]
  },
  {
   "cell_type": "code",
   "execution_count": 229,
   "metadata": {},
   "outputs": [],
   "source": [
    "y = pd.merge(x[[\"match_id\", \"odd_bookmakers\", \"match_hometeam_score\", \"match_awayteam_score\"]], x.pivot(index='match_id', columns='variable', values='value'), how='inner', on='match_id').drop_duplicates().reset_index(drop=True)"
   ]
  },
  {
   "cell_type": "code",
   "execution_count": 230,
   "metadata": {},
   "outputs": [],
   "source": [
    "y[\"result\"] = (y[\"match_hometeam_score\"]-y[\"match_awayteam_score\"]).apply(lambda x: 1 if x > 0 else (0 if x == 0 else -1))\n",
    "\n",
    "y[\"pr_1\"]=1/y[\"odd_1\"]\n",
    "y[\"pr_x\"]=1/y[\"odd_x\"]\n",
    "y[\"pr_2\"]=1/y[\"odd_2\"]\n",
    "\n",
    "y[\"norm_pr_1\"] = y[\"pr_1\"]/(y[\"pr_1\"]+y[\"pr_x\"]+y[\"pr_2\"])\n",
    "y[\"norm_pr_x\"] = y[\"pr_x\"]/(y[\"pr_1\"]+y[\"pr_x\"]+y[\"pr_2\"])\n",
    "y[\"norm_pr_2\"] = y[\"pr_2\"]/(y[\"pr_1\"]+y[\"pr_x\"]+y[\"pr_2\"])"
   ]
  },
  {
   "cell_type": "code",
   "execution_count": 231,
   "metadata": {
    "scrolled": false
   },
   "outputs": [
    {
     "data": {
      "text/html": [
       "<div>\n",
       "<style scoped>\n",
       "    .dataframe tbody tr th:only-of-type {\n",
       "        vertical-align: middle;\n",
       "    }\n",
       "\n",
       "    .dataframe tbody tr th {\n",
       "        vertical-align: top;\n",
       "    }\n",
       "\n",
       "    .dataframe thead th {\n",
       "        text-align: right;\n",
       "    }\n",
       "</style>\n",
       "<table border=\"1\" class=\"dataframe\">\n",
       "  <thead>\n",
       "    <tr style=\"text-align: right;\">\n",
       "      <th></th>\n",
       "      <th>match_id</th>\n",
       "      <th>odd_bookmakers</th>\n",
       "      <th>match_hometeam_score</th>\n",
       "      <th>match_awayteam_score</th>\n",
       "      <th>odd_1</th>\n",
       "      <th>odd_2</th>\n",
       "      <th>odd_x</th>\n",
       "      <th>result</th>\n",
       "      <th>pr_1</th>\n",
       "      <th>pr_x</th>\n",
       "      <th>pr_2</th>\n",
       "      <th>norm_pr_1</th>\n",
       "      <th>norm_pr_x</th>\n",
       "      <th>norm_pr_2</th>\n",
       "    </tr>\n",
       "  </thead>\n",
       "  <tbody>\n",
       "    <tr>\n",
       "      <th>0</th>\n",
       "      <td>150842</td>\n",
       "      <td>Marathonbet</td>\n",
       "      <td>0.0</td>\n",
       "      <td>0.0</td>\n",
       "      <td>5.20</td>\n",
       "      <td>1.75</td>\n",
       "      <td>3.70</td>\n",
       "      <td>0</td>\n",
       "      <td>0.192308</td>\n",
       "      <td>0.270270</td>\n",
       "      <td>0.571429</td>\n",
       "      <td>0.185983</td>\n",
       "      <td>0.261382</td>\n",
       "      <td>0.552635</td>\n",
       "    </tr>\n",
       "    <tr>\n",
       "      <th>1</th>\n",
       "      <td>150844</td>\n",
       "      <td>Marathonbet</td>\n",
       "      <td>3.0</td>\n",
       "      <td>1.0</td>\n",
       "      <td>3.10</td>\n",
       "      <td>2.44</td>\n",
       "      <td>3.30</td>\n",
       "      <td>1</td>\n",
       "      <td>0.322581</td>\n",
       "      <td>0.303030</td>\n",
       "      <td>0.409836</td>\n",
       "      <td>0.311538</td>\n",
       "      <td>0.292657</td>\n",
       "      <td>0.395806</td>\n",
       "    </tr>\n",
       "    <tr>\n",
       "      <th>2</th>\n",
       "      <td>158697</td>\n",
       "      <td>Marathonbet</td>\n",
       "      <td>3.0</td>\n",
       "      <td>1.0</td>\n",
       "      <td>1.15</td>\n",
       "      <td>21.00</td>\n",
       "      <td>10.00</td>\n",
       "      <td>1</td>\n",
       "      <td>0.869565</td>\n",
       "      <td>0.100000</td>\n",
       "      <td>0.047619</td>\n",
       "      <td>0.854875</td>\n",
       "      <td>0.098311</td>\n",
       "      <td>0.046815</td>\n",
       "    </tr>\n",
       "    <tr>\n",
       "      <th>3</th>\n",
       "      <td>158699</td>\n",
       "      <td>Marathonbet</td>\n",
       "      <td>1.0</td>\n",
       "      <td>2.0</td>\n",
       "      <td>1.62</td>\n",
       "      <td>6.20</td>\n",
       "      <td>4.25</td>\n",
       "      <td>-1</td>\n",
       "      <td>0.617284</td>\n",
       "      <td>0.235294</td>\n",
       "      <td>0.161290</td>\n",
       "      <td>0.608840</td>\n",
       "      <td>0.232076</td>\n",
       "      <td>0.159084</td>\n",
       "    </tr>\n",
       "    <tr>\n",
       "      <th>4</th>\n",
       "      <td>159175</td>\n",
       "      <td>Marathonbet</td>\n",
       "      <td>0.0</td>\n",
       "      <td>4.0</td>\n",
       "      <td>8.70</td>\n",
       "      <td>1.44</td>\n",
       "      <td>4.85</td>\n",
       "      <td>-1</td>\n",
       "      <td>0.114943</td>\n",
       "      <td>0.206186</td>\n",
       "      <td>0.694444</td>\n",
       "      <td>0.113180</td>\n",
       "      <td>0.203024</td>\n",
       "      <td>0.683796</td>\n",
       "    </tr>\n",
       "  </tbody>\n",
       "</table>\n",
       "</div>"
      ],
      "text/plain": [
       "   match_id odd_bookmakers  match_hometeam_score  match_awayteam_score  odd_1  \\\n",
       "0    150842    Marathonbet                   0.0                   0.0   5.20   \n",
       "1    150844    Marathonbet                   3.0                   1.0   3.10   \n",
       "2    158697    Marathonbet                   3.0                   1.0   1.15   \n",
       "3    158699    Marathonbet                   1.0                   2.0   1.62   \n",
       "4    159175    Marathonbet                   0.0                   4.0   8.70   \n",
       "\n",
       "   odd_2  odd_x  result      pr_1      pr_x      pr_2  norm_pr_1  norm_pr_x  \\\n",
       "0   1.75   3.70       0  0.192308  0.270270  0.571429   0.185983   0.261382   \n",
       "1   2.44   3.30       1  0.322581  0.303030  0.409836   0.311538   0.292657   \n",
       "2  21.00  10.00       1  0.869565  0.100000  0.047619   0.854875   0.098311   \n",
       "3   6.20   4.25      -1  0.617284  0.235294  0.161290   0.608840   0.232076   \n",
       "4   1.44   4.85      -1  0.114943  0.206186  0.694444   0.113180   0.203024   \n",
       "\n",
       "   norm_pr_2  \n",
       "0   0.552635  \n",
       "1   0.395806  \n",
       "2   0.046815  \n",
       "3   0.159084  \n",
       "4   0.683796  "
      ]
     },
     "execution_count": 231,
     "metadata": {},
     "output_type": "execute_result"
    }
   ],
   "source": [
    "y.head()"
   ]
  },
  {
   "cell_type": "code",
   "execution_count": 232,
   "metadata": {},
   "outputs": [],
   "source": [
    "draws = y[y[\"result\"]==0]"
   ]
  },
  {
   "cell_type": "code",
   "execution_count": 233,
   "metadata": {
    "scrolled": true
   },
   "outputs": [],
   "source": [
    "total_matches_pr_x = pd.cut((y[\"pr_x\"]), bins=np.arange(0, 0.4, 0.05), include_lowest=True).value_counts(sort=False)"
   ]
  },
  {
   "cell_type": "code",
   "execution_count": 234,
   "metadata": {
    "scrolled": true
   },
   "outputs": [],
   "source": [
    "draw_matches_pr_x = pd.cut((y[y[\"result\"]==0][\"pr_x\"]), bins=np.arange(0, 0.4, 0.05), include_lowest=True).value_counts(sort=False)"
   ]
  },
  {
   "cell_type": "code",
   "execution_count": 235,
   "metadata": {},
   "outputs": [],
   "source": [
    "t = (draw_matches_pr_x/total_matches_pr_x).dropna()"
   ]
  },
  {
   "cell_type": "code",
   "execution_count": 237,
   "metadata": {},
   "outputs": [
    {
     "data": {
      "text/plain": [
       "Text(0.5, 1.0, 'Marathonbet - Draws vs Draws Implied')"
      ]
     },
     "execution_count": 237,
     "metadata": {},
     "output_type": "execute_result"
    },
    {
     "data": {
      "image/png": "[encoded data removed]",
      "text/plain": [
       "<Figure size 432x288 with 1 Axes>"
      ]
     },
     "metadata": {
      "needs_background": "light"
     },
     "output_type": "display_data"
    }
   ],
   "source": [
    "ax = t.plot.bar()\n",
    "ax.set_xlabel('Probability of Draws Implied')\n",
    "ax.set_ylabel('Probability of Draws Estimated')\n",
    "ax.set_title('Marathonbet - Draws vs Draws Implied')"
   ]
  },
  {
   "cell_type": "code",
   "execution_count": 238,
   "metadata": {},
   "outputs": [],
   "source": [
    "y[\"interval\"] = pd.cut((y[\"pr_1\"]-y[\"pr_2\"]), bins=np.arange(-1, 1.2, 0.2), include_lowest=True)"
   ]
  },
  {
   "cell_type": "code",
   "execution_count": 239,
   "metadata": {},
   "outputs": [],
   "source": [
    "total_matches_pr_diff = y[\"interval\"].value_counts(sort=False)"
   ]
  },
  {
   "cell_type": "code",
   "execution_count": 240,
   "metadata": {},
   "outputs": [],
   "source": [
    "draw_matches_pr_diff = y[y[\"result\"]==0][\"interval\"].value_counts(sort=False)"
   ]
  },
  {
   "cell_type": "code",
   "execution_count": 241,
   "metadata": {},
   "outputs": [],
   "source": [
    "tt = (draw_matches_pr_diff/total_matches_pr_diff).dropna()"
   ]
  },
  {
   "cell_type": "code",
   "execution_count": 242,
   "metadata": {},
   "outputs": [
    {
     "data": {
      "text/plain": [
       "Text(0.5, 1.0, 'Marathonbet - Home-Away Difference vs Draws')"
      ]
     },
     "execution_count": 242,
     "metadata": {},
     "output_type": "execute_result"
    },
    {
     "data": {
      "image/png": "[encoded data removed]",
      "text/plain": [
       "<Figure size 432x288 with 1 Axes>"
      ]
     },
     "metadata": {
      "needs_background": "light"
     },
     "output_type": "display_data"
    }
   ],
   "source": [
    "ax = tt.plot.bar()\n",
    "ax.set_xlabel('Probability of Home-Away Difference')\n",
    "ax.set_ylabel('Probability of Draws Estimated')\n",
    "ax.set_title('Marathonbet - Home-Away Difference vs Draws')"
   ]
  },
  {
   "cell_type": "code",
   "execution_count": null,
   "metadata": {},
   "outputs": [],
   "source": []
  },
  {
   "cell_type": "code",
   "execution_count": 243,
   "metadata": {
    "scrolled": true
   },
   "outputs": [],
   "source": [
    "merged_data = pd.merge(bets[bets[\"odd_bookmakers\"]==\"bet365\"], premier_league[[\"match_id\", \"match_hometeam_score\", \"match_awayteam_score\"]], how='inner', on='match_id')"
   ]
  },
  {
   "cell_type": "code",
   "execution_count": 244,
   "metadata": {},
   "outputs": [
    {
     "data": {
      "text/html": [
       "<div>\n",
       "<style scoped>\n",
       "    .dataframe tbody tr th:only-of-type {\n",
       "        vertical-align: middle;\n",
       "    }\n",
       "\n",
       "    .dataframe tbody tr th {\n",
       "        vertical-align: top;\n",
       "    }\n",
       "\n",
       "    .dataframe thead th {\n",
       "        text-align: right;\n",
       "    }\n",
       "</style>\n",
       "<table border=\"1\" class=\"dataframe\">\n",
       "  <thead>\n",
       "    <tr style=\"text-align: right;\">\n",
       "      <th></th>\n",
       "      <th>match_id</th>\n",
       "      <th>odd_bookmakers</th>\n",
       "      <th>odd_epoch</th>\n",
       "      <th>variable</th>\n",
       "      <th>value</th>\n",
       "      <th>match_hometeam_score</th>\n",
       "      <th>match_awayteam_score</th>\n",
       "    </tr>\n",
       "  </thead>\n",
       "  <tbody>\n",
       "    <tr>\n",
       "      <th>0</th>\n",
       "      <td>158697</td>\n",
       "      <td>bet365</td>\n",
       "      <td>1488204395</td>\n",
       "      <td>odd_1</td>\n",
       "      <td>1.13</td>\n",
       "      <td>3.0</td>\n",
       "      <td>1.0</td>\n",
       "    </tr>\n",
       "    <tr>\n",
       "      <th>1</th>\n",
       "      <td>158697</td>\n",
       "      <td>bet365</td>\n",
       "      <td>1488204395</td>\n",
       "      <td>odd_x</td>\n",
       "      <td>9.00</td>\n",
       "      <td>3.0</td>\n",
       "      <td>1.0</td>\n",
       "    </tr>\n",
       "    <tr>\n",
       "      <th>2</th>\n",
       "      <td>158697</td>\n",
       "      <td>bet365</td>\n",
       "      <td>1488204395</td>\n",
       "      <td>odd_2</td>\n",
       "      <td>21.00</td>\n",
       "      <td>3.0</td>\n",
       "      <td>1.0</td>\n",
       "    </tr>\n",
       "    <tr>\n",
       "      <th>3</th>\n",
       "      <td>158697</td>\n",
       "      <td>bet365</td>\n",
       "      <td>1488204395</td>\n",
       "      <td>ah-4.5_1</td>\n",
       "      <td>5.25</td>\n",
       "      <td>3.0</td>\n",
       "      <td>1.0</td>\n",
       "    </tr>\n",
       "    <tr>\n",
       "      <th>4</th>\n",
       "      <td>158697</td>\n",
       "      <td>bet365</td>\n",
       "      <td>1488204395</td>\n",
       "      <td>ah-4.5_2</td>\n",
       "      <td>1.16</td>\n",
       "      <td>3.0</td>\n",
       "      <td>1.0</td>\n",
       "    </tr>\n",
       "  </tbody>\n",
       "</table>\n",
       "</div>"
      ],
      "text/plain": [
       "   match_id odd_bookmakers   odd_epoch  variable  value  match_hometeam_score  \\\n",
       "0    158697         bet365  1488204395     odd_1   1.13                   3.0   \n",
       "1    158697         bet365  1488204395     odd_x   9.00                   3.0   \n",
       "2    158697         bet365  1488204395     odd_2  21.00                   3.0   \n",
       "3    158697         bet365  1488204395  ah-4.5_1   5.25                   3.0   \n",
       "4    158697         bet365  1488204395  ah-4.5_2   1.16                   3.0   \n",
       "\n",
       "   match_awayteam_score  \n",
       "0                   1.0  \n",
       "1                   1.0  \n",
       "2                   1.0  \n",
       "3                   1.0  \n",
       "4                   1.0  "
      ]
     },
     "execution_count": 244,
     "metadata": {},
     "output_type": "execute_result"
    }
   ],
   "source": [
    "merged_data.head()"
   ]
  },
  {
   "cell_type": "code",
   "execution_count": 245,
   "metadata": {},
   "outputs": [],
   "source": [
    "x=merged_data.sort_values('odd_epoch').groupby([\"match_id\", \"variable\"]).tail(1)"
   ]
  },
  {
   "cell_type": "code",
   "execution_count": 246,
   "metadata": {},
   "outputs": [],
   "source": [
    "x = x[x[\"variable\"].isin([\"odd_1\", \"odd_x\", \"odd_2\"])]"
   ]
  },
  {
   "cell_type": "code",
   "execution_count": 247,
   "metadata": {},
   "outputs": [],
   "source": [
    "y = pd.merge(x[[\"match_id\", \"odd_bookmakers\", \"match_hometeam_score\", \"match_awayteam_score\"]], x.pivot(index='match_id', columns='variable', values='value'), how='inner', on='match_id').drop_duplicates().reset_index(drop=True)"
   ]
  },
  {
   "cell_type": "code",
   "execution_count": 248,
   "metadata": {},
   "outputs": [],
   "source": [
    "y[\"result\"] = (y[\"match_hometeam_score\"]-y[\"match_awayteam_score\"]).apply(lambda x: 1 if x > 0 else (0 if x == 0 else -1))\n",
    "\n",
    "y[\"pr_1\"]=1/y[\"odd_1\"]\n",
    "y[\"pr_x\"]=1/y[\"odd_x\"]\n",
    "y[\"pr_2\"]=1/y[\"odd_2\"]\n",
    "\n",
    "y[\"norm_pr_1\"] = y[\"pr_1\"]/(y[\"pr_1\"]+y[\"pr_x\"]+y[\"pr_2\"])\n",
    "y[\"norm_pr_x\"] = y[\"pr_x\"]/(y[\"pr_1\"]+y[\"pr_x\"]+y[\"pr_2\"])\n",
    "y[\"norm_pr_2\"] = y[\"pr_2\"]/(y[\"pr_1\"]+y[\"pr_x\"]+y[\"pr_2\"])"
   ]
  },
  {
   "cell_type": "code",
   "execution_count": 249,
   "metadata": {
    "scrolled": false
   },
   "outputs": [
    {
     "data": {
      "text/html": [
       "<div>\n",
       "<style scoped>\n",
       "    .dataframe tbody tr th:only-of-type {\n",
       "        vertical-align: middle;\n",
       "    }\n",
       "\n",
       "    .dataframe tbody tr th {\n",
       "        vertical-align: top;\n",
       "    }\n",
       "\n",
       "    .dataframe thead th {\n",
       "        text-align: right;\n",
       "    }\n",
       "</style>\n",
       "<table border=\"1\" class=\"dataframe\">\n",
       "  <thead>\n",
       "    <tr style=\"text-align: right;\">\n",
       "      <th></th>\n",
       "      <th>match_id</th>\n",
       "      <th>odd_bookmakers</th>\n",
       "      <th>match_hometeam_score</th>\n",
       "      <th>match_awayteam_score</th>\n",
       "      <th>odd_1</th>\n",
       "      <th>odd_2</th>\n",
       "      <th>odd_x</th>\n",
       "      <th>result</th>\n",
       "      <th>pr_1</th>\n",
       "      <th>pr_x</th>\n",
       "      <th>pr_2</th>\n",
       "      <th>norm_pr_1</th>\n",
       "      <th>norm_pr_x</th>\n",
       "      <th>norm_pr_2</th>\n",
       "    </tr>\n",
       "  </thead>\n",
       "  <tbody>\n",
       "    <tr>\n",
       "      <th>0</th>\n",
       "      <td>158697</td>\n",
       "      <td>bet365</td>\n",
       "      <td>3.0</td>\n",
       "      <td>1.0</td>\n",
       "      <td>1.13</td>\n",
       "      <td>21.00</td>\n",
       "      <td>9.00</td>\n",
       "      <td>1</td>\n",
       "      <td>0.884956</td>\n",
       "      <td>0.111111</td>\n",
       "      <td>0.047619</td>\n",
       "      <td>0.847914</td>\n",
       "      <td>0.106460</td>\n",
       "      <td>0.045626</td>\n",
       "    </tr>\n",
       "    <tr>\n",
       "      <th>1</th>\n",
       "      <td>158699</td>\n",
       "      <td>bet365</td>\n",
       "      <td>1.0</td>\n",
       "      <td>2.0</td>\n",
       "      <td>1.60</td>\n",
       "      <td>5.75</td>\n",
       "      <td>4.00</td>\n",
       "      <td>-1</td>\n",
       "      <td>0.625000</td>\n",
       "      <td>0.250000</td>\n",
       "      <td>0.173913</td>\n",
       "      <td>0.595855</td>\n",
       "      <td>0.238342</td>\n",
       "      <td>0.165803</td>\n",
       "    </tr>\n",
       "    <tr>\n",
       "      <th>2</th>\n",
       "      <td>159175</td>\n",
       "      <td>bet365</td>\n",
       "      <td>0.0</td>\n",
       "      <td>4.0</td>\n",
       "      <td>8.50</td>\n",
       "      <td>1.40</td>\n",
       "      <td>4.75</td>\n",
       "      <td>-1</td>\n",
       "      <td>0.117647</td>\n",
       "      <td>0.210526</td>\n",
       "      <td>0.714286</td>\n",
       "      <td>0.112855</td>\n",
       "      <td>0.201952</td>\n",
       "      <td>0.685193</td>\n",
       "    </tr>\n",
       "    <tr>\n",
       "      <th>3</th>\n",
       "      <td>159182</td>\n",
       "      <td>bet365</td>\n",
       "      <td>0.0</td>\n",
       "      <td>2.0</td>\n",
       "      <td>1.95</td>\n",
       "      <td>3.75</td>\n",
       "      <td>3.50</td>\n",
       "      <td>-1</td>\n",
       "      <td>0.512821</td>\n",
       "      <td>0.285714</td>\n",
       "      <td>0.266667</td>\n",
       "      <td>0.481431</td>\n",
       "      <td>0.268226</td>\n",
       "      <td>0.250344</td>\n",
       "    </tr>\n",
       "    <tr>\n",
       "      <th>4</th>\n",
       "      <td>159177</td>\n",
       "      <td>bet365</td>\n",
       "      <td>1.0</td>\n",
       "      <td>0.0</td>\n",
       "      <td>2.20</td>\n",
       "      <td>3.30</td>\n",
       "      <td>3.40</td>\n",
       "      <td>1</td>\n",
       "      <td>0.454545</td>\n",
       "      <td>0.294118</td>\n",
       "      <td>0.303030</td>\n",
       "      <td>0.432203</td>\n",
       "      <td>0.279661</td>\n",
       "      <td>0.288136</td>\n",
       "    </tr>\n",
       "  </tbody>\n",
       "</table>\n",
       "</div>"
      ],
      "text/plain": [
       "   match_id odd_bookmakers  match_hometeam_score  match_awayteam_score  odd_1  \\\n",
       "0    158697         bet365                   3.0                   1.0   1.13   \n",
       "1    158699         bet365                   1.0                   2.0   1.60   \n",
       "2    159175         bet365                   0.0                   4.0   8.50   \n",
       "3    159182         bet365                   0.0                   2.0   1.95   \n",
       "4    159177         bet365                   1.0                   0.0   2.20   \n",
       "\n",
       "   odd_2  odd_x  result      pr_1      pr_x      pr_2  norm_pr_1  norm_pr_x  \\\n",
       "0  21.00   9.00       1  0.884956  0.111111  0.047619   0.847914   0.106460   \n",
       "1   5.75   4.00      -1  0.625000  0.250000  0.173913   0.595855   0.238342   \n",
       "2   1.40   4.75      -1  0.117647  0.210526  0.714286   0.112855   0.201952   \n",
       "3   3.75   3.50      -1  0.512821  0.285714  0.266667   0.481431   0.268226   \n",
       "4   3.30   3.40       1  0.454545  0.294118  0.303030   0.432203   0.279661   \n",
       "\n",
       "   norm_pr_2  \n",
       "0   0.045626  \n",
       "1   0.165803  \n",
       "2   0.685193  \n",
       "3   0.250344  \n",
       "4   0.288136  "
      ]
     },
     "execution_count": 249,
     "metadata": {},
     "output_type": "execute_result"
    }
   ],
   "source": [
    "y.head()"
   ]
  },
  {
   "cell_type": "code",
   "execution_count": 250,
   "metadata": {},
   "outputs": [],
   "source": [
    "draws = y[y[\"result\"]==0]"
   ]
  },
  {
   "cell_type": "code",
   "execution_count": 251,
   "metadata": {
    "scrolled": true
   },
   "outputs": [],
   "source": [
    "total_matches_pr_x = pd.cut((y[\"pr_x\"]), bins=np.arange(0, 0.4, 0.05), include_lowest=True).value_counts(sort=False)"
   ]
  },
  {
   "cell_type": "code",
   "execution_count": 252,
   "metadata": {
    "scrolled": true
   },
   "outputs": [],
   "source": [
    "draw_matches_pr_x = pd.cut((y[y[\"result\"]==0][\"pr_x\"]), bins=np.arange(0, 0.4, 0.05), include_lowest=True).value_counts(sort=False)"
   ]
  },
  {
   "cell_type": "code",
   "execution_count": 253,
   "metadata": {},
   "outputs": [],
   "source": [
    "t = (draw_matches_pr_x/total_matches_pr_x).dropna()"
   ]
  },
  {
   "cell_type": "code",
   "execution_count": 254,
   "metadata": {},
   "outputs": [
    {
     "data": {
      "text/plain": [
       "Text(0.5, 1.0, 'bet365 - Draws vs Draws Implied')"
      ]
     },
     "execution_count": 254,
     "metadata": {},
     "output_type": "execute_result"
    },
    {
     "data": {
      "image/png": "[encoded data removed]",
      "text/plain": [
       "<Figure size 432x288 with 1 Axes>"
      ]
     },
     "metadata": {
      "needs_background": "light"
     },
     "output_type": "display_data"
    }
   ],
   "source": [
    "ax = t.plot.bar()\n",
    "ax.set_xlabel('Probability of Draws Implied')\n",
    "ax.set_ylabel('Probability of Draws Estimated')\n",
    "ax.set_title('bet365 - Draws vs Draws Implied')"
   ]
  },
  {
   "cell_type": "code",
   "execution_count": 255,
   "metadata": {},
   "outputs": [],
   "source": [
    "y[\"interval\"] = pd.cut((y[\"pr_1\"]-y[\"pr_2\"]), bins=np.arange(-1, 1.2, 0.2), include_lowest=True)"
   ]
  },
  {
   "cell_type": "code",
   "execution_count": 256,
   "metadata": {},
   "outputs": [],
   "source": [
    "total_matches_pr_diff = y[\"interval\"].value_counts(sort=False)"
   ]
  },
  {
   "cell_type": "code",
   "execution_count": 257,
   "metadata": {},
   "outputs": [],
   "source": [
    "draw_matches_pr_diff = y[y[\"result\"]==0][\"interval\"].value_counts(sort=False)"
   ]
  },
  {
   "cell_type": "code",
   "execution_count": 258,
   "metadata": {},
   "outputs": [],
   "source": [
    "tt = (draw_matches_pr_diff/total_matches_pr_diff).dropna()"
   ]
  },
  {
   "cell_type": "code",
   "execution_count": 259,
   "metadata": {},
   "outputs": [
    {
     "data": {
      "text/plain": [
       "Text(0.5, 1.0, 'bet365 - Home-Away Difference vs Draws')"
      ]
     },
     "execution_count": 259,
     "metadata": {},
     "output_type": "execute_result"
    },
    {
     "data": {
      "image/png": "[encoded data removed]",
      "text/plain": [
       "<Figure size 432x288 with 1 Axes>"
      ]
     },
     "metadata": {
      "needs_background": "light"
     },
     "output_type": "display_data"
    }
   ],
   "source": [
    "ax = tt.plot.bar()\n",
    "ax.set_xlabel('Probability of Home-Away Difference')\n",
    "ax.set_ylabel('Probability of Draws Estimated')\n",
    "ax.set_title('bet365 - Home-Away Difference vs Draws')"
   ]
  },
  {
   "cell_type": "code",
   "execution_count": null,
   "metadata": {},
   "outputs": [],
   "source": []
  },
  {
   "cell_type": "code",
   "execution_count": 260,
   "metadata": {
    "scrolled": true
   },
   "outputs": [],
   "source": [
    "merged_data = pd.merge(bets[bets[\"odd_bookmakers\"]==\"Unibet\"], premier_league[[\"match_id\", \"match_hometeam_score\", \"match_awayteam_score\"]], how='inner', on='match_id')"
   ]
  },
  {
   "cell_type": "code",
   "execution_count": 261,
   "metadata": {},
   "outputs": [
    {
     "data": {
      "text/html": [
       "<div>\n",
       "<style scoped>\n",
       "    .dataframe tbody tr th:only-of-type {\n",
       "        vertical-align: middle;\n",
       "    }\n",
       "\n",
       "    .dataframe tbody tr th {\n",
       "        vertical-align: top;\n",
       "    }\n",
       "\n",
       "    .dataframe thead th {\n",
       "        text-align: right;\n",
       "    }\n",
       "</style>\n",
       "<table border=\"1\" class=\"dataframe\">\n",
       "  <thead>\n",
       "    <tr style=\"text-align: right;\">\n",
       "      <th></th>\n",
       "      <th>match_id</th>\n",
       "      <th>odd_bookmakers</th>\n",
       "      <th>odd_epoch</th>\n",
       "      <th>variable</th>\n",
       "      <th>value</th>\n",
       "      <th>match_hometeam_score</th>\n",
       "      <th>match_awayteam_score</th>\n",
       "    </tr>\n",
       "  </thead>\n",
       "  <tbody>\n",
       "    <tr>\n",
       "      <th>0</th>\n",
       "      <td>158697</td>\n",
       "      <td>Unibet</td>\n",
       "      <td>1488204395</td>\n",
       "      <td>odd_1</td>\n",
       "      <td>1.14</td>\n",
       "      <td>3.0</td>\n",
       "      <td>1.0</td>\n",
       "    </tr>\n",
       "    <tr>\n",
       "      <th>1</th>\n",
       "      <td>158697</td>\n",
       "      <td>Unibet</td>\n",
       "      <td>1488204395</td>\n",
       "      <td>odd_x</td>\n",
       "      <td>9.00</td>\n",
       "      <td>3.0</td>\n",
       "      <td>1.0</td>\n",
       "    </tr>\n",
       "    <tr>\n",
       "      <th>2</th>\n",
       "      <td>158697</td>\n",
       "      <td>Unibet</td>\n",
       "      <td>1488204395</td>\n",
       "      <td>odd_2</td>\n",
       "      <td>18.00</td>\n",
       "      <td>3.0</td>\n",
       "      <td>1.0</td>\n",
       "    </tr>\n",
       "    <tr>\n",
       "      <th>3</th>\n",
       "      <td>158697</td>\n",
       "      <td>Unibet</td>\n",
       "      <td>1488204395</td>\n",
       "      <td>ah-4.5_1</td>\n",
       "      <td>5.75</td>\n",
       "      <td>3.0</td>\n",
       "      <td>1.0</td>\n",
       "    </tr>\n",
       "    <tr>\n",
       "      <th>4</th>\n",
       "      <td>158697</td>\n",
       "      <td>Unibet</td>\n",
       "      <td>1488204395</td>\n",
       "      <td>ah-4.5_2</td>\n",
       "      <td>1.16</td>\n",
       "      <td>3.0</td>\n",
       "      <td>1.0</td>\n",
       "    </tr>\n",
       "  </tbody>\n",
       "</table>\n",
       "</div>"
      ],
      "text/plain": [
       "   match_id odd_bookmakers   odd_epoch  variable  value  match_hometeam_score  \\\n",
       "0    158697         Unibet  1488204395     odd_1   1.14                   3.0   \n",
       "1    158697         Unibet  1488204395     odd_x   9.00                   3.0   \n",
       "2    158697         Unibet  1488204395     odd_2  18.00                   3.0   \n",
       "3    158697         Unibet  1488204395  ah-4.5_1   5.75                   3.0   \n",
       "4    158697         Unibet  1488204395  ah-4.5_2   1.16                   3.0   \n",
       "\n",
       "   match_awayteam_score  \n",
       "0                   1.0  \n",
       "1                   1.0  \n",
       "2                   1.0  \n",
       "3                   1.0  \n",
       "4                   1.0  "
      ]
     },
     "execution_count": 261,
     "metadata": {},
     "output_type": "execute_result"
    }
   ],
   "source": [
    "merged_data.head()"
   ]
  },
  {
   "cell_type": "code",
   "execution_count": 262,
   "metadata": {},
   "outputs": [],
   "source": [
    "x=merged_data.sort_values('odd_epoch').groupby([\"match_id\", \"variable\"]).tail(1)"
   ]
  },
  {
   "cell_type": "code",
   "execution_count": 263,
   "metadata": {},
   "outputs": [],
   "source": [
    "x = x[x[\"variable\"].isin([\"odd_1\", \"odd_x\", \"odd_2\"])]"
   ]
  },
  {
   "cell_type": "code",
   "execution_count": 264,
   "metadata": {},
   "outputs": [],
   "source": [
    "y = pd.merge(x[[\"match_id\", \"odd_bookmakers\", \"match_hometeam_score\", \"match_awayteam_score\"]], x.pivot(index='match_id', columns='variable', values='value'), how='inner', on='match_id').drop_duplicates().reset_index(drop=True)"
   ]
  },
  {
   "cell_type": "code",
   "execution_count": 265,
   "metadata": {},
   "outputs": [],
   "source": [
    "y[\"result\"] = (y[\"match_hometeam_score\"]-y[\"match_awayteam_score\"]).apply(lambda x: 1 if x > 0 else (0 if x == 0 else -1))\n",
    "\n",
    "y[\"pr_1\"]=1/y[\"odd_1\"]\n",
    "y[\"pr_x\"]=1/y[\"odd_x\"]\n",
    "y[\"pr_2\"]=1/y[\"odd_2\"]\n",
    "\n",
    "y[\"norm_pr_1\"] = y[\"pr_1\"]/(y[\"pr_1\"]+y[\"pr_x\"]+y[\"pr_2\"])\n",
    "y[\"norm_pr_x\"] = y[\"pr_x\"]/(y[\"pr_1\"]+y[\"pr_x\"]+y[\"pr_2\"])\n",
    "y[\"norm_pr_2\"] = y[\"pr_2\"]/(y[\"pr_1\"]+y[\"pr_x\"]+y[\"pr_2\"])"
   ]
  },
  {
   "cell_type": "code",
   "execution_count": 266,
   "metadata": {
    "scrolled": false
   },
   "outputs": [
    {
     "data": {
      "text/html": [
       "<div>\n",
       "<style scoped>\n",
       "    .dataframe tbody tr th:only-of-type {\n",
       "        vertical-align: middle;\n",
       "    }\n",
       "\n",
       "    .dataframe tbody tr th {\n",
       "        vertical-align: top;\n",
       "    }\n",
       "\n",
       "    .dataframe thead th {\n",
       "        text-align: right;\n",
       "    }\n",
       "</style>\n",
       "<table border=\"1\" class=\"dataframe\">\n",
       "  <thead>\n",
       "    <tr style=\"text-align: right;\">\n",
       "      <th></th>\n",
       "      <th>match_id</th>\n",
       "      <th>odd_bookmakers</th>\n",
       "      <th>match_hometeam_score</th>\n",
       "      <th>match_awayteam_score</th>\n",
       "      <th>odd_1</th>\n",
       "      <th>odd_2</th>\n",
       "      <th>odd_x</th>\n",
       "      <th>result</th>\n",
       "      <th>pr_1</th>\n",
       "      <th>pr_x</th>\n",
       "      <th>pr_2</th>\n",
       "      <th>norm_pr_1</th>\n",
       "      <th>norm_pr_x</th>\n",
       "      <th>norm_pr_2</th>\n",
       "    </tr>\n",
       "  </thead>\n",
       "  <tbody>\n",
       "    <tr>\n",
       "      <th>0</th>\n",
       "      <td>158697</td>\n",
       "      <td>Unibet</td>\n",
       "      <td>3.0</td>\n",
       "      <td>1.0</td>\n",
       "      <td>1.14</td>\n",
       "      <td>18.00</td>\n",
       "      <td>9.0</td>\n",
       "      <td>1</td>\n",
       "      <td>0.877193</td>\n",
       "      <td>0.111111</td>\n",
       "      <td>0.055556</td>\n",
       "      <td>0.840336</td>\n",
       "      <td>0.106443</td>\n",
       "      <td>0.053221</td>\n",
       "    </tr>\n",
       "    <tr>\n",
       "      <th>1</th>\n",
       "      <td>158699</td>\n",
       "      <td>Unibet</td>\n",
       "      <td>1.0</td>\n",
       "      <td>2.0</td>\n",
       "      <td>1.64</td>\n",
       "      <td>5.50</td>\n",
       "      <td>4.0</td>\n",
       "      <td>-1</td>\n",
       "      <td>0.609756</td>\n",
       "      <td>0.250000</td>\n",
       "      <td>0.181818</td>\n",
       "      <td>0.585418</td>\n",
       "      <td>0.240021</td>\n",
       "      <td>0.174561</td>\n",
       "    </tr>\n",
       "    <tr>\n",
       "      <th>2</th>\n",
       "      <td>159175</td>\n",
       "      <td>Unibet</td>\n",
       "      <td>0.0</td>\n",
       "      <td>4.0</td>\n",
       "      <td>8.50</td>\n",
       "      <td>1.40</td>\n",
       "      <td>4.4</td>\n",
       "      <td>-1</td>\n",
       "      <td>0.117647</td>\n",
       "      <td>0.227273</td>\n",
       "      <td>0.714286</td>\n",
       "      <td>0.111071</td>\n",
       "      <td>0.214569</td>\n",
       "      <td>0.674360</td>\n",
       "    </tr>\n",
       "    <tr>\n",
       "      <th>3</th>\n",
       "      <td>159182</td>\n",
       "      <td>Unibet</td>\n",
       "      <td>0.0</td>\n",
       "      <td>2.0</td>\n",
       "      <td>1.83</td>\n",
       "      <td>4.60</td>\n",
       "      <td>3.3</td>\n",
       "      <td>-1</td>\n",
       "      <td>0.546448</td>\n",
       "      <td>0.303030</td>\n",
       "      <td>0.217391</td>\n",
       "      <td>0.512198</td>\n",
       "      <td>0.284037</td>\n",
       "      <td>0.203766</td>\n",
       "    </tr>\n",
       "    <tr>\n",
       "      <th>4</th>\n",
       "      <td>159177</td>\n",
       "      <td>Unibet</td>\n",
       "      <td>1.0</td>\n",
       "      <td>0.0</td>\n",
       "      <td>2.28</td>\n",
       "      <td>3.35</td>\n",
       "      <td>3.2</td>\n",
       "      <td>1</td>\n",
       "      <td>0.438596</td>\n",
       "      <td>0.312500</td>\n",
       "      <td>0.298507</td>\n",
       "      <td>0.417869</td>\n",
       "      <td>0.297731</td>\n",
       "      <td>0.284400</td>\n",
       "    </tr>\n",
       "  </tbody>\n",
       "</table>\n",
       "</div>"
      ],
      "text/plain": [
       "   match_id odd_bookmakers  match_hometeam_score  match_awayteam_score  odd_1  \\\n",
       "0    158697         Unibet                   3.0                   1.0   1.14   \n",
       "1    158699         Unibet                   1.0                   2.0   1.64   \n",
       "2    159175         Unibet                   0.0                   4.0   8.50   \n",
       "3    159182         Unibet                   0.0                   2.0   1.83   \n",
       "4    159177         Unibet                   1.0                   0.0   2.28   \n",
       "\n",
       "   odd_2  odd_x  result      pr_1      pr_x      pr_2  norm_pr_1  norm_pr_x  \\\n",
       "0  18.00    9.0       1  0.877193  0.111111  0.055556   0.840336   0.106443   \n",
       "1   5.50    4.0      -1  0.609756  0.250000  0.181818   0.585418   0.240021   \n",
       "2   1.40    4.4      -1  0.117647  0.227273  0.714286   0.111071   0.214569   \n",
       "3   4.60    3.3      -1  0.546448  0.303030  0.217391   0.512198   0.284037   \n",
       "4   3.35    3.2       1  0.438596  0.312500  0.298507   0.417869   0.297731   \n",
       "\n",
       "   norm_pr_2  \n",
       "0   0.053221  \n",
       "1   0.174561  \n",
       "2   0.674360  \n",
       "3   0.203766  \n",
       "4   0.284400  "
      ]
     },
     "execution_count": 266,
     "metadata": {},
     "output_type": "execute_result"
    }
   ],
   "source": [
    "y.head()"
   ]
  },
  {
   "cell_type": "code",
   "execution_count": 267,
   "metadata": {},
   "outputs": [],
   "source": [
    "draws = y[y[\"result\"]==0]"
   ]
  },
  {
   "cell_type": "code",
   "execution_count": 268,
   "metadata": {
    "scrolled": true
   },
   "outputs": [],
   "source": [
    "total_matches_pr_x = pd.cut((y[\"pr_x\"]), bins=np.arange(0, 0.4, 0.05), include_lowest=True).value_counts(sort=False)"
   ]
  },
  {
   "cell_type": "code",
   "execution_count": 269,
   "metadata": {
    "scrolled": true
   },
   "outputs": [],
   "source": [
    "draw_matches_pr_x = pd.cut((y[y[\"result\"]==0][\"pr_x\"]), bins=np.arange(0, 0.4, 0.05), include_lowest=True).value_counts(sort=False)"
   ]
  },
  {
   "cell_type": "code",
   "execution_count": 270,
   "metadata": {},
   "outputs": [],
   "source": [
    "t = (draw_matches_pr_x/total_matches_pr_x).dropna()"
   ]
  },
  {
   "cell_type": "code",
   "execution_count": 271,
   "metadata": {},
   "outputs": [
    {
     "data": {
      "text/plain": [
       "Text(0.5, 1.0, '1xBet - Draws vs Draws Implied')"
      ]
     },
     "execution_count": 271,
     "metadata": {},
     "output_type": "execute_result"
    },
    {
     "data": {
      "image/png": "[encoded data removed]",
      "text/plain": [
       "<Figure size 432x288 with 1 Axes>"
      ]
     },
     "metadata": {
      "needs_background": "light"
     },
     "output_type": "display_data"
    }
   ],
   "source": [
    "ax = t.plot.bar()\n",
    "ax.set_xlabel('Probability of Draws Implied')\n",
    "ax.set_ylabel('Probability of Draws Estimated')\n",
    "ax.set_title('Unibet - Draws vs Draws Implied')"
   ]
  },
  {
   "cell_type": "code",
   "execution_count": 272,
   "metadata": {},
   "outputs": [],
   "source": [
    "y[\"interval\"] = pd.cut((y[\"pr_1\"]-y[\"pr_2\"]), bins=np.arange(-1, 1.2, 0.2), include_lowest=True)"
   ]
  },
  {
   "cell_type": "code",
   "execution_count": 273,
   "metadata": {},
   "outputs": [],
   "source": [
    "total_matches_pr_diff = y[\"interval\"].value_counts(sort=False)"
   ]
  },
  {
   "cell_type": "code",
   "execution_count": 274,
   "metadata": {},
   "outputs": [],
   "source": [
    "draw_matches_pr_diff = y[y[\"result\"]==0][\"interval\"].value_counts(sort=False)"
   ]
  },
  {
   "cell_type": "code",
   "execution_count": 275,
   "metadata": {},
   "outputs": [],
   "source": [
    "tt = (draw_matches_pr_diff/total_matches_pr_diff).dropna()"
   ]
  },
  {
   "cell_type": "code",
   "execution_count": 277,
   "metadata": {},
   "outputs": [
    {
     "data": {
      "text/plain": [
       "Text(0.5, 1.0, 'Unibet - Home-Away Difference vs Draws')"
      ]
     },
     "execution_count": 277,
     "metadata": {},
     "output_type": "execute_result"
    },
    {
     "data": {
      "image/png": "[encoded data removed]",
      "text/plain": [
       "<Figure size 432x288 with 1 Axes>"
      ]
     },
     "metadata": {
      "needs_background": "light"
     },
     "output_type": "display_data"
    }
   ],
   "source": [
    "ax = tt.plot.bar()\n",
    "ax.set_xlabel('Probability of Home-Away Difference')\n",
    "ax.set_ylabel('Probability of Draws Estimated')\n",
    "ax.set_title('Unibet - Home-Away Difference vs Draws')"
   ]
  },
  {
   "cell_type": "code",
   "execution_count": null,
   "metadata": {},
   "outputs": [],
   "source": []
  },
  {
   "cell_type": "code",
   "execution_count": null,
   "metadata": {},
   "outputs": [],
   "source": []
  },
  {
   "cell_type": "code",
   "execution_count": null,
   "metadata": {},
   "outputs": [],
   "source": []
  }
 ],
 "metadata": {
  "kernelspec": {
   "display_name": "Python 3",
   "language": "python",
   "name": "python3"
  },
  "language_info": {
   "codemirror_mode": {
    "name": "ipython",
    "version": 3
   },
   "file_extension": ".py",
   "mimetype": "text/x-python",
   "name": "python",
   "nbconvert_exporter": "python",
   "pygments_lexer": "ipython3",
   "version": "3.7.3"
  }
 },
 "nbformat": 4,
 "nbformat_minor": 2
}
