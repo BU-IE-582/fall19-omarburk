{
 "cells": [
  {
   "cell_type": "code",
   "execution_count": 1,
   "metadata": {},
   "outputs": [],
   "source": [
    "import numpy as np\n",
    "import pandas as pd"
   ]
  },
  {
   "cell_type": "code",
   "execution_count": 2,
   "metadata": {},
   "outputs": [],
   "source": [
    "bets = pd.read_csv(\"bets.csv\")"
   ]
  },
  {
   "cell_type": "code",
   "execution_count": 3,
   "metadata": {},
   "outputs": [],
   "source": [
    "booking = pd.read_csv(\"booking.csv\")"
   ]
  },
  {
   "cell_type": "code",
   "execution_count": 4,
   "metadata": {},
   "outputs": [],
   "source": [
    "goals = pd.read_csv(\"goals.csv\")"
   ]
  },
  {
   "cell_type": "code",
   "execution_count": 57,
   "metadata": {},
   "outputs": [],
   "source": [
    "matches = pd.read_csv(\"matches.csv\")"
   ]
  },
  {
   "cell_type": "code",
   "execution_count": 6,
   "metadata": {},
   "outputs": [],
   "source": [
    "stats = pd.read_csv(\"stats.csv\")"
   ]
  },
  {
   "cell_type": "code",
   "execution_count": 7,
   "metadata": {
    "scrolled": true
   },
   "outputs": [
    {
     "data": {
      "text/html": [
       "<div>\n",
       "<style scoped>\n",
       "    .dataframe tbody tr th:only-of-type {\n",
       "        vertical-align: middle;\n",
       "    }\n",
       "\n",
       "    .dataframe tbody tr th {\n",
       "        vertical-align: top;\n",
       "    }\n",
       "\n",
       "    .dataframe thead th {\n",
       "        text-align: right;\n",
       "    }\n",
       "</style>\n",
       "<table border=\"1\" class=\"dataframe\">\n",
       "  <thead>\n",
       "    <tr style=\"text-align: right;\">\n",
       "      <th></th>\n",
       "      <th>match_id</th>\n",
       "      <th>odd_bookmakers</th>\n",
       "      <th>odd_epoch</th>\n",
       "      <th>variable</th>\n",
       "      <th>value</th>\n",
       "    </tr>\n",
       "  </thead>\n",
       "  <tbody>\n",
       "    <tr>\n",
       "      <th>0</th>\n",
       "      <td>146845</td>\n",
       "      <td>BetOlimp</td>\n",
       "      <td>1486301854</td>\n",
       "      <td>odd_1</td>\n",
       "      <td>1.96</td>\n",
       "    </tr>\n",
       "    <tr>\n",
       "      <th>1</th>\n",
       "      <td>151780</td>\n",
       "      <td>10Bet</td>\n",
       "      <td>1486314920</td>\n",
       "      <td>odd_1</td>\n",
       "      <td>2.15</td>\n",
       "    </tr>\n",
       "    <tr>\n",
       "      <th>2</th>\n",
       "      <td>151780</td>\n",
       "      <td>18bet</td>\n",
       "      <td>1486314920</td>\n",
       "      <td>odd_1</td>\n",
       "      <td>2.17</td>\n",
       "    </tr>\n",
       "    <tr>\n",
       "      <th>3</th>\n",
       "      <td>151780</td>\n",
       "      <td>1xBet</td>\n",
       "      <td>1486314920</td>\n",
       "      <td>odd_1</td>\n",
       "      <td>2.20</td>\n",
       "    </tr>\n",
       "    <tr>\n",
       "      <th>4</th>\n",
       "      <td>151780</td>\n",
       "      <td>5Dimes</td>\n",
       "      <td>1486314920</td>\n",
       "      <td>odd_1</td>\n",
       "      <td>2.23</td>\n",
       "    </tr>\n",
       "  </tbody>\n",
       "</table>\n",
       "</div>"
      ],
      "text/plain": [
       "   match_id odd_bookmakers   odd_epoch variable  value\n",
       "0    146845       BetOlimp  1486301854    odd_1   1.96\n",
       "1    151780          10Bet  1486314920    odd_1   2.15\n",
       "2    151780          18bet  1486314920    odd_1   2.17\n",
       "3    151780          1xBet  1486314920    odd_1   2.20\n",
       "4    151780         5Dimes  1486314920    odd_1   2.23"
      ]
     },
     "execution_count": 7,
     "metadata": {},
     "output_type": "execute_result"
    }
   ],
   "source": [
    "bets.head()"
   ]
  },
  {
   "cell_type": "code",
   "execution_count": 41,
   "metadata": {},
   "outputs": [],
   "source": [
    "bets[\"odd_epoch\"] = pd.to_datetime(bets[\"odd_epoch\"], unit='s')"
   ]
  },
  {
   "cell_type": "code",
   "execution_count": 42,
   "metadata": {
    "scrolled": true
   },
   "outputs": [
    {
     "data": {
      "text/html": [
       "<div>\n",
       "<style scoped>\n",
       "    .dataframe tbody tr th:only-of-type {\n",
       "        vertical-align: middle;\n",
       "    }\n",
       "\n",
       "    .dataframe tbody tr th {\n",
       "        vertical-align: top;\n",
       "    }\n",
       "\n",
       "    .dataframe thead th {\n",
       "        text-align: right;\n",
       "    }\n",
       "</style>\n",
       "<table border=\"1\" class=\"dataframe\">\n",
       "  <thead>\n",
       "    <tr style=\"text-align: right;\">\n",
       "      <th></th>\n",
       "      <th>match_id</th>\n",
       "      <th>odd_bookmakers</th>\n",
       "      <th>odd_epoch</th>\n",
       "      <th>variable</th>\n",
       "      <th>value</th>\n",
       "    </tr>\n",
       "  </thead>\n",
       "  <tbody>\n",
       "    <tr>\n",
       "      <th>0</th>\n",
       "      <td>146845</td>\n",
       "      <td>BetOlimp</td>\n",
       "      <td>2017-02-05 13:37:34</td>\n",
       "      <td>odd_1</td>\n",
       "      <td>1.96</td>\n",
       "    </tr>\n",
       "    <tr>\n",
       "      <th>1</th>\n",
       "      <td>151780</td>\n",
       "      <td>10Bet</td>\n",
       "      <td>2017-02-05 17:15:20</td>\n",
       "      <td>odd_1</td>\n",
       "      <td>2.15</td>\n",
       "    </tr>\n",
       "    <tr>\n",
       "      <th>2</th>\n",
       "      <td>151780</td>\n",
       "      <td>18bet</td>\n",
       "      <td>2017-02-05 17:15:20</td>\n",
       "      <td>odd_1</td>\n",
       "      <td>2.17</td>\n",
       "    </tr>\n",
       "    <tr>\n",
       "      <th>3</th>\n",
       "      <td>151780</td>\n",
       "      <td>1xBet</td>\n",
       "      <td>2017-02-05 17:15:20</td>\n",
       "      <td>odd_1</td>\n",
       "      <td>2.20</td>\n",
       "    </tr>\n",
       "    <tr>\n",
       "      <th>4</th>\n",
       "      <td>151780</td>\n",
       "      <td>5Dimes</td>\n",
       "      <td>2017-02-05 17:15:20</td>\n",
       "      <td>odd_1</td>\n",
       "      <td>2.23</td>\n",
       "    </tr>\n",
       "  </tbody>\n",
       "</table>\n",
       "</div>"
      ],
      "text/plain": [
       "   match_id odd_bookmakers           odd_epoch variable  value\n",
       "0    146845       BetOlimp 2017-02-05 13:37:34    odd_1   1.96\n",
       "1    151780          10Bet 2017-02-05 17:15:20    odd_1   2.15\n",
       "2    151780          18bet 2017-02-05 17:15:20    odd_1   2.17\n",
       "3    151780          1xBet 2017-02-05 17:15:20    odd_1   2.20\n",
       "4    151780         5Dimes 2017-02-05 17:15:20    odd_1   2.23"
      ]
     },
     "execution_count": 42,
     "metadata": {},
     "output_type": "execute_result"
    }
   ],
   "source": [
    "bets.head()"
   ]
  },
  {
   "cell_type": "code",
   "execution_count": 68,
   "metadata": {
    "collapsed": true
   },
   "outputs": [
    {
     "data": {
      "text/plain": [
       "match_id  odd_bookmakers\n",
       "145899    10Bet            2017-03-12 08:03:01\n",
       "          188BET           2017-03-12 08:03:01\n",
       "          18bet            2017-03-12 08:03:01\n",
       "          1xBet            2017-03-12 08:03:01\n",
       "          888sport         2017-03-12 08:03:01\n",
       "          Bestbet          2017-03-12 08:03:01\n",
       "          BetEast          2017-03-12 08:03:01\n",
       "          BetOlimp         2017-03-12 08:03:01\n",
       "          BetVictor        2017-03-12 08:03:01\n",
       "          Betclic          2017-03-12 08:03:01\n",
       "          Betclic.it       2017-03-12 08:03:01\n",
       "          Betfred          2017-03-12 08:03:01\n",
       "          Bethard          2017-03-12 08:03:01\n",
       "          Betrally         2017-03-12 08:03:01\n",
       "          Betway           2017-03-12 08:03:01\n",
       "          BoyleSports      2017-03-12 08:03:01\n",
       "          Chance.cz        2017-03-12 08:03:01\n",
       "          ComeOn           2017-03-12 08:03:01\n",
       "          Coral            2017-03-12 08:03:01\n",
       "          Expekt           2017-03-12 08:03:01\n",
       "          Intertops        2017-03-12 08:03:01\n",
       "          Interwetten      2017-03-12 08:03:01\n",
       "          Interwetten.es   2017-03-12 08:03:01\n",
       "          Jetbull          2017-03-12 08:03:01\n",
       "          Luxbet           2017-03-12 08:03:01\n",
       "          Marathonbet      2017-03-12 08:03:01\n",
       "          MrRingo          2017-03-12 08:03:01\n",
       "          Noxwin           2017-03-12 08:03:01\n",
       "          PaddyPower.it    2017-03-12 08:03:01\n",
       "          Pinnacle         2017-03-12 08:03:01\n",
       "                                   ...        \n",
       "317867    BetVictor        2019-10-10 17:42:58\n",
       "          Betclic          2019-10-10 17:42:58\n",
       "          Betfair          2019-10-10 17:42:58\n",
       "          Betfred          2019-10-10 17:42:58\n",
       "          Betway           2019-10-10 17:42:58\n",
       "          BoyleSports      2019-10-10 17:42:58\n",
       "          Chance.cz        2019-10-10 17:42:58\n",
       "          Coolbet          2019-10-10 17:42:58\n",
       "          Expekt           2019-10-10 17:42:58\n",
       "          Jetbull          2019-10-10 17:42:58\n",
       "          Leonbets         2019-10-10 17:42:58\n",
       "          Marathonbet      2019-10-10 17:42:58\n",
       "          MrGreen          2019-10-10 17:42:58\n",
       "          Oddsring         2019-10-10 17:42:58\n",
       "          Pinnacle         2019-10-10 17:42:58\n",
       "          SAZKAbet.cz      2019-10-10 17:42:58\n",
       "          SBOBET           2019-10-10 17:42:58\n",
       "          STS.pl           2019-10-10 17:42:58\n",
       "          Sportingbet      2019-10-10 17:42:58\n",
       "          Tipsport.cz      2019-10-10 17:42:58\n",
       "          Tipsport.sk      2019-10-10 17:42:58\n",
       "          Unibet           2019-10-10 17:42:58\n",
       "          Unibet.it        2019-10-10 17:42:58\n",
       "          William Hill     2019-10-10 17:42:58\n",
       "          bet-at-home      2019-10-10 17:42:58\n",
       "          bet365           2019-10-10 17:42:58\n",
       "          bet365.it        2019-10-10 17:42:58\n",
       "          bwin             2019-10-10 17:42:58\n",
       "          bwin.es          2019-10-10 17:42:58\n",
       "          youwin           2019-10-10 17:42:58\n",
       "Name: odd_epoch, Length: 122086, dtype: datetime64[ns]"
      ]
     },
     "execution_count": 68,
     "metadata": {},
     "output_type": "execute_result"
    }
   ],
   "source": [
    "bets.groupby([\"match_id\", \"odd_bookmakers\"]).max()[\"odd_epoch\"]"
   ]
  },
  {
   "cell_type": "code",
   "execution_count": 16,
   "metadata": {},
   "outputs": [
    {
     "data": {
      "text/plain": [
       "2306"
      ]
     },
     "execution_count": 16,
     "metadata": {},
     "output_type": "execute_result"
    }
   ],
   "source": [
    "bets[\"match_id\"].nunique()"
   ]
  },
  {
   "cell_type": "code",
   "execution_count": 58,
   "metadata": {
    "scrolled": false
   },
   "outputs": [
    {
     "data": {
      "text/html": [
       "<div>\n",
       "<style scoped>\n",
       "    .dataframe tbody tr th:only-of-type {\n",
       "        vertical-align: middle;\n",
       "    }\n",
       "\n",
       "    .dataframe tbody tr th {\n",
       "        vertical-align: top;\n",
       "    }\n",
       "\n",
       "    .dataframe thead th {\n",
       "        text-align: right;\n",
       "    }\n",
       "</style>\n",
       "<table border=\"1\" class=\"dataframe\">\n",
       "  <thead>\n",
       "    <tr style=\"text-align: right;\">\n",
       "      <th></th>\n",
       "      <th>match_awayteam_id</th>\n",
       "      <th>match_hometeam_id</th>\n",
       "      <th>match_id</th>\n",
       "      <th>epoch</th>\n",
       "      <th>match_status</th>\n",
       "      <th>match_live</th>\n",
       "      <th>match_hometeam_name</th>\n",
       "      <th>match_awayteam_name</th>\n",
       "      <th>match_hometeam_score</th>\n",
       "      <th>match_awayteam_score</th>\n",
       "      <th>match_hometeam_halftime_score</th>\n",
       "      <th>match_awayteam_halftime_score</th>\n",
       "      <th>match_hometeam_extra_score</th>\n",
       "      <th>match_awayteam_extra_score</th>\n",
       "      <th>match_hometeam_penalty_score</th>\n",
       "      <th>match_awayteam_penalty_score</th>\n",
       "      <th>league_id</th>\n",
       "    </tr>\n",
       "  </thead>\n",
       "  <tbody>\n",
       "    <tr>\n",
       "      <th>0</th>\n",
       "      <td>7109</td>\n",
       "      <td>7097</td>\n",
       "      <td>41196</td>\n",
       "      <td>1505559600</td>\n",
       "      <td>Finished</td>\n",
       "      <td>0</td>\n",
       "      <td>Levante</td>\n",
       "      <td>Valencia</td>\n",
       "      <td>1.0</td>\n",
       "      <td>1.0</td>\n",
       "      <td>1.0</td>\n",
       "      <td>1.0</td>\n",
       "      <td>1.0</td>\n",
       "      <td>1.0</td>\n",
       "      <td>NaN</td>\n",
       "      <td>NaN</td>\n",
       "      <td>468</td>\n",
       "    </tr>\n",
       "    <tr>\n",
       "      <th>1</th>\n",
       "      <td>2614</td>\n",
       "      <td>2619</td>\n",
       "      <td>13331</td>\n",
       "      <td>1505561400</td>\n",
       "      <td>Finished</td>\n",
       "      <td>0</td>\n",
       "      <td>Crystal Palace</td>\n",
       "      <td>Southampton</td>\n",
       "      <td>0.0</td>\n",
       "      <td>1.0</td>\n",
       "      <td>0.0</td>\n",
       "      <td>1.0</td>\n",
       "      <td>0.0</td>\n",
       "      <td>1.0</td>\n",
       "      <td>NaN</td>\n",
       "      <td>NaN</td>\n",
       "      <td>148</td>\n",
       "    </tr>\n",
       "    <tr>\n",
       "      <th>2</th>\n",
       "      <td>3224</td>\n",
       "      <td>3238</td>\n",
       "      <td>17683</td>\n",
       "      <td>1505568600</td>\n",
       "      <td>Finished</td>\n",
       "      <td>0</td>\n",
       "      <td>Eintracht Frankfurt</td>\n",
       "      <td>FC Augsburg</td>\n",
       "      <td>1.0</td>\n",
       "      <td>2.0</td>\n",
       "      <td>0.0</td>\n",
       "      <td>1.0</td>\n",
       "      <td>0.0</td>\n",
       "      <td>1.0</td>\n",
       "      <td>NaN</td>\n",
       "      <td>NaN</td>\n",
       "      <td>195</td>\n",
       "    </tr>\n",
       "    <tr>\n",
       "      <th>3</th>\n",
       "      <td>3235</td>\n",
       "      <td>3223</td>\n",
       "      <td>17684</td>\n",
       "      <td>1505568600</td>\n",
       "      <td>Finished</td>\n",
       "      <td>0</td>\n",
       "      <td>SV Werder Bremen</td>\n",
       "      <td>Schalke</td>\n",
       "      <td>1.0</td>\n",
       "      <td>2.0</td>\n",
       "      <td>1.0</td>\n",
       "      <td>1.0</td>\n",
       "      <td>1.0</td>\n",
       "      <td>1.0</td>\n",
       "      <td>NaN</td>\n",
       "      <td>NaN</td>\n",
       "      <td>195</td>\n",
       "    </tr>\n",
       "    <tr>\n",
       "      <th>4</th>\n",
       "      <td>3237</td>\n",
       "      <td>3225</td>\n",
       "      <td>17682</td>\n",
       "      <td>1505568600</td>\n",
       "      <td>Finished</td>\n",
       "      <td>0</td>\n",
       "      <td>Bayern Munich</td>\n",
       "      <td>1. FSV Mainz 05</td>\n",
       "      <td>4.0</td>\n",
       "      <td>0.0</td>\n",
       "      <td>2.0</td>\n",
       "      <td>0.0</td>\n",
       "      <td>2.0</td>\n",
       "      <td>0.0</td>\n",
       "      <td>NaN</td>\n",
       "      <td>NaN</td>\n",
       "      <td>195</td>\n",
       "    </tr>\n",
       "  </tbody>\n",
       "</table>\n",
       "</div>"
      ],
      "text/plain": [
       "   match_awayteam_id  match_hometeam_id  match_id       epoch match_status  \\\n",
       "0               7109               7097     41196  1505559600     Finished   \n",
       "1               2614               2619     13331  1505561400     Finished   \n",
       "2               3224               3238     17683  1505568600     Finished   \n",
       "3               3235               3223     17684  1505568600     Finished   \n",
       "4               3237               3225     17682  1505568600     Finished   \n",
       "\n",
       "   match_live  match_hometeam_name match_awayteam_name  match_hometeam_score  \\\n",
       "0           0              Levante            Valencia                   1.0   \n",
       "1           0       Crystal Palace         Southampton                   0.0   \n",
       "2           0  Eintracht Frankfurt         FC Augsburg                   1.0   \n",
       "3           0     SV Werder Bremen             Schalke                   1.0   \n",
       "4           0        Bayern Munich     1. FSV Mainz 05                   4.0   \n",
       "\n",
       "   match_awayteam_score  match_hometeam_halftime_score  \\\n",
       "0                   1.0                            1.0   \n",
       "1                   1.0                            0.0   \n",
       "2                   2.0                            0.0   \n",
       "3                   2.0                            1.0   \n",
       "4                   0.0                            2.0   \n",
       "\n",
       "   match_awayteam_halftime_score  match_hometeam_extra_score  \\\n",
       "0                            1.0                         1.0   \n",
       "1                            1.0                         0.0   \n",
       "2                            1.0                         0.0   \n",
       "3                            1.0                         1.0   \n",
       "4                            0.0                         2.0   \n",
       "\n",
       "   match_awayteam_extra_score  match_hometeam_penalty_score  \\\n",
       "0                         1.0                           NaN   \n",
       "1                         1.0                           NaN   \n",
       "2                         1.0                           NaN   \n",
       "3                         1.0                           NaN   \n",
       "4                         0.0                           NaN   \n",
       "\n",
       "   match_awayteam_penalty_score  league_id  \n",
       "0                           NaN        468  \n",
       "1                           NaN        148  \n",
       "2                           NaN        195  \n",
       "3                           NaN        195  \n",
       "4                           NaN        195  "
      ]
     },
     "execution_count": 58,
     "metadata": {},
     "output_type": "execute_result"
    }
   ],
   "source": [
    "matches.head()"
   ]
  },
  {
   "cell_type": "code",
   "execution_count": 59,
   "metadata": {},
   "outputs": [],
   "source": [
    "premier_league = matches[matches[\"league_id\"]==148].copy()"
   ]
  },
  {
   "cell_type": "code",
   "execution_count": 60,
   "metadata": {
    "scrolled": false
   },
   "outputs": [
    {
     "data": {
      "text/html": [
       "<div>\n",
       "<style scoped>\n",
       "    .dataframe tbody tr th:only-of-type {\n",
       "        vertical-align: middle;\n",
       "    }\n",
       "\n",
       "    .dataframe tbody tr th {\n",
       "        vertical-align: top;\n",
       "    }\n",
       "\n",
       "    .dataframe thead th {\n",
       "        text-align: right;\n",
       "    }\n",
       "</style>\n",
       "<table border=\"1\" class=\"dataframe\">\n",
       "  <thead>\n",
       "    <tr style=\"text-align: right;\">\n",
       "      <th></th>\n",
       "      <th>match_awayteam_id</th>\n",
       "      <th>match_hometeam_id</th>\n",
       "      <th>match_id</th>\n",
       "      <th>epoch</th>\n",
       "      <th>match_status</th>\n",
       "      <th>match_live</th>\n",
       "      <th>match_hometeam_name</th>\n",
       "      <th>match_awayteam_name</th>\n",
       "      <th>match_hometeam_score</th>\n",
       "      <th>match_awayteam_score</th>\n",
       "      <th>match_hometeam_halftime_score</th>\n",
       "      <th>match_awayteam_halftime_score</th>\n",
       "      <th>match_hometeam_extra_score</th>\n",
       "      <th>match_awayteam_extra_score</th>\n",
       "      <th>match_hometeam_penalty_score</th>\n",
       "      <th>match_awayteam_penalty_score</th>\n",
       "      <th>league_id</th>\n",
       "    </tr>\n",
       "  </thead>\n",
       "  <tbody>\n",
       "    <tr>\n",
       "      <th>1</th>\n",
       "      <td>2614</td>\n",
       "      <td>2619</td>\n",
       "      <td>13331</td>\n",
       "      <td>1505561400</td>\n",
       "      <td>Finished</td>\n",
       "      <td>0</td>\n",
       "      <td>Crystal Palace</td>\n",
       "      <td>Southampton</td>\n",
       "      <td>0.0</td>\n",
       "      <td>1.0</td>\n",
       "      <td>0.0</td>\n",
       "      <td>1.0</td>\n",
       "      <td>0.0</td>\n",
       "      <td>1.0</td>\n",
       "      <td>NaN</td>\n",
       "      <td>NaN</td>\n",
       "      <td>148</td>\n",
       "    </tr>\n",
       "    <tr>\n",
       "      <th>5</th>\n",
       "      <td>2626</td>\n",
       "      <td>2623</td>\n",
       "      <td>13329</td>\n",
       "      <td>1505570400</td>\n",
       "      <td>Finished</td>\n",
       "      <td>0</td>\n",
       "      <td>Watford</td>\n",
       "      <td>Manchester City</td>\n",
       "      <td>0.0</td>\n",
       "      <td>6.0</td>\n",
       "      <td>0.0</td>\n",
       "      <td>3.0</td>\n",
       "      <td>0.0</td>\n",
       "      <td>3.0</td>\n",
       "      <td>NaN</td>\n",
       "      <td>NaN</td>\n",
       "      <td>148</td>\n",
       "    </tr>\n",
       "    <tr>\n",
       "      <th>6</th>\n",
       "      <td>2629</td>\n",
       "      <td>2621</td>\n",
       "      <td>13327</td>\n",
       "      <td>1505570400</td>\n",
       "      <td>Finished</td>\n",
       "      <td>0</td>\n",
       "      <td>Liverpool</td>\n",
       "      <td>Burnley</td>\n",
       "      <td>1.0</td>\n",
       "      <td>1.0</td>\n",
       "      <td>1.0</td>\n",
       "      <td>1.0</td>\n",
       "      <td>1.0</td>\n",
       "      <td>1.0</td>\n",
       "      <td>NaN</td>\n",
       "      <td>NaN</td>\n",
       "      <td>148</td>\n",
       "    </tr>\n",
       "    <tr>\n",
       "      <th>7</th>\n",
       "      <td>2641</td>\n",
       "      <td>2654</td>\n",
       "      <td>13456</td>\n",
       "      <td>1505570400</td>\n",
       "      <td>Finished</td>\n",
       "      <td>0</td>\n",
       "      <td>Sheffield Utd</td>\n",
       "      <td>Norwich</td>\n",
       "      <td>0.0</td>\n",
       "      <td>1.0</td>\n",
       "      <td>0.0</td>\n",
       "      <td>1.0</td>\n",
       "      <td>0.0</td>\n",
       "      <td>1.0</td>\n",
       "      <td>NaN</td>\n",
       "      <td>NaN</td>\n",
       "      <td>148</td>\n",
       "    </tr>\n",
       "    <tr>\n",
       "      <th>27</th>\n",
       "      <td>2617</td>\n",
       "      <td>2616</td>\n",
       "      <td>13324</td>\n",
       "      <td>1505651400</td>\n",
       "      <td>Finished</td>\n",
       "      <td>0</td>\n",
       "      <td>Chelsea</td>\n",
       "      <td>Arsenal</td>\n",
       "      <td>0.0</td>\n",
       "      <td>0.0</td>\n",
       "      <td>0.0</td>\n",
       "      <td>0.0</td>\n",
       "      <td>0.0</td>\n",
       "      <td>0.0</td>\n",
       "      <td>NaN</td>\n",
       "      <td>NaN</td>\n",
       "      <td>148</td>\n",
       "    </tr>\n",
       "  </tbody>\n",
       "</table>\n",
       "</div>"
      ],
      "text/plain": [
       "    match_awayteam_id  match_hometeam_id  match_id       epoch match_status  \\\n",
       "1                2614               2619     13331  1505561400     Finished   \n",
       "5                2626               2623     13329  1505570400     Finished   \n",
       "6                2629               2621     13327  1505570400     Finished   \n",
       "7                2641               2654     13456  1505570400     Finished   \n",
       "27               2617               2616     13324  1505651400     Finished   \n",
       "\n",
       "    match_live match_hometeam_name match_awayteam_name  match_hometeam_score  \\\n",
       "1            0      Crystal Palace         Southampton                   0.0   \n",
       "5            0             Watford     Manchester City                   0.0   \n",
       "6            0           Liverpool             Burnley                   1.0   \n",
       "7            0       Sheffield Utd             Norwich                   0.0   \n",
       "27           0             Chelsea             Arsenal                   0.0   \n",
       "\n",
       "    match_awayteam_score  match_hometeam_halftime_score  \\\n",
       "1                    1.0                            0.0   \n",
       "5                    6.0                            0.0   \n",
       "6                    1.0                            1.0   \n",
       "7                    1.0                            0.0   \n",
       "27                   0.0                            0.0   \n",
       "\n",
       "    match_awayteam_halftime_score  match_hometeam_extra_score  \\\n",
       "1                             1.0                         0.0   \n",
       "5                             3.0                         0.0   \n",
       "6                             1.0                         1.0   \n",
       "7                             1.0                         0.0   \n",
       "27                            0.0                         0.0   \n",
       "\n",
       "    match_awayteam_extra_score  match_hometeam_penalty_score  \\\n",
       "1                          1.0                           NaN   \n",
       "5                          3.0                           NaN   \n",
       "6                          1.0                           NaN   \n",
       "7                          1.0                           NaN   \n",
       "27                         0.0                           NaN   \n",
       "\n",
       "    match_awayteam_penalty_score  league_id  \n",
       "1                            NaN        148  \n",
       "5                            NaN        148  \n",
       "6                            NaN        148  \n",
       "7                            NaN        148  \n",
       "27                           NaN        148  "
      ]
     },
     "execution_count": 60,
     "metadata": {},
     "output_type": "execute_result"
    }
   ],
   "source": [
    "premier_league.head()"
   ]
  },
  {
   "cell_type": "code",
   "execution_count": 61,
   "metadata": {
    "scrolled": true
   },
   "outputs": [],
   "source": [
    "premier_league[\"epoch\"] = pd.to_datetime(premier_league[\"epoch\"], unit='s')"
   ]
  },
  {
   "cell_type": "code",
   "execution_count": 75,
   "metadata": {
    "scrolled": false
   },
   "outputs": [
    {
     "data": {
      "text/html": [
       "<div>\n",
       "<style scoped>\n",
       "    .dataframe tbody tr th:only-of-type {\n",
       "        vertical-align: middle;\n",
       "    }\n",
       "\n",
       "    .dataframe tbody tr th {\n",
       "        vertical-align: top;\n",
       "    }\n",
       "\n",
       "    .dataframe thead th {\n",
       "        text-align: right;\n",
       "    }\n",
       "</style>\n",
       "<table border=\"1\" class=\"dataframe\">\n",
       "  <thead>\n",
       "    <tr style=\"text-align: right;\">\n",
       "      <th></th>\n",
       "      <th>match_awayteam_id</th>\n",
       "      <th>match_hometeam_id</th>\n",
       "      <th>match_id</th>\n",
       "      <th>epoch</th>\n",
       "      <th>match_status</th>\n",
       "      <th>match_live</th>\n",
       "      <th>match_hometeam_name</th>\n",
       "      <th>match_awayteam_name</th>\n",
       "      <th>match_hometeam_score</th>\n",
       "      <th>match_awayteam_score</th>\n",
       "      <th>match_hometeam_halftime_score</th>\n",
       "      <th>match_awayteam_halftime_score</th>\n",
       "      <th>match_hometeam_extra_score</th>\n",
       "      <th>match_awayteam_extra_score</th>\n",
       "      <th>match_hometeam_penalty_score</th>\n",
       "      <th>match_awayteam_penalty_score</th>\n",
       "      <th>league_id</th>\n",
       "    </tr>\n",
       "  </thead>\n",
       "  <tbody>\n",
       "    <tr>\n",
       "      <th>1</th>\n",
       "      <td>2614</td>\n",
       "      <td>2619</td>\n",
       "      <td>13331</td>\n",
       "      <td>2017-09-16 11:30:00</td>\n",
       "      <td>Finished</td>\n",
       "      <td>0</td>\n",
       "      <td>Crystal Palace</td>\n",
       "      <td>Southampton</td>\n",
       "      <td>0.0</td>\n",
       "      <td>1.0</td>\n",
       "      <td>0.0</td>\n",
       "      <td>1.0</td>\n",
       "      <td>0.0</td>\n",
       "      <td>1.0</td>\n",
       "      <td>NaN</td>\n",
       "      <td>NaN</td>\n",
       "      <td>148</td>\n",
       "    </tr>\n",
       "    <tr>\n",
       "      <th>5</th>\n",
       "      <td>2626</td>\n",
       "      <td>2623</td>\n",
       "      <td>13329</td>\n",
       "      <td>2017-09-16 14:00:00</td>\n",
       "      <td>Finished</td>\n",
       "      <td>0</td>\n",
       "      <td>Watford</td>\n",
       "      <td>Manchester City</td>\n",
       "      <td>0.0</td>\n",
       "      <td>6.0</td>\n",
       "      <td>0.0</td>\n",
       "      <td>3.0</td>\n",
       "      <td>0.0</td>\n",
       "      <td>3.0</td>\n",
       "      <td>NaN</td>\n",
       "      <td>NaN</td>\n",
       "      <td>148</td>\n",
       "    </tr>\n",
       "    <tr>\n",
       "      <th>6</th>\n",
       "      <td>2629</td>\n",
       "      <td>2621</td>\n",
       "      <td>13327</td>\n",
       "      <td>2017-09-16 14:00:00</td>\n",
       "      <td>Finished</td>\n",
       "      <td>0</td>\n",
       "      <td>Liverpool</td>\n",
       "      <td>Burnley</td>\n",
       "      <td>1.0</td>\n",
       "      <td>1.0</td>\n",
       "      <td>1.0</td>\n",
       "      <td>1.0</td>\n",
       "      <td>1.0</td>\n",
       "      <td>1.0</td>\n",
       "      <td>NaN</td>\n",
       "      <td>NaN</td>\n",
       "      <td>148</td>\n",
       "    </tr>\n",
       "    <tr>\n",
       "      <th>7</th>\n",
       "      <td>2641</td>\n",
       "      <td>2654</td>\n",
       "      <td>13456</td>\n",
       "      <td>2017-09-16 14:00:00</td>\n",
       "      <td>Finished</td>\n",
       "      <td>0</td>\n",
       "      <td>Sheffield Utd</td>\n",
       "      <td>Norwich</td>\n",
       "      <td>0.0</td>\n",
       "      <td>1.0</td>\n",
       "      <td>0.0</td>\n",
       "      <td>1.0</td>\n",
       "      <td>0.0</td>\n",
       "      <td>1.0</td>\n",
       "      <td>NaN</td>\n",
       "      <td>NaN</td>\n",
       "      <td>148</td>\n",
       "    </tr>\n",
       "    <tr>\n",
       "      <th>27</th>\n",
       "      <td>2617</td>\n",
       "      <td>2616</td>\n",
       "      <td>13324</td>\n",
       "      <td>2017-09-17 12:30:00</td>\n",
       "      <td>Finished</td>\n",
       "      <td>0</td>\n",
       "      <td>Chelsea</td>\n",
       "      <td>Arsenal</td>\n",
       "      <td>0.0</td>\n",
       "      <td>0.0</td>\n",
       "      <td>0.0</td>\n",
       "      <td>0.0</td>\n",
       "      <td>0.0</td>\n",
       "      <td>0.0</td>\n",
       "      <td>NaN</td>\n",
       "      <td>NaN</td>\n",
       "      <td>148</td>\n",
       "    </tr>\n",
       "  </tbody>\n",
       "</table>\n",
       "</div>"
      ],
      "text/plain": [
       "    match_awayteam_id  match_hometeam_id  match_id               epoch  \\\n",
       "1                2614               2619     13331 2017-09-16 11:30:00   \n",
       "5                2626               2623     13329 2017-09-16 14:00:00   \n",
       "6                2629               2621     13327 2017-09-16 14:00:00   \n",
       "7                2641               2654     13456 2017-09-16 14:00:00   \n",
       "27               2617               2616     13324 2017-09-17 12:30:00   \n",
       "\n",
       "   match_status  match_live match_hometeam_name match_awayteam_name  \\\n",
       "1      Finished           0      Crystal Palace         Southampton   \n",
       "5      Finished           0             Watford     Manchester City   \n",
       "6      Finished           0           Liverpool             Burnley   \n",
       "7      Finished           0       Sheffield Utd             Norwich   \n",
       "27     Finished           0             Chelsea             Arsenal   \n",
       "\n",
       "    match_hometeam_score  match_awayteam_score  match_hometeam_halftime_score  \\\n",
       "1                    0.0                   1.0                            0.0   \n",
       "5                    0.0                   6.0                            0.0   \n",
       "6                    1.0                   1.0                            1.0   \n",
       "7                    0.0                   1.0                            0.0   \n",
       "27                   0.0                   0.0                            0.0   \n",
       "\n",
       "    match_awayteam_halftime_score  match_hometeam_extra_score  \\\n",
       "1                             1.0                         0.0   \n",
       "5                             3.0                         0.0   \n",
       "6                             1.0                         1.0   \n",
       "7                             1.0                         0.0   \n",
       "27                            0.0                         0.0   \n",
       "\n",
       "    match_awayteam_extra_score  match_hometeam_penalty_score  \\\n",
       "1                          1.0                           NaN   \n",
       "5                          3.0                           NaN   \n",
       "6                          1.0                           NaN   \n",
       "7                          1.0                           NaN   \n",
       "27                         0.0                           NaN   \n",
       "\n",
       "    match_awayteam_penalty_score  league_id  \n",
       "1                            NaN        148  \n",
       "5                            NaN        148  \n",
       "6                            NaN        148  \n",
       "7                            NaN        148  \n",
       "27                           NaN        148  "
      ]
     },
     "execution_count": 75,
     "metadata": {},
     "output_type": "execute_result"
    }
   ],
   "source": [
    "premier_league.head()"
   ]
  },
  {
   "cell_type": "code",
   "execution_count": 76,
   "metadata": {},
   "outputs": [],
   "source": [
    "import matplotlib.mlab as mlab\n",
    "import matplotlib.pyplot as plt\n",
    "\n",
    "from scipy.stats import poisson\n",
    "from scipy.stats import norm\n",
    "from scipy.stats import skellam"
   ]
  },
  {
   "cell_type": "code",
   "execution_count": 272,
   "metadata": {},
   "outputs": [],
   "source": [
    "premier_league = matches[matches[\"league_id\"]==148].copy()"
   ]
  },
  {
   "cell_type": "code",
   "execution_count": 298,
   "metadata": {},
   "outputs": [],
   "source": [
    "x = premier_league[\"match_hometeam_score\"].value_counts()\n",
    "total_match = x.sum()\n",
    "mu_home = (x*x.index).sum()/total_match\n",
    "pois = poisson.pmf(np.arange(0,9), mu_home)*total_match"
   ]
  },
  {
   "cell_type": "code",
   "execution_count": 274,
   "metadata": {
    "scrolled": true
   },
   "outputs": [
    {
     "data": {
      "text/plain": [
       "Text(0.5, 1.0, 'Home Score')"
      ]
     },
     "execution_count": 274,
     "metadata": {},
     "output_type": "execute_result"
    },
    {
     "data": {
      "image/png": "[encoded data removed]",
      "text/plain": [
       "<Figure size 432x288 with 1 Axes>"
      ]
     },
     "metadata": {
      "needs_background": "light"
     },
     "output_type": "display_data"
    }
   ],
   "source": [
    "n, bins, patches = plt.hist(premier_league[\"match_hometeam_score\"], np.arange(9), density=False, facecolor='blue', align=\"left\", rwidth=0.8, histtype ='bar')\n",
    "\n",
    "plt.plot(bins, pois, color='red', marker='o', linestyle='dashed', linewidth=1, markersize=6)\n",
    "plt.xlabel('Home Goals')\n",
    "plt.ylabel('Number of Games')\n",
    "plt.title('Home Score')"
   ]
  },
  {
   "cell_type": "code",
   "execution_count": 300,
   "metadata": {},
   "outputs": [],
   "source": [
    "x = premier_league[\"match_awayteam_score\"].value_counts()\n",
    "total_match = x.sum()\n",
    "mu_away = (x*x.index).sum()/total_match\n",
    "pois = poisson.pmf(np.arange(0,9), mu_away)*total_match"
   ]
  },
  {
   "cell_type": "code",
   "execution_count": 276,
   "metadata": {
    "scrolled": true
   },
   "outputs": [
    {
     "data": {
      "text/plain": [
       "Text(0.5, 1.0, 'Home Score')"
      ]
     },
     "execution_count": 276,
     "metadata": {},
     "output_type": "execute_result"
    },
    {
     "data": {
      "image/png": "[encoded data removed]",
      "text/plain": [
       "<Figure size 432x288 with 1 Axes>"
      ]
     },
     "metadata": {
      "needs_background": "light"
     },
     "output_type": "display_data"
    }
   ],
   "source": [
    "n, bins, patches = plt.hist(premier_league[\"match_awayteam_score\"], np.arange(9), density=False, facecolor='blue', align=\"left\", rwidth=0.8, histtype ='bar')\n",
    "\n",
    "plt.plot(bins, pois, color='red', marker='o', linestyle='dashed', linewidth=1, markersize=6)\n",
    "plt.xlabel('Away Goals')\n",
    "plt.ylabel('Number of Games')\n",
    "plt.title('Away Score')"
   ]
  },
  {
   "cell_type": "code",
   "execution_count": 301,
   "metadata": {},
   "outputs": [],
   "source": [
    "min_diff = (premier_league[\"match_hometeam_score\"]-premier_league[\"match_awayteam_score\"]).min()\n",
    "max_diff = (premier_league[\"match_hometeam_score\"]-premier_league[\"match_awayteam_score\"]).max()\n",
    "\n",
    "x = (premier_league[\"match_hometeam_score\"]-premier_league[\"match_awayteam_score\"]).value_counts()\n",
    "total_match = x.sum()\n",
    "skellam = skellam.pmf(np.arange(min_diff, max_diff+1), mu_home, mu_away)*total_match"
   ]
  },
  {
   "cell_type": "code",
   "execution_count": 303,
   "metadata": {
    "scrolled": true
   },
   "outputs": [
    {
     "data": {
      "text/plain": [
       "Text(0.5, 1.0, 'Home Score - Away Score')"
      ]
     },
     "execution_count": 303,
     "metadata": {},
     "output_type": "execute_result"
    },
    {
     "data": {
      "image/png": "[encoded data removed]",
      "text/plain": [
       "<Figure size 432x288 with 1 Axes>"
      ]
     },
     "metadata": {
      "needs_background": "light"
     },
     "output_type": "display_data"
    }
   ],
   "source": [
    "n, bins, patches = plt.hist((premier_league[\"match_hometeam_score\"]-premier_league[\"match_awayteam_score\"]), np.arange(min_diff, max_diff+1), density=False, facecolor='blue', align=\"left\", rwidth=0.8, histtype ='bar')\n",
    "\n",
    "plt.plot(bins, skellam, color='red', marker='o', linestyle='dashed', linewidth=1, markersize=6)\n",
    "plt.xlabel('Home Goals - Away Goals')\n",
    "plt.ylabel('Number of Games')\n",
    "plt.title('Home Score - Away Score')"
   ]
  },
  {
   "cell_type": "code",
   "execution_count": null,
   "metadata": {},
   "outputs": [],
   "source": []
  },
  {
   "cell_type": "code",
   "execution_count": null,
   "metadata": {},
   "outputs": [],
   "source": []
  }
 ],
 "metadata": {
  "kernelspec": {
   "display_name": "Python 3",
   "language": "python",
   "name": "python3"
  },
  "language_info": {
   "codemirror_mode": {
    "name": "ipython",
    "version": 3
   },
   "file_extension": ".py",
   "mimetype": "text/x-python",
   "name": "python",
   "nbconvert_exporter": "python",
   "pygments_lexer": "ipython3",
   "version": "3.7.3"
  }
 },
 "nbformat": 4,
 "nbformat_minor": 2
}
