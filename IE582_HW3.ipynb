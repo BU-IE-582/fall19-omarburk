{
 "cells": [
  {
   "cell_type": "markdown",
   "metadata": {},
   "source": [
    "* [Link To Code Page](https://github.com/BU-IE-582/fall19-omerburak/blob/master/IE582_HW3.ipynb)\n",
    "* [To Download Python Code As Notebook](https://bu-ie-582.github.io/fall19-omerburak/IE582_HW3.ipynb)"
   ]
  }
 ],
 "metadata": {
  "kernelspec": {
   "display_name": "Python 3",
   "language": "python",
   "name": "python3"
  },
  "language_info": {
   "codemirror_mode": {
    "name": "ipython",
    "version": 3
   },
   "file_extension": ".py",
   "mimetype": "text/x-python",
   "name": "python",
   "nbconvert_exporter": "python",
   "pygments_lexer": "ipython3",
   "version": "3.7.3"
  }
 },
 "nbformat": 4,
 "nbformat_minor": 2
}
