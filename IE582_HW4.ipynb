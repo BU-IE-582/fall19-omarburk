{
 "cells": [
  {
   "cell_type": "markdown",
   "metadata": {},
   "source": [
    "* [Link To Code Page](https://github.com/BU-IE-582/fall19-omerburak/blob/master/IE582_HW4.ipynb)\n",
    "* [To Download Python Code As Notebook](https://bu-ie-582.github.io/fall19-omerburak/IE582_HW4.ipynb)"
   ]
  },
  {
   "cell_type": "code",
   "execution_count": 1,
   "metadata": {},
   "outputs": [],
   "source": [
    "import numpy as np\n",
    "import pandas as pd"
   ]
  },
  {
   "cell_type": "code",
   "execution_count": 465,
   "metadata": {},
   "outputs": [],
   "source": [
    "import matplotlib.mlab as mlab\n",
    "import matplotlib.pyplot as plt\n",
    "import seaborn as sns\n",
    "\n",
    "from scipy.stats import poisson\n",
    "from scipy.stats import norm\n",
    "from scipy.stats import skellam\n",
    "\n",
    "from sklearn.linear_model import LinearRegression\n",
    "from sklearn.linear_model import LassoCV\n",
    "%matplotlib inline"
   ]
  },
  {
   "cell_type": "code",
   "execution_count": 718,
   "metadata": {},
   "outputs": [],
   "source": [
    "matches = pd.read_csv(\"matches.csv\")"
   ]
  },
  {
   "cell_type": "code",
   "execution_count": 719,
   "metadata": {},
   "outputs": [],
   "source": [
    "stats = pd.read_csv(\"stats.csv\")"
   ]
  },
  {
   "cell_type": "code",
   "execution_count": 720,
   "metadata": {},
   "outputs": [],
   "source": [
    "bets = pd.read_csv(\"bets.csv\")"
   ]
  },
  {
   "cell_type": "code",
   "execution_count": 721,
   "metadata": {
    "scrolled": true
   },
   "outputs": [],
   "source": [
    "matches[\"match_total_score\"]=matches[\"match_hometeam_score\"]+matches[\"match_awayteam_score\"]"
   ]
  },
  {
   "cell_type": "code",
   "execution_count": 722,
   "metadata": {
    "scrolled": true
   },
   "outputs": [],
   "source": [
    "# created scores data including team_id and team_score time ordered to find historical average scores\n",
    "\n",
    "temp1 = matches[[\"match_awayteam_id\", \"match_awayteam_score\", \"match_total_score\", \"match_id\", \"epoch\"]]\n",
    "temp1 = temp1.rename(columns={\"match_awayteam_id\": \"team_id\", \"match_awayteam_score\": \"team_score\"})\n",
    "\n",
    "temp2 = matches[[\"match_hometeam_id\", \"match_hometeam_score\", \"match_total_score\", \"match_id\", \"epoch\"]]\n",
    "temp2 = temp2.rename(columns={\"match_hometeam_id\": \"team_id\", \"match_hometeam_score\": \"team_score\"})\n",
    "\n",
    "scores = pd.concat([temp1, temp2])\n",
    "scores = scores.sort_values(by=[\"epoch\"])\n",
    "\n",
    "scores = scores.set_index([pd.Index(range(len(scores)))])"
   ]
  },
  {
   "cell_type": "code",
   "execution_count": 723,
   "metadata": {
    "scrolled": true
   },
   "outputs": [],
   "source": [
    "scores_temp = {}\n",
    "for i, team_id in enumerate(scores[\"team_id\"].unique()):\n",
    "    scores_temp[i] = scores[scores[\"team_id\"]==team_id][[\"team_score\",\"match_total_score\"]].rolling(5,min_periods=1).mean().shift(periods=1)\n",
    "    scores_temp[i] = scores_temp[i].rename(columns={\"team_score\": \"avg5_score\", \"match_total_score\": \"avg5_total_score\"})"
   ]
  },
  {
   "cell_type": "code",
   "execution_count": 724,
   "metadata": {},
   "outputs": [],
   "source": [
    "scores_avg=pd.concat([scores_temp[i] for i in range(len(scores_temp))]).sort_index()\n",
    "scores = pd.concat([scores,scores_avg],axis=1)"
   ]
  },
  {
   "cell_type": "code",
   "execution_count": 725,
   "metadata": {
    "scrolled": true
   },
   "outputs": [
    {
     "data": {
      "text/html": [
       "<div>\n",
       "<style scoped>\n",
       "    .dataframe tbody tr th:only-of-type {\n",
       "        vertical-align: middle;\n",
       "    }\n",
       "\n",
       "    .dataframe tbody tr th {\n",
       "        vertical-align: top;\n",
       "    }\n",
       "\n",
       "    .dataframe thead th {\n",
       "        text-align: right;\n",
       "    }\n",
       "</style>\n",
       "<table border=\"1\" class=\"dataframe\">\n",
       "  <thead>\n",
       "    <tr style=\"text-align: right;\">\n",
       "      <th></th>\n",
       "      <th>team_id</th>\n",
       "      <th>team_score</th>\n",
       "      <th>match_total_score</th>\n",
       "      <th>match_id</th>\n",
       "      <th>epoch</th>\n",
       "      <th>avg5_score</th>\n",
       "      <th>avg5_total_score</th>\n",
       "    </tr>\n",
       "  </thead>\n",
       "  <tbody>\n",
       "    <tr>\n",
       "      <th>0</th>\n",
       "      <td>7109</td>\n",
       "      <td>1.0</td>\n",
       "      <td>2.0</td>\n",
       "      <td>41196</td>\n",
       "      <td>1505559600</td>\n",
       "      <td>NaN</td>\n",
       "      <td>NaN</td>\n",
       "    </tr>\n",
       "    <tr>\n",
       "      <th>1</th>\n",
       "      <td>7097</td>\n",
       "      <td>1.0</td>\n",
       "      <td>2.0</td>\n",
       "      <td>41196</td>\n",
       "      <td>1505559600</td>\n",
       "      <td>NaN</td>\n",
       "      <td>NaN</td>\n",
       "    </tr>\n",
       "    <tr>\n",
       "      <th>2</th>\n",
       "      <td>2614</td>\n",
       "      <td>1.0</td>\n",
       "      <td>1.0</td>\n",
       "      <td>13331</td>\n",
       "      <td>1505561400</td>\n",
       "      <td>NaN</td>\n",
       "      <td>NaN</td>\n",
       "    </tr>\n",
       "    <tr>\n",
       "      <th>3</th>\n",
       "      <td>2619</td>\n",
       "      <td>0.0</td>\n",
       "      <td>1.0</td>\n",
       "      <td>13331</td>\n",
       "      <td>1505561400</td>\n",
       "      <td>NaN</td>\n",
       "      <td>NaN</td>\n",
       "    </tr>\n",
       "    <tr>\n",
       "      <th>4</th>\n",
       "      <td>3224</td>\n",
       "      <td>2.0</td>\n",
       "      <td>3.0</td>\n",
       "      <td>17683</td>\n",
       "      <td>1505568600</td>\n",
       "      <td>NaN</td>\n",
       "      <td>NaN</td>\n",
       "    </tr>\n",
       "  </tbody>\n",
       "</table>\n",
       "</div>"
      ],
      "text/plain": [
       "   team_id  team_score  match_total_score  match_id       epoch  avg5_score  \\\n",
       "0     7109         1.0                2.0     41196  1505559600         NaN   \n",
       "1     7097         1.0                2.0     41196  1505559600         NaN   \n",
       "2     2614         1.0                1.0     13331  1505561400         NaN   \n",
       "3     2619         0.0                1.0     13331  1505561400         NaN   \n",
       "4     3224         2.0                3.0     17683  1505568600         NaN   \n",
       "\n",
       "   avg5_total_score  \n",
       "0               NaN  \n",
       "1               NaN  \n",
       "2               NaN  \n",
       "3               NaN  \n",
       "4               NaN  "
      ]
     },
     "execution_count": 725,
     "metadata": {},
     "output_type": "execute_result"
    }
   ],
   "source": [
    "scores.head()"
   ]
  },
  {
   "cell_type": "code",
   "execution_count": 726,
   "metadata": {},
   "outputs": [],
   "source": [
    "#combined matches data with average scores created\n",
    "\n",
    "matches=matches.merge(scores[[\"team_id\",\"match_id\",\"avg5_score\",\"avg5_total_score\"]], left_on=[\"match_awayteam_id\",\"match_id\"], right_on=[\"team_id\",\"match_id\"], how='left')\n",
    "matches=matches.drop(columns=[\"team_id\"])\n",
    "matches=matches.rename(columns={\"avg5_score\": \"away_avg5_score\", \"avg5_total_score\": \"away_avg5_total_score\"})\n",
    "\n",
    "matches=matches.merge(scores[[\"team_id\",\"match_id\",\"avg5_score\",\"avg5_total_score\"]], left_on=[\"match_hometeam_id\",\"match_id\"], right_on=[\"team_id\",\"match_id\"], how='left')\n",
    "matches=matches.drop(columns=[\"team_id\"])\n",
    "matches=matches.rename(columns={\"avg5_score\": \"home_avg5_score\", \"avg5_total_score\": \"home_avg5_total_score\"})\n",
    "\n",
    "#class number of having total goal over 2.5 or not\n",
    "matches[\"many_goaled\"]=(matches[\"match_total_score\"]>2.5).astype(int)"
   ]
  },
  {
   "cell_type": "code",
   "execution_count": 727,
   "metadata": {},
   "outputs": [],
   "source": [
    "stats=stats.drop(columns=[\"home_CornerKicks\",\"home_Fouls\",\"home_GoalkeeperSaves\",\"home_Offsides\",\"home_YellowCards\",\"away_CornerKicks\",\n",
    "                    \"away_Fouls\",\"away_GoalkeeperSaves\",\"away_Offsides\",\"away_YellowCards\",\"home_BlockedShots\",\"away_BlockedShots\",\n",
    "                    \"home_FreeKicks\",\"away_FreeKicks\",\"home_Throw-in\",\"away_Throw-in\",\"home_RedCards\",\"away_RedCards\",\"home_Tackles\",\n",
    "                    \"home_TotalPasses\",\"away_Tackles\",\"away_TotalPasses\",\"home_CompletedPasses\",\"away_CompletedPasses\",\"home_GoalKicks\",\n",
    "                    \"away_GoalKicks\",\"home_DistanceCovered(metres)\",\"away_DistanceCovered(metres)\",\"home_PassSuccess%\",\"away_PassSuccess%\"])"
   ]
  },
  {
   "cell_type": "code",
   "execution_count": 728,
   "metadata": {},
   "outputs": [],
   "source": [
    "#add team and time info to the stat dataframe to get historical average of stats\n",
    "\n",
    "stats=stats.merge(matches[['match_awayteam_id', 'match_hometeam_id', 'match_id', 'epoch']], on=[\"match_id\"], how='left')\n",
    "\n",
    "stats = stats.sort_values(by=[\"epoch\"])\n",
    "stats = stats.set_index([pd.Index(range(len(stats)))])\n",
    "\n",
    "stats[\"home_BallPossession\"] = stats[\"home_BallPossession\"].str.replace(\"%\", '').astype('float')\n",
    "stats[\"away_BallPossession\"] = stats[\"away_BallPossession\"].str.replace(\"%\", '').astype('float')"
   ]
  },
  {
   "cell_type": "code",
   "execution_count": 729,
   "metadata": {
    "scrolled": true
   },
   "outputs": [],
   "source": [
    "stats_temp = {}\n",
    "for i, team_id in enumerate(stats[\"match_hometeam_id\"].unique()):\n",
    "    stats_temp[i] = stats[stats[\"match_hometeam_id\"]==team_id][['home_BallPossession', 'home_GoalAttempts',\n",
    "       'home_ShotsoffGoal', 'home_ShotsonGoal', 'away_BallPossession',\n",
    "       'away_GoalAttempts', 'away_ShotsoffGoal', 'away_ShotsonGoal',\n",
    "       'home_Attacks', 'home_DangerousAttacks', 'away_Attacks',\n",
    "       'away_DangerousAttacks']].rolling(5,min_periods=1).mean().shift(periods=1)"
   ]
  },
  {
   "cell_type": "code",
   "execution_count": 730,
   "metadata": {},
   "outputs": [],
   "source": [
    "stats_avg=pd.concat([stats_temp[i] for i in range(len(stats_temp))]).sort_index().rename(columns=dict([[i,\"avg_\"+i] for i in stats_avg.columns]))"
   ]
  },
  {
   "cell_type": "code",
   "execution_count": 731,
   "metadata": {},
   "outputs": [],
   "source": [
    "stats=stats.drop(columns=['home_BallPossession', 'home_GoalAttempts',\n",
    "       'home_ShotsoffGoal', 'home_ShotsonGoal', 'away_BallPossession',\n",
    "       'away_GoalAttempts', 'away_ShotsoffGoal', 'away_ShotsonGoal',\n",
    "       'home_Attacks', 'home_DangerousAttacks', 'away_Attacks',\n",
    "       'away_DangerousAttacks'])"
   ]
  },
  {
   "cell_type": "code",
   "execution_count": 732,
   "metadata": {},
   "outputs": [],
   "source": [
    "stats = pd.concat([stats,stats_avg],axis=1)"
   ]
  },
  {
   "cell_type": "code",
   "execution_count": 733,
   "metadata": {},
   "outputs": [
    {
     "data": {
      "text/html": [
       "<div>\n",
       "<style scoped>\n",
       "    .dataframe tbody tr th:only-of-type {\n",
       "        vertical-align: middle;\n",
       "    }\n",
       "\n",
       "    .dataframe tbody tr th {\n",
       "        vertical-align: top;\n",
       "    }\n",
       "\n",
       "    .dataframe thead th {\n",
       "        text-align: right;\n",
       "    }\n",
       "</style>\n",
       "<table border=\"1\" class=\"dataframe\">\n",
       "  <thead>\n",
       "    <tr style=\"text-align: right;\">\n",
       "      <th></th>\n",
       "      <th>match_id</th>\n",
       "      <th>match_awayteam_id</th>\n",
       "      <th>match_hometeam_id</th>\n",
       "      <th>epoch</th>\n",
       "      <th>avg_home_BallPossession</th>\n",
       "      <th>avg_home_GoalAttempts</th>\n",
       "      <th>avg_home_ShotsoffGoal</th>\n",
       "      <th>avg_home_ShotsonGoal</th>\n",
       "      <th>avg_away_BallPossession</th>\n",
       "      <th>avg_away_GoalAttempts</th>\n",
       "      <th>avg_away_ShotsoffGoal</th>\n",
       "      <th>avg_away_ShotsonGoal</th>\n",
       "      <th>avg_home_Attacks</th>\n",
       "      <th>avg_home_DangerousAttacks</th>\n",
       "      <th>avg_away_Attacks</th>\n",
       "      <th>avg_away_DangerousAttacks</th>\n",
       "    </tr>\n",
       "  </thead>\n",
       "  <tbody>\n",
       "    <tr>\n",
       "      <th>0</th>\n",
       "      <td>41196</td>\n",
       "      <td>7109</td>\n",
       "      <td>7097</td>\n",
       "      <td>1505559600</td>\n",
       "      <td>NaN</td>\n",
       "      <td>NaN</td>\n",
       "      <td>NaN</td>\n",
       "      <td>NaN</td>\n",
       "      <td>NaN</td>\n",
       "      <td>NaN</td>\n",
       "      <td>NaN</td>\n",
       "      <td>NaN</td>\n",
       "      <td>NaN</td>\n",
       "      <td>NaN</td>\n",
       "      <td>NaN</td>\n",
       "      <td>NaN</td>\n",
       "    </tr>\n",
       "    <tr>\n",
       "      <th>1</th>\n",
       "      <td>13331</td>\n",
       "      <td>2614</td>\n",
       "      <td>2619</td>\n",
       "      <td>1505561400</td>\n",
       "      <td>NaN</td>\n",
       "      <td>NaN</td>\n",
       "      <td>NaN</td>\n",
       "      <td>NaN</td>\n",
       "      <td>NaN</td>\n",
       "      <td>NaN</td>\n",
       "      <td>NaN</td>\n",
       "      <td>NaN</td>\n",
       "      <td>NaN</td>\n",
       "      <td>NaN</td>\n",
       "      <td>NaN</td>\n",
       "      <td>NaN</td>\n",
       "    </tr>\n",
       "    <tr>\n",
       "      <th>2</th>\n",
       "      <td>17684</td>\n",
       "      <td>3235</td>\n",
       "      <td>3223</td>\n",
       "      <td>1505568600</td>\n",
       "      <td>NaN</td>\n",
       "      <td>NaN</td>\n",
       "      <td>NaN</td>\n",
       "      <td>NaN</td>\n",
       "      <td>NaN</td>\n",
       "      <td>NaN</td>\n",
       "      <td>NaN</td>\n",
       "      <td>NaN</td>\n",
       "      <td>NaN</td>\n",
       "      <td>NaN</td>\n",
       "      <td>NaN</td>\n",
       "      <td>NaN</td>\n",
       "    </tr>\n",
       "    <tr>\n",
       "      <th>3</th>\n",
       "      <td>17683</td>\n",
       "      <td>3224</td>\n",
       "      <td>3238</td>\n",
       "      <td>1505568600</td>\n",
       "      <td>NaN</td>\n",
       "      <td>NaN</td>\n",
       "      <td>NaN</td>\n",
       "      <td>NaN</td>\n",
       "      <td>NaN</td>\n",
       "      <td>NaN</td>\n",
       "      <td>NaN</td>\n",
       "      <td>NaN</td>\n",
       "      <td>NaN</td>\n",
       "      <td>NaN</td>\n",
       "      <td>NaN</td>\n",
       "      <td>NaN</td>\n",
       "    </tr>\n",
       "    <tr>\n",
       "      <th>4</th>\n",
       "      <td>17682</td>\n",
       "      <td>3237</td>\n",
       "      <td>3225</td>\n",
       "      <td>1505568600</td>\n",
       "      <td>NaN</td>\n",
       "      <td>NaN</td>\n",
       "      <td>NaN</td>\n",
       "      <td>NaN</td>\n",
       "      <td>NaN</td>\n",
       "      <td>NaN</td>\n",
       "      <td>NaN</td>\n",
       "      <td>NaN</td>\n",
       "      <td>NaN</td>\n",
       "      <td>NaN</td>\n",
       "      <td>NaN</td>\n",
       "      <td>NaN</td>\n",
       "    </tr>\n",
       "  </tbody>\n",
       "</table>\n",
       "</div>"
      ],
      "text/plain": [
       "   match_id  match_awayteam_id  match_hometeam_id       epoch  \\\n",
       "0     41196               7109               7097  1505559600   \n",
       "1     13331               2614               2619  1505561400   \n",
       "2     17684               3235               3223  1505568600   \n",
       "3     17683               3224               3238  1505568600   \n",
       "4     17682               3237               3225  1505568600   \n",
       "\n",
       "   avg_home_BallPossession  avg_home_GoalAttempts  avg_home_ShotsoffGoal  \\\n",
       "0                      NaN                    NaN                    NaN   \n",
       "1                      NaN                    NaN                    NaN   \n",
       "2                      NaN                    NaN                    NaN   \n",
       "3                      NaN                    NaN                    NaN   \n",
       "4                      NaN                    NaN                    NaN   \n",
       "\n",
       "   avg_home_ShotsonGoal  avg_away_BallPossession  avg_away_GoalAttempts  \\\n",
       "0                   NaN                      NaN                    NaN   \n",
       "1                   NaN                      NaN                    NaN   \n",
       "2                   NaN                      NaN                    NaN   \n",
       "3                   NaN                      NaN                    NaN   \n",
       "4                   NaN                      NaN                    NaN   \n",
       "\n",
       "   avg_away_ShotsoffGoal  avg_away_ShotsonGoal  avg_home_Attacks  \\\n",
       "0                    NaN                   NaN               NaN   \n",
       "1                    NaN                   NaN               NaN   \n",
       "2                    NaN                   NaN               NaN   \n",
       "3                    NaN                   NaN               NaN   \n",
       "4                    NaN                   NaN               NaN   \n",
       "\n",
       "   avg_home_DangerousAttacks  avg_away_Attacks  avg_away_DangerousAttacks  \n",
       "0                        NaN               NaN                        NaN  \n",
       "1                        NaN               NaN                        NaN  \n",
       "2                        NaN               NaN                        NaN  \n",
       "3                        NaN               NaN                        NaN  \n",
       "4                        NaN               NaN                        NaN  "
      ]
     },
     "execution_count": 733,
     "metadata": {},
     "output_type": "execute_result"
    }
   ],
   "source": [
    "stats.head()"
   ]
  },
  {
   "cell_type": "code",
   "execution_count": 734,
   "metadata": {},
   "outputs": [],
   "source": [
    "#get the bets of over 2.5 and under 2.5\n",
    "\n",
    "bets = bets[bets[\"variable\"].isin([\"o+2.5\",\"u+2.5\"])]\n",
    "bets = bets[[\"match_id\",\"variable\",\"value\"]].groupby([\"match_id\",\"variable\"]).mean()\n",
    "bets = bets.unstack(level=-1)\n",
    "bets.columns=['o+2.5', 'u+2.5']\n",
    "bets.reset_index(level=0, inplace=True)"
   ]
  },
  {
   "cell_type": "code",
   "execution_count": 738,
   "metadata": {},
   "outputs": [
    {
     "data": {
      "text/html": [
       "<div>\n",
       "<style scoped>\n",
       "    .dataframe tbody tr th:only-of-type {\n",
       "        vertical-align: middle;\n",
       "    }\n",
       "\n",
       "    .dataframe tbody tr th {\n",
       "        vertical-align: top;\n",
       "    }\n",
       "\n",
       "    .dataframe thead th {\n",
       "        text-align: right;\n",
       "    }\n",
       "</style>\n",
       "<table border=\"1\" class=\"dataframe\">\n",
       "  <thead>\n",
       "    <tr style=\"text-align: right;\">\n",
       "      <th></th>\n",
       "      <th>match_id</th>\n",
       "      <th>o+2.5</th>\n",
       "      <th>u+2.5</th>\n",
       "    </tr>\n",
       "  </thead>\n",
       "  <tbody>\n",
       "    <tr>\n",
       "      <th>0</th>\n",
       "      <td>145899</td>\n",
       "      <td>1.364500</td>\n",
       "      <td>2.845000</td>\n",
       "    </tr>\n",
       "    <tr>\n",
       "      <th>1</th>\n",
       "      <td>145900</td>\n",
       "      <td>1.425745</td>\n",
       "      <td>2.610213</td>\n",
       "    </tr>\n",
       "    <tr>\n",
       "      <th>2</th>\n",
       "      <td>149762</td>\n",
       "      <td>1.626600</td>\n",
       "      <td>2.173000</td>\n",
       "    </tr>\n",
       "    <tr>\n",
       "      <th>3</th>\n",
       "      <td>150851</td>\n",
       "      <td>1.768182</td>\n",
       "      <td>1.984545</td>\n",
       "    </tr>\n",
       "    <tr>\n",
       "      <th>4</th>\n",
       "      <td>150855</td>\n",
       "      <td>1.692857</td>\n",
       "      <td>2.104286</td>\n",
       "    </tr>\n",
       "  </tbody>\n",
       "</table>\n",
       "</div>"
      ],
      "text/plain": [
       "   match_id     o+2.5     u+2.5\n",
       "0    145899  1.364500  2.845000\n",
       "1    145900  1.425745  2.610213\n",
       "2    149762  1.626600  2.173000\n",
       "3    150851  1.768182  1.984545\n",
       "4    150855  1.692857  2.104286"
      ]
     },
     "execution_count": 738,
     "metadata": {},
     "output_type": "execute_result"
    }
   ],
   "source": [
    "bets.head()"
   ]
  },
  {
   "cell_type": "code",
   "execution_count": 739,
   "metadata": {},
   "outputs": [],
   "source": [
    "premier_league=matches[matches[\"league_id\"]==148]\n",
    "premier_league=premier_league[premier_league[\"match_status\"]==\"Finished\"]\n",
    "premier_league=premier_league[[\"match_awayteam_id\",\"match_hometeam_id\",\"match_id\",\"epoch\",\"match_total_score\",\"many_goaled\",\"away_avg5_score\",\"away_avg5_total_score\",\"home_avg5_score\",\"home_avg5_total_score\"]]\n",
    "\n",
    "premier_league=premier_league.merge(stats, on=[\"match_hometeam_id\",\"match_awayteam_id\",\"match_id\",\"epoch\"], how='left')\n",
    "\n",
    "premier_league=premier_league.merge(bets, on=[\"match_id\"], how='left')"
   ]
  },
  {
   "cell_type": "code",
   "execution_count": 740,
   "metadata": {},
   "outputs": [
    {
     "data": {
      "text/html": [
       "<div>\n",
       "<style scoped>\n",
       "    .dataframe tbody tr th:only-of-type {\n",
       "        vertical-align: middle;\n",
       "    }\n",
       "\n",
       "    .dataframe tbody tr th {\n",
       "        vertical-align: top;\n",
       "    }\n",
       "\n",
       "    .dataframe thead th {\n",
       "        text-align: right;\n",
       "    }\n",
       "</style>\n",
       "<table border=\"1\" class=\"dataframe\">\n",
       "  <thead>\n",
       "    <tr style=\"text-align: right;\">\n",
       "      <th></th>\n",
       "      <th>match_awayteam_id</th>\n",
       "      <th>match_hometeam_id</th>\n",
       "      <th>match_id</th>\n",
       "      <th>epoch</th>\n",
       "      <th>match_total_score</th>\n",
       "      <th>many_goaled</th>\n",
       "      <th>away_avg5_score</th>\n",
       "      <th>away_avg5_total_score</th>\n",
       "      <th>home_avg5_score</th>\n",
       "      <th>home_avg5_total_score</th>\n",
       "      <th>...</th>\n",
       "      <th>avg_away_BallPossession</th>\n",
       "      <th>avg_away_GoalAttempts</th>\n",
       "      <th>avg_away_ShotsoffGoal</th>\n",
       "      <th>avg_away_ShotsonGoal</th>\n",
       "      <th>avg_home_Attacks</th>\n",
       "      <th>avg_home_DangerousAttacks</th>\n",
       "      <th>avg_away_Attacks</th>\n",
       "      <th>avg_away_DangerousAttacks</th>\n",
       "      <th>o+2.5</th>\n",
       "      <th>u+2.5</th>\n",
       "    </tr>\n",
       "  </thead>\n",
       "  <tbody>\n",
       "    <tr>\n",
       "      <th>0</th>\n",
       "      <td>2614</td>\n",
       "      <td>2619</td>\n",
       "      <td>13331</td>\n",
       "      <td>1505561400</td>\n",
       "      <td>1.0</td>\n",
       "      <td>0</td>\n",
       "      <td>NaN</td>\n",
       "      <td>NaN</td>\n",
       "      <td>NaN</td>\n",
       "      <td>NaN</td>\n",
       "      <td>...</td>\n",
       "      <td>NaN</td>\n",
       "      <td>NaN</td>\n",
       "      <td>NaN</td>\n",
       "      <td>NaN</td>\n",
       "      <td>NaN</td>\n",
       "      <td>NaN</td>\n",
       "      <td>NaN</td>\n",
       "      <td>NaN</td>\n",
       "      <td>NaN</td>\n",
       "      <td>NaN</td>\n",
       "    </tr>\n",
       "    <tr>\n",
       "      <th>1</th>\n",
       "      <td>2626</td>\n",
       "      <td>2623</td>\n",
       "      <td>13329</td>\n",
       "      <td>1505570400</td>\n",
       "      <td>6.0</td>\n",
       "      <td>1</td>\n",
       "      <td>NaN</td>\n",
       "      <td>NaN</td>\n",
       "      <td>NaN</td>\n",
       "      <td>NaN</td>\n",
       "      <td>...</td>\n",
       "      <td>NaN</td>\n",
       "      <td>NaN</td>\n",
       "      <td>NaN</td>\n",
       "      <td>NaN</td>\n",
       "      <td>NaN</td>\n",
       "      <td>NaN</td>\n",
       "      <td>NaN</td>\n",
       "      <td>NaN</td>\n",
       "      <td>NaN</td>\n",
       "      <td>NaN</td>\n",
       "    </tr>\n",
       "    <tr>\n",
       "      <th>2</th>\n",
       "      <td>2629</td>\n",
       "      <td>2621</td>\n",
       "      <td>13327</td>\n",
       "      <td>1505570400</td>\n",
       "      <td>2.0</td>\n",
       "      <td>0</td>\n",
       "      <td>NaN</td>\n",
       "      <td>NaN</td>\n",
       "      <td>NaN</td>\n",
       "      <td>NaN</td>\n",
       "      <td>...</td>\n",
       "      <td>NaN</td>\n",
       "      <td>NaN</td>\n",
       "      <td>NaN</td>\n",
       "      <td>NaN</td>\n",
       "      <td>NaN</td>\n",
       "      <td>NaN</td>\n",
       "      <td>NaN</td>\n",
       "      <td>NaN</td>\n",
       "      <td>NaN</td>\n",
       "      <td>NaN</td>\n",
       "    </tr>\n",
       "    <tr>\n",
       "      <th>3</th>\n",
       "      <td>2641</td>\n",
       "      <td>2654</td>\n",
       "      <td>13456</td>\n",
       "      <td>1505570400</td>\n",
       "      <td>1.0</td>\n",
       "      <td>0</td>\n",
       "      <td>NaN</td>\n",
       "      <td>NaN</td>\n",
       "      <td>NaN</td>\n",
       "      <td>NaN</td>\n",
       "      <td>...</td>\n",
       "      <td>NaN</td>\n",
       "      <td>NaN</td>\n",
       "      <td>NaN</td>\n",
       "      <td>NaN</td>\n",
       "      <td>NaN</td>\n",
       "      <td>NaN</td>\n",
       "      <td>NaN</td>\n",
       "      <td>NaN</td>\n",
       "      <td>NaN</td>\n",
       "      <td>NaN</td>\n",
       "    </tr>\n",
       "    <tr>\n",
       "      <th>4</th>\n",
       "      <td>2617</td>\n",
       "      <td>2616</td>\n",
       "      <td>13324</td>\n",
       "      <td>1505651400</td>\n",
       "      <td>0.0</td>\n",
       "      <td>0</td>\n",
       "      <td>NaN</td>\n",
       "      <td>NaN</td>\n",
       "      <td>NaN</td>\n",
       "      <td>NaN</td>\n",
       "      <td>...</td>\n",
       "      <td>NaN</td>\n",
       "      <td>NaN</td>\n",
       "      <td>NaN</td>\n",
       "      <td>NaN</td>\n",
       "      <td>NaN</td>\n",
       "      <td>NaN</td>\n",
       "      <td>NaN</td>\n",
       "      <td>NaN</td>\n",
       "      <td>NaN</td>\n",
       "      <td>NaN</td>\n",
       "    </tr>\n",
       "  </tbody>\n",
       "</table>\n",
       "<p>5 rows × 24 columns</p>\n",
       "</div>"
      ],
      "text/plain": [
       "   match_awayteam_id  match_hometeam_id  match_id       epoch  \\\n",
       "0               2614               2619     13331  1505561400   \n",
       "1               2626               2623     13329  1505570400   \n",
       "2               2629               2621     13327  1505570400   \n",
       "3               2641               2654     13456  1505570400   \n",
       "4               2617               2616     13324  1505651400   \n",
       "\n",
       "   match_total_score  many_goaled  away_avg5_score  away_avg5_total_score  \\\n",
       "0                1.0            0              NaN                    NaN   \n",
       "1                6.0            1              NaN                    NaN   \n",
       "2                2.0            0              NaN                    NaN   \n",
       "3                1.0            0              NaN                    NaN   \n",
       "4                0.0            0              NaN                    NaN   \n",
       "\n",
       "   home_avg5_score  home_avg5_total_score  ...  avg_away_BallPossession  \\\n",
       "0              NaN                    NaN  ...                      NaN   \n",
       "1              NaN                    NaN  ...                      NaN   \n",
       "2              NaN                    NaN  ...                      NaN   \n",
       "3              NaN                    NaN  ...                      NaN   \n",
       "4              NaN                    NaN  ...                      NaN   \n",
       "\n",
       "   avg_away_GoalAttempts  avg_away_ShotsoffGoal  avg_away_ShotsonGoal  \\\n",
       "0                    NaN                    NaN                   NaN   \n",
       "1                    NaN                    NaN                   NaN   \n",
       "2                    NaN                    NaN                   NaN   \n",
       "3                    NaN                    NaN                   NaN   \n",
       "4                    NaN                    NaN                   NaN   \n",
       "\n",
       "   avg_home_Attacks  avg_home_DangerousAttacks  avg_away_Attacks  \\\n",
       "0               NaN                        NaN               NaN   \n",
       "1               NaN                        NaN               NaN   \n",
       "2               NaN                        NaN               NaN   \n",
       "3               NaN                        NaN               NaN   \n",
       "4               NaN                        NaN               NaN   \n",
       "\n",
       "   avg_away_DangerousAttacks  o+2.5  u+2.5  \n",
       "0                        NaN    NaN    NaN  \n",
       "1                        NaN    NaN    NaN  \n",
       "2                        NaN    NaN    NaN  \n",
       "3                        NaN    NaN    NaN  \n",
       "4                        NaN    NaN    NaN  \n",
       "\n",
       "[5 rows x 24 columns]"
      ]
     },
     "execution_count": 740,
     "metadata": {},
     "output_type": "execute_result"
    }
   ],
   "source": [
    "premier_league.head()"
   ]
  },
  {
   "cell_type": "code",
   "execution_count": 760,
   "metadata": {
    "scrolled": true
   },
   "outputs": [],
   "source": [
    "X=premier_league.drop(columns=['match_awayteam_id', 'match_hometeam_id', 'match_id', 'epoch', 'match_total_score', 'many_goaled'])\n",
    "X=X.interpolate().fillna(X.interpolate().mean())\n",
    "y=premier_league[\"match_total_score\"]"
   ]
  },
  {
   "cell_type": "code",
   "execution_count": 808,
   "metadata": {},
   "outputs": [],
   "source": [
    "from sklearn.tree import DecisionTreeClassifier\n",
    "from sklearn.ensemble import RandomForestRegressor\n",
    "from sklearn.ensemble import GradientBoostingClassifier\n",
    "\n",
    "from sklearn.model_selection import train_test_split"
   ]
  },
  {
   "cell_type": "code",
   "execution_count": 761,
   "metadata": {},
   "outputs": [],
   "source": [
    "X_train, X_test, y_train, y_test = train_test_split(X, y, random_state=1)"
   ]
  },
  {
   "cell_type": "code",
   "execution_count": 846,
   "metadata": {
    "scrolled": true
   },
   "outputs": [
    {
     "name": "stdout",
     "output_type": "stream",
     "text": [
      "For lambda: 0.013795213077581121 scores: 0.06557461783110885 0.007848755217265468\n"
     ]
    }
   ],
   "source": [
    "#PRA\n",
    "#chosen alpha after 5fold cross validation\n",
    "lasso_reg = LassoCV(cv=5, random_state=30).fit(X_train,y_train)\n",
    "print(\"For lambda:\",lasso_reg.alpha_,\"scores:\",lasso_reg.score(X_train, y_train),lasso_reg.score(X_test, y_test))"
   ]
  },
  {
   "cell_type": "code",
   "execution_count": 833,
   "metadata": {
    "collapsed": true
   },
   "outputs": [
    {
     "name": "stdout",
     "output_type": "stream",
     "text": [
      "0.9935205183585313 , 0.1935483870967742 for min_samples_leaf of 1\n",
      "0.7796976241900648 , 0.2064516129032258 for min_samples_leaf of 2\n",
      "0.6997840172786177 , 0.1935483870967742 for min_samples_leaf of 3\n",
      "0.6393088552915767 , 0.2064516129032258 for min_samples_leaf of 4\n",
      "0.5982721382289417 , 0.23225806451612904 for min_samples_leaf of 5\n",
      "0.5593952483801296 , 0.2064516129032258 for min_samples_leaf of 6\n",
      "0.5485961123110151 , 0.1870967741935484 for min_samples_leaf of 7\n",
      "0.5226781857451404 , 0.18064516129032257 for min_samples_leaf of 8\n",
      "0.49892008639308855 , 0.1870967741935484 for min_samples_leaf of 9\n"
     ]
    }
   ],
   "source": [
    "#DT\n",
    "min_obs_leaf = range(1,10)\n",
    "for min_samples_leaf in min_obs_leaf:\n",
    "    dt = DecisionTreeClassifier(min_samples_leaf=min_samples_leaf)\n",
    "    dt.fit(X_train, y_train)\n",
    "    print(dt.score(X_train, y_train),\",\",dt.score(X_test, y_test),\"for\",\"min_samples_leaf of\",min_samples_leaf)"
   ]
  },
  {
   "cell_type": "code",
   "execution_count": 845,
   "metadata": {
    "collapsed": true
   },
   "outputs": [
    {
     "name": "stdout",
     "output_type": "stream",
     "text": [
      "Selected features: 1 0.22972331990927186 , 0.013475029443762332\n",
      "Selected features: 2 0.35967375541794355 , 0.00526381119313113\n",
      "Selected features: 3 0.4102618680682263 , 0.0009959407392989839\n",
      "Selected features: 4 0.4365705206652584 , 0.005928144093675036\n",
      "Selected features: 5 0.45671520730676907 , -0.0026154835777452146\n",
      "Selected features: 6 0.4705142267931666 , -0.0017062000325851479\n",
      "Selected features: 7 0.47794384597983264 , 0.0008018153961983909\n",
      "Selected features: 8 0.488905420270488 , -0.004067546390131627\n",
      "Selected features: 9 0.49942308476234676 , -0.00016256756323418387\n",
      "Selected features: 10 0.50373655019218 , 0.0024453821260316255\n",
      "Selected features: 11 0.5100802585562207 , -0.011685343371965029\n",
      "Selected features: 12 0.5157930005263807 , -0.006606637909736035\n",
      "Selected features: 13 0.5177557704760782 , 0.0013726835133992532\n",
      "Selected features: 14 0.5249283916630775 , -0.001258433419375038\n",
      "Selected features: 15 0.5283914728434338 , -0.005383817878374053\n",
      "Selected features: 16 0.5330612607303512 , -0.005754842241637138\n",
      "Selected features: 17 0.5360267567436879 , -0.01001778771466877\n"
     ]
    }
   ],
   "source": [
    "#RF\n",
    "features = range(1,X.shape[1])\n",
    "for feat in features:\n",
    "    rf = RandomForestRegressor(n_estimators=500,min_samples_leaf=5,max_features=feat,random_state=32)\n",
    "    rf.fit(X_train, y_train)\n",
    "    print(\"Selected features:\",feat,rf.score(X_train, y_train),\",\",rf.score(X_test, y_test))"
   ]
  },
  {
   "cell_type": "code",
   "execution_count": 841,
   "metadata": {
    "collapsed": true
   },
   "outputs": [
    {
     "name": "stdout",
     "output_type": "stream",
     "text": [
      "For learning rate 0.05 10 trees 1 max_depth : 0.3434125269978402 , 0.1935483870967742\n",
      "For learning rate 0.05 10 trees 2 max_depth : 0.4168466522678186 , 0.2\n",
      "For learning rate 0.05 10 trees 3 max_depth : 0.531317494600432 , 0.1870967741935484\n",
      "For learning rate 0.05 10 trees 4 max_depth : 0.6673866090712743 , 0.1870967741935484\n",
      "For learning rate 0.05 100 trees 1 max_depth : 0.4773218142548596 , 0.17419354838709677\n",
      "For learning rate 0.05 100 trees 2 max_depth : 0.7580993520518359 , 0.17419354838709677\n",
      "For learning rate 0.05 100 trees 3 max_depth : 0.9438444924406048 , 0.1870967741935484\n",
      "For learning rate 0.05 100 trees 4 max_depth : 0.9870410367170627 , 0.17419354838709677\n",
      "For learning rate 0.05 1000 trees 1 max_depth : 0.8272138228941684 , 0.14838709677419354\n",
      "For learning rate 0.05 1000 trees 2 max_depth : 0.9935205183585313 , 0.14838709677419354\n",
      "For learning rate 0.05 1000 trees 3 max_depth : 0.9935205183585313 , 0.17419354838709677\n",
      "For learning rate 0.05 1000 trees 4 max_depth : 0.9935205183585313 , 0.17419354838709677\n",
      "For learning rate 0.075 10 trees 1 max_depth : 0.35205183585313177 , 0.2064516129032258\n",
      "For learning rate 0.075 10 trees 2 max_depth : 0.4427645788336933 , 0.23225806451612904\n",
      "For learning rate 0.075 10 trees 3 max_depth : 0.5701943844492441 , 0.2129032258064516\n",
      "For learning rate 0.075 10 trees 4 max_depth : 0.6954643628509719 , 0.2064516129032258\n",
      "For learning rate 0.075 100 trees 1 max_depth : 0.5118790496760259 , 0.12903225806451613\n",
      "For learning rate 0.075 100 trees 2 max_depth : 0.8444924406047516 , 0.1870967741935484\n",
      "For learning rate 0.075 100 trees 3 max_depth : 0.9848812095032398 , 0.16129032258064516\n",
      "For learning rate 0.075 100 trees 4 max_depth : 0.9935205183585313 , 0.16774193548387098\n",
      "For learning rate 0.075 1000 trees 1 max_depth : 0.8941684665226782 , 0.16774193548387098\n",
      "For learning rate 0.075 1000 trees 2 max_depth : 0.9935205183585313 , 0.18064516129032257\n",
      "For learning rate 0.075 1000 trees 3 max_depth : 0.9935205183585313 , 0.2064516129032258\n",
      "For learning rate 0.075 1000 trees 4 max_depth : 0.9935205183585313 , 0.1935483870967742\n",
      "For learning rate 0.1 10 trees 1 max_depth : 0.37365010799136067 , 0.2064516129032258\n",
      "For learning rate 0.1 10 trees 2 max_depth : 0.4535637149028078 , 0.23870967741935484\n",
      "For learning rate 0.1 10 trees 3 max_depth : 0.593952483801296 , 0.18064516129032257\n",
      "For learning rate 0.1 10 trees 4 max_depth : 0.7278617710583153 , 0.2\n",
      "For learning rate 0.1 100 trees 1 max_depth : 0.5529157667386609 , 0.16129032258064516\n",
      "For learning rate 0.1 100 trees 2 max_depth : 0.9049676025917927 , 0.16774193548387098\n",
      "For learning rate 0.1 100 trees 3 max_depth : 0.9892008639308856 , 0.16774193548387098\n",
      "For learning rate 0.1 100 trees 4 max_depth : 0.9935205183585313 , 0.21935483870967742\n",
      "For learning rate 0.1 1000 trees 1 max_depth : 0.9395248380129589 , 0.16129032258064516\n",
      "For learning rate 0.1 1000 trees 2 max_depth : 0.9935205183585313 , 0.1935483870967742\n",
      "For learning rate 0.1 1000 trees 3 max_depth : 0.9935205183585313 , 0.1870967741935484\n",
      "For learning rate 0.1 1000 trees 4 max_depth : 0.9935205183585313 , 0.2\n",
      "For learning rate 0.25 10 trees 1 max_depth : 0.4060475161987041 , 0.2\n",
      "For learning rate 0.25 10 trees 2 max_depth : 0.5701943844492441 , 0.14838709677419354\n",
      "For learning rate 0.25 10 trees 3 max_depth : 0.7386609071274298 , 0.1935483870967742\n",
      "For learning rate 0.25 10 trees 4 max_depth : 0.8768898488120951 , 0.16774193548387098\n",
      "For learning rate 0.25 100 trees 1 max_depth : 0.6997840172786177 , 0.16774193548387098\n",
      "For learning rate 0.25 100 trees 2 max_depth : 0.9892008639308856 , 0.17419354838709677\n",
      "For learning rate 0.25 100 trees 3 max_depth : 0.9935205183585313 , 0.2064516129032258\n",
      "For learning rate 0.25 100 trees 4 max_depth : 0.9935205183585313 , 0.17419354838709677\n",
      "For learning rate 0.25 1000 trees 1 max_depth : 0.9935205183585313 , 0.16774193548387098\n",
      "For learning rate 0.25 1000 trees 2 max_depth : 0.9935205183585313 , 0.2\n",
      "For learning rate 0.25 1000 trees 3 max_depth : 0.9935205183585313 , 0.23225806451612904\n",
      "For learning rate 0.25 1000 trees 4 max_depth : 0.9935205183585313 , 0.18064516129032257\n",
      "For learning rate 0.5 10 trees 1 max_depth : 0.4038876889848812 , 0.17419354838709677\n",
      "For learning rate 0.5 10 trees 2 max_depth : 0.6025917926565875 , 0.2\n",
      "For learning rate 0.5 10 trees 3 max_depth : 0.7494600431965442 , 0.1935483870967742\n",
      "For learning rate 0.5 10 trees 4 max_depth : 0.9222462203023758 , 0.16129032258064516\n",
      "For learning rate 0.5 100 trees 1 max_depth : 0.5485961123110151 , 0.13548387096774195\n",
      "For learning rate 0.5 100 trees 2 max_depth : 0.9827213822894169 , 0.10967741935483871\n",
      "For learning rate 0.5 100 trees 3 max_depth : 0.9460043196544277 , 0.14838709677419354\n",
      "For learning rate 0.5 100 trees 4 max_depth : 0.16198704103671707 , 0.17419354838709677\n",
      "For learning rate 0.5 1000 trees 1 max_depth : 0.07127429805615551 , 0.04516129032258064\n",
      "For learning rate 0.5 1000 trees 2 max_depth : 0.09719222462203024 , 0.12258064516129032\n",
      "For learning rate 0.5 1000 trees 3 max_depth : 0.12742980561555076 , 0.07096774193548387\n",
      "For learning rate 0.5 1000 trees 4 max_depth : 0.16198704103671707 , 0.17419354838709677\n",
      "For learning rate 0.75 10 trees 1 max_depth : 0.39092872570194387 , 0.12903225806451613\n",
      "For learning rate 0.75 10 trees 2 max_depth : 0.5377969762419006 , 0.16774193548387098\n",
      "For learning rate 0.75 10 trees 3 max_depth : 0.5809935205183585 , 0.14838709677419354\n",
      "For learning rate 0.75 10 trees 4 max_depth : 0.8012958963282938 , 0.17419354838709677\n",
      "For learning rate 0.75 100 trees 1 max_depth : 0.058315334773218146 , 0.07741935483870968\n",
      "For learning rate 0.75 100 trees 2 max_depth : 0.8207343412526998 , 0.15483870967741936\n",
      "For learning rate 0.75 100 trees 3 max_depth : 0.7041036717062635 , 0.14193548387096774\n",
      "For learning rate 0.75 100 trees 4 max_depth : 0.14038876889848811 , 0.12903225806451613\n",
      "For learning rate 0.75 1000 trees 1 max_depth : 0.058315334773218146 , 0.07741935483870968\n",
      "For learning rate 0.75 1000 trees 2 max_depth : 0.9481641468682506 , 0.16129032258064516\n",
      "For learning rate 0.75 1000 trees 3 max_depth : 0.16414686825053995 , 0.13548387096774195\n",
      "For learning rate 0.75 1000 trees 4 max_depth : 0.14038876889848811 , 0.12903225806451613\n",
      "For learning rate 1 10 trees 1 max_depth : 0.38876889848812096 , 0.14838709677419354\n",
      "For learning rate 1 10 trees 2 max_depth : 0.4708423326133909 , 0.14838709677419354\n",
      "For learning rate 1 10 trees 3 max_depth : 0.6177105831533477 , 0.1870967741935484\n",
      "For learning rate 1 10 trees 4 max_depth : 0.6328293736501079 , 0.13548387096774195\n",
      "For learning rate 1 100 trees 1 max_depth : 0.16198704103671707 , 0.12258064516129032\n",
      "For learning rate 1 100 trees 2 max_depth : 0.21166306695464362 , 0.2064516129032258\n",
      "For learning rate 1 100 trees 3 max_depth : 0.20950323974082075 , 0.23225806451612904\n",
      "For learning rate 1 100 trees 4 max_depth : 0.12526997840172785 , 0.14838709677419354\n",
      "For learning rate 1 1000 trees 1 max_depth : 0.16198704103671707 , 0.12258064516129032\n",
      "For learning rate 1 1000 trees 2 max_depth : 0.21166306695464362 , 0.2064516129032258\n",
      "For learning rate 1 1000 trees 3 max_depth : 0.20950323974082075 , 0.23225806451612904\n",
      "For learning rate 1 1000 trees 4 max_depth : 0.12526997840172785 , 0.14838709677419354\n"
     ]
    }
   ],
   "source": [
    "#SGB\n",
    "lr_list = [0.05, 0.075, 0.1, 0.25, 0.5, 0.75, 1]\n",
    "trees = [10, 100, 1000]\n",
    "depth = range(1,5)\n",
    "for learning_rate in lr_list:\n",
    "    for tree in trees:\n",
    "        for max_depth in depth:\n",
    "            gb_clf = GradientBoostingClassifier(n_estimators=tree, learning_rate=learning_rate, subsample=0.7, max_depth=max_depth, random_state=20)\n",
    "            gb_clf.fit(X_train, y_train)\n",
    "            print(\"For learning rate\",learning_rate,tree,\"trees\",max_depth,\"max_depth\",\":\",gb_clf.score(X_train, y_train),\",\",gb_clf.score(X_test, y_test))"
   ]
  },
  {
   "cell_type": "markdown",
   "metadata": {},
   "source": [
    "## Regression Problem\n",
    "### Generally sorting order by scores on training data:\n",
    "##### SGB > DT > RF > PRA\n",
    "### max training scores:\n",
    "#### SGB:0.994, DT:0.994, RF:0.536, PRA:0.066\n",
    "### max test scores:\n",
    "#### SGB:0.232, DT:0.232 , RF:0.013, PRA:0.008\n",
    "### When max training scores are chosen, test scores:\n",
    "#### SGB:0.232, DT:0.194 , RF:-0.010, PRA:0.008\n",
    "### CrossValidation error and test error is different on RF especially\n",
    "### All the models are probably underfitted since test scores so low according to training scores with even max test score. Some training results may be too high which also indicates overfitting on training data for that parameters.\n",
    "\n",
    "### The parameters selected according to cross-validation on training data:\n",
    "#### SGB: learning rate 0.25, number of trees 1000, max_depth 3\n",
    "#### DT: the minimal number of observations per tree leaf 1\n",
    "#### RF: number of features 17\n",
    "#### PRA: lambda 0.0138\n"
   ]
  },
  {
   "cell_type": "code",
   "execution_count": 848,
   "metadata": {
    "scrolled": true
   },
   "outputs": [],
   "source": [
    "y=premier_league[\"many_goaled\"]"
   ]
  },
  {
   "cell_type": "code",
   "execution_count": 849,
   "metadata": {},
   "outputs": [],
   "source": [
    "X_train, X_test, y_train, y_test = train_test_split(X, y, random_state=1)"
   ]
  },
  {
   "cell_type": "code",
   "execution_count": 850,
   "metadata": {
    "scrolled": true
   },
   "outputs": [
    {
     "name": "stdout",
     "output_type": "stream",
     "text": [
      "For lambda: 0.12340837432080033 scores: 0.004161689578749739 0.004744409523896875\n"
     ]
    }
   ],
   "source": [
    "#PRA\n",
    "#chosen alpha after 5fold cross validation\n",
    "lasso_reg = LassoCV(cv=5, random_state=30).fit(X_train,y_train)\n",
    "print(\"For lambda:\",lasso_reg.alpha_,\"scores:\",lasso_reg.score(X_train, y_train),lasso_reg.score(X_test, y_test))"
   ]
  },
  {
   "cell_type": "code",
   "execution_count": 851,
   "metadata": {},
   "outputs": [
    {
     "name": "stdout",
     "output_type": "stream",
     "text": [
      "0.9956803455723542 , 0.5096774193548387 for min_samples_leaf of 1\n",
      "0.9330453563714903 , 0.49032258064516127 for min_samples_leaf of 2\n",
      "0.9114470842332614 , 0.4838709677419355 for min_samples_leaf of 3\n",
      "0.8833693304535637 , 0.5225806451612903 for min_samples_leaf of 4\n",
      "0.8531317494600432 , 0.4838709677419355 for min_samples_leaf of 5\n",
      "0.8315334773218143 , 0.535483870967742 for min_samples_leaf of 6\n",
      "0.8077753779697624 , 0.5032258064516129 for min_samples_leaf of 7\n",
      "0.7926565874730022 , 0.4967741935483871 for min_samples_leaf of 8\n",
      "0.7818574514038877 , 0.5032258064516129 for min_samples_leaf of 9\n"
     ]
    }
   ],
   "source": [
    "#DT\n",
    "min_obs_leaf = range(1,10)\n",
    "for min_samples_leaf in min_obs_leaf:\n",
    "    dt = DecisionTreeClassifier(min_samples_leaf=min_samples_leaf)\n",
    "    dt.fit(X_train, y_train)\n",
    "    print(dt.score(X_train, y_train),\",\",dt.score(X_test, y_test),\"for\",\"min_samples_leaf of\",min_samples_leaf)"
   ]
  },
  {
   "cell_type": "code",
   "execution_count": 852,
   "metadata": {
    "collapsed": true
   },
   "outputs": [
    {
     "name": "stdout",
     "output_type": "stream",
     "text": [
      "Selected features: 1 0.2285821701893237 , 0.0010627966488913065\n",
      "Selected features: 2 0.3670268180998023 , -0.00533177384022987\n",
      "Selected features: 3 0.42160487103303634 , -0.007552092076448469\n",
      "Selected features: 4 0.4525171051797905 , -0.007715139910969393\n",
      "Selected features: 5 0.4658230626227501 , -0.007080011420876665\n",
      "Selected features: 6 0.4814397383975325 , -0.015569455302841151\n",
      "Selected features: 7 0.49406058756891147 , -0.01206710857533011\n",
      "Selected features: 8 0.5000857223830855 , -0.0041609454879267815\n",
      "Selected features: 9 0.507172468109397 , -0.01721503661922208\n",
      "Selected features: 10 0.5127163655223388 , -0.009845954066717288\n",
      "Selected features: 11 0.5159931415916539 , -0.008449535054301904\n",
      "Selected features: 12 0.5208136677986026 , -0.012707300532879273\n",
      "Selected features: 13 0.5265194098398605 , -0.021132157997239664\n",
      "Selected features: 14 0.528457111276402 , -0.015357485529958746\n",
      "Selected features: 15 0.5300997312308934 , -0.020104499327621594\n",
      "Selected features: 16 0.5329666998090977 , -0.005584880716180907\n",
      "Selected features: 17 0.5357913097840215 , -0.016154156786314156\n"
     ]
    }
   ],
   "source": [
    "#RF\n",
    "features = range(1,X.shape[1])\n",
    "for feat in features:\n",
    "    rf = RandomForestRegressor(n_estimators=500,min_samples_leaf=5,max_features=feat,random_state=32)\n",
    "    rf.fit(X_train, y_train)\n",
    "    print(\"Selected features:\",feat,rf.score(X_train, y_train),\",\",rf.score(X_test, y_test))"
   ]
  },
  {
   "cell_type": "code",
   "execution_count": 853,
   "metadata": {
    "collapsed": true
   },
   "outputs": [
    {
     "name": "stdout",
     "output_type": "stream",
     "text": [
      "For learning rate 0.05 10 trees 1 max_depth : 0.572354211663067 , 0.5483870967741935\n",
      "For learning rate 0.05 10 trees 2 max_depth : 0.5766738660907127 , 0.5483870967741935\n",
      "For learning rate 0.05 10 trees 3 max_depth : 0.5896328293736501 , 0.5419354838709678\n",
      "For learning rate 0.05 10 trees 4 max_depth : 0.6652267818574514 , 0.535483870967742\n",
      "For learning rate 0.05 100 trees 1 max_depth : 0.6198704103671706 , 0.5419354838709678\n",
      "For learning rate 0.05 100 trees 2 max_depth : 0.7732181425485961 , 0.5225806451612903\n",
      "For learning rate 0.05 100 trees 3 max_depth : 0.8920086393088553 , 0.5225806451612903\n",
      "For learning rate 0.05 100 trees 4 max_depth : 0.9654427645788337 , 0.5096774193548387\n",
      "For learning rate 0.05 1000 trees 1 max_depth : 0.7926565874730022 , 0.5096774193548387\n",
      "For learning rate 0.05 1000 trees 2 max_depth : 0.9892008639308856 , 0.5161290322580645\n",
      "For learning rate 0.05 1000 trees 3 max_depth : 0.9956803455723542 , 0.4967741935483871\n",
      "For learning rate 0.05 1000 trees 4 max_depth : 0.9956803455723542 , 0.535483870967742\n",
      "For learning rate 0.075 10 trees 1 max_depth : 0.572354211663067 , 0.5483870967741935\n",
      "For learning rate 0.075 10 trees 2 max_depth : 0.5853131749460043 , 0.535483870967742\n",
      "For learning rate 0.075 10 trees 3 max_depth : 0.6501079913606912 , 0.5419354838709678\n",
      "For learning rate 0.075 10 trees 4 max_depth : 0.7235421166306696 , 0.535483870967742\n",
      "For learning rate 0.075 100 trees 1 max_depth : 0.6501079913606912 , 0.535483870967742\n",
      "For learning rate 0.075 100 trees 2 max_depth : 0.8185745140388769 , 0.5741935483870968\n",
      "For learning rate 0.075 100 trees 3 max_depth : 0.9308855291576674 , 0.5096774193548387\n",
      "For learning rate 0.075 100 trees 4 max_depth : 0.9827213822894169 , 0.5161290322580645\n",
      "For learning rate 0.075 1000 trees 1 max_depth : 0.8272138228941684 , 0.5290322580645161\n",
      "For learning rate 0.075 1000 trees 2 max_depth : 0.9956803455723542 , 0.5032258064516129\n",
      "For learning rate 0.075 1000 trees 3 max_depth : 0.9956803455723542 , 0.5548387096774193\n",
      "For learning rate 0.075 1000 trees 4 max_depth : 0.9956803455723542 , 0.5419354838709678\n",
      "For learning rate 0.1 10 trees 1 max_depth : 0.572354211663067 , 0.5483870967741935\n",
      "For learning rate 0.1 10 trees 2 max_depth : 0.6177105831533477 , 0.5225806451612903\n",
      "For learning rate 0.1 10 trees 3 max_depth : 0.6889848812095032 , 0.567741935483871\n",
      "For learning rate 0.1 10 trees 4 max_depth : 0.7645788336933045 , 0.5483870967741935\n",
      "For learning rate 0.1 100 trees 1 max_depth : 0.6781857451403888 , 0.5032258064516129\n",
      "For learning rate 0.1 100 trees 2 max_depth : 0.8552915766738661 , 0.5419354838709678\n",
      "For learning rate 0.1 100 trees 3 max_depth : 0.9568034557235421 , 0.535483870967742\n",
      "For learning rate 0.1 100 trees 4 max_depth : 0.9935205183585313 , 0.5290322580645161\n",
      "For learning rate 0.1 1000 trees 1 max_depth : 0.8682505399568035 , 0.535483870967742\n",
      "For learning rate 0.1 1000 trees 2 max_depth : 0.9956803455723542 , 0.5096774193548387\n",
      "For learning rate 0.1 1000 trees 3 max_depth : 0.9956803455723542 , 0.5290322580645161\n",
      "For learning rate 0.1 1000 trees 4 max_depth : 0.9956803455723542 , 0.5096774193548387\n",
      "For learning rate 0.25 10 trees 1 max_depth : 0.6090712742980562 , 0.4967741935483871\n",
      "For learning rate 0.25 10 trees 2 max_depth : 0.673866090712743 , 0.535483870967742\n",
      "For learning rate 0.25 10 trees 3 max_depth : 0.7688984881209503 , 0.5161290322580645\n",
      "For learning rate 0.25 10 trees 4 max_depth : 0.8293736501079914 , 0.5290322580645161\n",
      "For learning rate 0.25 100 trees 1 max_depth : 0.7429805615550756 , 0.5419354838709678\n",
      "For learning rate 0.25 100 trees 2 max_depth : 0.9092872570194385 , 0.5225806451612903\n",
      "For learning rate 0.25 100 trees 3 max_depth : 0.9956803455723542 , 0.535483870967742\n",
      "For learning rate 0.25 100 trees 4 max_depth : 0.9956803455723542 , 0.5225806451612903\n",
      "For learning rate 0.25 1000 trees 1 max_depth : 0.9287257019438445 , 0.49032258064516127\n",
      "For learning rate 0.25 1000 trees 2 max_depth : 0.9956803455723542 , 0.4774193548387097\n",
      "For learning rate 0.25 1000 trees 3 max_depth : 0.9956803455723542 , 0.535483870967742\n",
      "For learning rate 0.25 1000 trees 4 max_depth : 0.9956803455723542 , 0.5290322580645161\n",
      "For learning rate 0.5 10 trees 1 max_depth : 0.6349892008639308 , 0.5161290322580645\n",
      "For learning rate 0.5 10 trees 2 max_depth : 0.6911447084233261 , 0.5161290322580645\n",
      "For learning rate 0.5 10 trees 3 max_depth : 0.816414686825054 , 0.47096774193548385\n",
      "For learning rate 0.5 10 trees 4 max_depth : 0.8725701943844493 , 0.4967741935483871\n",
      "For learning rate 0.5 100 trees 1 max_depth : 0.7840172786177105 , 0.567741935483871\n",
      "For learning rate 0.5 100 trees 2 max_depth : 0.9697624190064795 , 0.5612903225806452\n",
      "For learning rate 0.5 100 trees 3 max_depth : 0.9956803455723542 , 0.5290322580645161\n",
      "For learning rate 0.5 100 trees 4 max_depth : 0.9935205183585313 , 0.5290322580645161\n",
      "For learning rate 0.5 1000 trees 1 max_depth : 0.978401727861771 , 0.4967741935483871\n",
      "For learning rate 0.5 1000 trees 2 max_depth : 0.9956803455723542 , 0.5096774193548387\n",
      "For learning rate 0.5 1000 trees 3 max_depth : 0.9956803455723542 , 0.535483870967742\n",
      "For learning rate 0.5 1000 trees 4 max_depth : 0.9935205183585313 , 0.5419354838709678\n",
      "For learning rate 0.75 10 trees 1 max_depth : 0.591792656587473 , 0.5096774193548387\n",
      "For learning rate 0.75 10 trees 2 max_depth : 0.6997840172786177 , 0.5290322580645161\n",
      "For learning rate 0.75 10 trees 3 max_depth : 0.7883369330453563 , 0.5225806451612903\n",
      "For learning rate 0.75 10 trees 4 max_depth : 0.8790496760259179 , 0.4967741935483871\n",
      "For learning rate 0.75 100 trees 1 max_depth : 0.8056155507559395 , 0.4967741935483871\n",
      "For learning rate 0.75 100 trees 2 max_depth : 0.9092872570194385 , 0.5032258064516129\n",
      "For learning rate 0.75 100 trees 3 max_depth : 0.9524838012958964 , 0.5032258064516129\n",
      "For learning rate 0.75 100 trees 4 max_depth : 0.9956803455723542 , 0.535483870967742\n",
      "For learning rate 0.75 1000 trees 1 max_depth : 0.9935205183585313 , 0.45161290322580644\n",
      "For learning rate 0.75 1000 trees 2 max_depth : 0.9395248380129589 , 0.45161290322580644\n",
      "For learning rate 0.75 1000 trees 3 max_depth : 0.9762419006479481 , 0.5161290322580645\n",
      "For learning rate 0.75 1000 trees 4 max_depth : 0.9956803455723542 , 0.535483870967742\n",
      "For learning rate 1 10 trees 1 max_depth : 0.5831533477321814 , 0.44516129032258067\n",
      "For learning rate 1 10 trees 2 max_depth : 0.7084233261339092 , 0.5032258064516129\n",
      "For learning rate 1 10 trees 3 max_depth : 0.7926565874730022 , 0.49032258064516127\n",
      "For learning rate 1 10 trees 4 max_depth : 0.8660907127429806 , 0.4967741935483871\n",
      "For learning rate 1 100 trees 1 max_depth : 0.796976241900648 , 0.49032258064516127\n",
      "For learning rate 1 100 trees 2 max_depth : 0.9935205183585313 , 0.4774193548387097\n",
      "For learning rate 1 100 trees 3 max_depth : 0.980561555075594 , 0.535483870967742\n",
      "For learning rate 1 100 trees 4 max_depth : 0.978401727861771 , 0.5096774193548387\n",
      "For learning rate 1 1000 trees 1 max_depth : 0.896328293736501 , 0.49032258064516127\n",
      "For learning rate 1 1000 trees 2 max_depth : 0.958963282937365 , 0.45161290322580644\n",
      "For learning rate 1 1000 trees 3 max_depth : 0.9265658747300216 , 0.49032258064516127\n",
      "For learning rate 1 1000 trees 4 max_depth : 0.9006479481641468 , 0.5548387096774193\n"
     ]
    }
   ],
   "source": [
    "#SGB\n",
    "lr_list = [0.05, 0.075, 0.1, 0.25, 0.5, 0.75, 1]\n",
    "trees = [10, 100, 1000]\n",
    "depth = range(1,5)\n",
    "for learning_rate in lr_list:\n",
    "    for tree in trees:\n",
    "        for max_depth in depth:\n",
    "            gb_clf = GradientBoostingClassifier(n_estimators=tree, learning_rate=learning_rate, subsample=0.7, max_depth=max_depth, random_state=20)\n",
    "            gb_clf.fit(X_train, y_train)\n",
    "            print(\"For learning rate\",learning_rate,tree,\"trees\",max_depth,\"max_depth\",\":\",gb_clf.score(X_train, y_train),\",\",gb_clf.score(X_test, y_test))"
   ]
  },
  {
   "cell_type": "markdown",
   "metadata": {},
   "source": [
    "## Classification Problem\n",
    "### Generally sorting order by scores on training data:\n",
    "##### SGB > DT > RF > PRA\n",
    "### max training scores:\n",
    "#### SGB:0.996, DT:0.996, RF:0.536, PRA:0.004\n",
    "### max test scores:\n",
    "#### SGB:0.574, DT:0.535 , RF:0.001, PRA:0.004\n",
    "### When max training scores are chosen, test scores:\n",
    "#### SGB:0.555, DT:0.510 , RF:-0.016, PRA:0.004\n",
    "### CrossValidation error and test error is different on RF especially\n",
    "### RFA and PRA are underfitted since test scores so low according to training scores with even max test score. SGB and DT also can be underfitted but it cannot be said easily. Some training results may be too high which also indicates overfitting on training data for that parameters.\n",
    "\n",
    "### The parameters selected according to cross-validation on training data:\n",
    "#### SGB: learning rate 0.075, number of trees 1000, max_depth 3\n",
    "#### DT: the minimal number of observations per tree leaf 1\n",
    "#### RF: number of features 17\n",
    "#### PRA: lambda 0.123\n"
   ]
  },
  {
   "cell_type": "code",
   "execution_count": null,
   "metadata": {},
   "outputs": [],
   "source": []
  }
 ],
 "metadata": {
  "kernelspec": {
   "display_name": "Python 3",
   "language": "python",
   "name": "python3"
  },
  "language_info": {
   "codemirror_mode": {
    "name": "ipython",
    "version": 3
   },
   "file_extension": ".py",
   "mimetype": "text/x-python",
   "name": "python",
   "nbconvert_exporter": "python",
   "pygments_lexer": "ipython3",
   "version": "3.7.3"
  }
 },
 "nbformat": 4,
 "nbformat_minor": 2
}
